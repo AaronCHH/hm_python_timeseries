{
 "cells": [
  {
   "cell_type": "markdown",
   "metadata": {},
   "source": [
    "# 第11章：時間序列分析"
   ]
  },
  {
   "cell_type": "markdown",
   "metadata": {},
   "source": [
    "## 11.1 了解Python和Pandas日期工具的區別"
   ]
  },
  {
   "cell_type": "code",
   "execution_count": 2,
   "metadata": {
    "lines_to_next_cell": 2
   },
   "outputs": [],
   "source": [
    "import numpy as np\n",
    "import pandas as pd\n",
    "\n",
    "# pd.set_option('max_columns', 4, 'max_rows', 10,'max_colwidth', 12)"
   ]
  },
  {
   "cell_type": "code",
   "execution_count": 3,
   "metadata": {
    "lines_to_next_cell": 2
   },
   "outputs": [
    {
     "name": "stdout",
     "output_type": "stream",
     "text": [
      "date is 2022-06-07\n"
     ]
    }
   ],
   "source": [
    "import datetime\n",
    "\n",
    "date = datetime.date(year=2022, month=6, day=7)\n",
    "time = datetime.time(hour=12, minute=30, second=19, microsecond=463198)\n",
    "dt = datetime.datetime(\n",
    "  year=2022, month=6, day=7, hour=12, minute=30, second=19, microsecond=463198\n",
    ")\n",
    "print(f\"date is {date}\")"
   ]
  },
  {
   "cell_type": "code",
   "execution_count": 4,
   "metadata": {
    "lines_to_next_cell": 2
   },
   "outputs": [
    {
     "name": "stdout",
     "output_type": "stream",
     "text": [
      "time is 12:30:19.463198\n"
     ]
    }
   ],
   "source": [
    "print(f\"time is {time}\")"
   ]
  },
  {
   "cell_type": "code",
   "execution_count": 5,
   "metadata": {
    "lines_to_next_cell": 2
   },
   "outputs": [
    {
     "name": "stdout",
     "output_type": "stream",
     "text": [
      "datetime is 2022-06-07 12:30:19.463198\n"
     ]
    }
   ],
   "source": [
    "print(f\"datetime is {dt}\")"
   ]
  },
  {
   "cell_type": "code",
   "execution_count": 6,
   "metadata": {
    "lines_to_next_cell": 2
   },
   "outputs": [
    {
     "data": {
      "text/plain": [
       "datetime.timedelta(days=19, seconds=37206, microseconds=829008)"
      ]
     },
     "execution_count": 6,
     "metadata": {},
     "output_type": "execute_result"
    }
   ],
   "source": [
    "td = datetime.timedelta(\n",
    "  weeks=2, days=5, hours=10, minutes=20, seconds=6.73, milliseconds=99, microseconds=8\n",
    ")\n",
    "td"
   ]
  },
  {
   "cell_type": "code",
   "execution_count": 7,
   "metadata": {
    "lines_to_next_cell": 2
   },
   "outputs": [
    {
     "name": "stdout",
     "output_type": "stream",
     "text": [
      "new date is 2022-06-26\n"
     ]
    }
   ],
   "source": [
    "print(f\"new date is {date+td}\")"
   ]
  },
  {
   "cell_type": "code",
   "execution_count": 8,
   "metadata": {
    "lines_to_next_cell": 2
   },
   "outputs": [
    {
     "name": "stdout",
     "output_type": "stream",
     "text": [
      "new datetime is 2022-06-26 22:50:26.292206\n"
     ]
    }
   ],
   "source": [
    "print(f\"new datetime is {dt+td}\")"
   ]
  },
  {
   "cell_type": "code",
   "execution_count": null,
   "metadata": {
    "lines_to_next_cell": 2
   },
   "outputs": [],
   "source": [
    "# time + td"
   ]
  },
  {
   "cell_type": "code",
   "execution_count": 9,
   "metadata": {
    "lines_to_next_cell": 2
   },
   "outputs": [
    {
     "data": {
      "text/plain": [
       "Timestamp('2021-12-21 05:10:08.000099')"
      ]
     },
     "execution_count": 9,
     "metadata": {},
     "output_type": "execute_result"
    }
   ],
   "source": [
    "pd.Timestamp(year=2021, month=12, day=21, hour=5, minute=10, second=8, microsecond=99)"
   ]
  },
  {
   "cell_type": "code",
   "execution_count": 10,
   "metadata": {
    "lines_to_next_cell": 2
   },
   "outputs": [
    {
     "data": {
      "text/plain": [
       "Timestamp('2016-01-10 00:00:00')"
      ]
     },
     "execution_count": 10,
     "metadata": {},
     "output_type": "execute_result"
    }
   ],
   "source": [
    "pd.Timestamp(\"2016/1/10\")"
   ]
  },
  {
   "cell_type": "code",
   "execution_count": 11,
   "metadata": {
    "lines_to_next_cell": 2
   },
   "outputs": [
    {
     "data": {
      "text/plain": [
       "Timestamp('2014-05-10 00:00:00')"
      ]
     },
     "execution_count": 11,
     "metadata": {},
     "output_type": "execute_result"
    }
   ],
   "source": [
    "pd.Timestamp(\"2014-5/10\")"
   ]
  },
  {
   "cell_type": "code",
   "execution_count": 12,
   "metadata": {
    "lines_to_next_cell": 2
   },
   "outputs": [
    {
     "data": {
      "text/plain": [
       "Timestamp('2019-01-03 20:45:33')"
      ]
     },
     "execution_count": 12,
     "metadata": {},
     "output_type": "execute_result"
    }
   ],
   "source": [
    "pd.Timestamp(\"Jan 3, 2019 20:45.56\")"
   ]
  },
  {
   "cell_type": "code",
   "execution_count": 13,
   "metadata": {
    "lines_to_next_cell": 2
   },
   "outputs": [
    {
     "data": {
      "text/plain": [
       "Timestamp('2016-01-05 05:34:43.123456789')"
      ]
     },
     "execution_count": 13,
     "metadata": {},
     "output_type": "execute_result"
    }
   ],
   "source": [
    "pd.Timestamp(\"2016-01-05T05:34:43.123456789\")"
   ]
  },
  {
   "cell_type": "code",
   "execution_count": 14,
   "metadata": {
    "lines_to_next_cell": 2
   },
   "outputs": [
    {
     "data": {
      "text/plain": [
       "Timestamp('1970-01-01 00:00:00.000000500')"
      ]
     },
     "execution_count": 14,
     "metadata": {},
     "output_type": "execute_result"
    }
   ],
   "source": [
    "pd.Timestamp(500)"
   ]
  },
  {
   "cell_type": "code",
   "execution_count": 15,
   "metadata": {
    "lines_to_next_cell": 2
   },
   "outputs": [
    {
     "data": {
      "text/plain": [
       "Timestamp('1983-09-10 00:00:00')"
      ]
     },
     "execution_count": 15,
     "metadata": {},
     "output_type": "execute_result"
    }
   ],
   "source": [
    "pd.Timestamp(5000, unit=\"D\")"
   ]
  },
  {
   "cell_type": "code",
   "execution_count": 16,
   "metadata": {
    "lines_to_next_cell": 2
   },
   "outputs": [
    {
     "data": {
      "text/plain": [
       "Timestamp('2015-05-13 00:00:00')"
      ]
     },
     "execution_count": 16,
     "metadata": {},
     "output_type": "execute_result"
    }
   ],
   "source": [
    "pd.to_datetime(\"2015-5-13\")"
   ]
  },
  {
   "cell_type": "code",
   "execution_count": 17,
   "metadata": {
    "lines_to_next_cell": 2
   },
   "outputs": [
    {
     "data": {
      "text/plain": [
       "Timestamp('2015-05-13 00:00:00')"
      ]
     },
     "execution_count": 17,
     "metadata": {},
     "output_type": "execute_result"
    }
   ],
   "source": [
    "pd.to_datetime(\"2015-13-5\", dayfirst=True)"
   ]
  },
  {
   "cell_type": "code",
   "execution_count": 18,
   "metadata": {
    "lines_to_next_cell": 2
   },
   "outputs": [
    {
     "data": {
      "text/plain": [
       "Timestamp('2017-09-30 13:30:00')"
      ]
     },
     "execution_count": 18,
     "metadata": {},
     "output_type": "execute_result"
    }
   ],
   "source": [
    "pd.to_datetime(\n",
    "  \"Start Date: Sep 30, 2017 Start Time: 1:30 pm\",\n",
    "  format=\"Start Date: %b %d, %Y Start Time: %I:%M %p\",\n",
    ")"
   ]
  },
  {
   "cell_type": "code",
   "execution_count": 19,
   "metadata": {
    "lines_to_next_cell": 2
   },
   "outputs": [
    {
     "data": {
      "text/plain": [
       "Timestamp('2013-04-11 00:00:00')"
      ]
     },
     "execution_count": 19,
     "metadata": {},
     "output_type": "execute_result"
    }
   ],
   "source": [
    "pd.to_datetime(100, unit=\"D\", origin=\"2013-1-1\")"
   ]
  },
  {
   "cell_type": "code",
   "execution_count": 20,
   "metadata": {
    "lines_to_next_cell": 2
   },
   "outputs": [
    {
     "data": {
      "text/plain": [
       "0   1970-01-11\n",
       "1   1970-04-11\n",
       "2   1972-09-27\n",
       "3   1997-05-19\n",
       "dtype: datetime64[ns]"
      ]
     },
     "execution_count": 20,
     "metadata": {},
     "output_type": "execute_result"
    }
   ],
   "source": [
    "s = pd.Series([10, 100, 1000, 10000])\n",
    "pd.to_datetime(s, unit=\"D\")"
   ]
  },
  {
   "cell_type": "code",
   "execution_count": 21,
   "metadata": {
    "lines_to_next_cell": 2
   },
   "outputs": [
    {
     "data": {
      "text/plain": [
       "0   2015-05-12\n",
       "1   2013-01-14\n",
       "2   2017-12-20\n",
       "3          NaT\n",
       "dtype: datetime64[ns]"
      ]
     },
     "execution_count": 21,
     "metadata": {},
     "output_type": "execute_result"
    }
   ],
   "source": [
    "s = pd.Series([\"12-5-2015\", \"14-1-2013\", \"20/12/2017\", \"40/23/2017\"])\n",
    "pd.to_datetime(s, dayfirst=True, errors=\"coerce\")"
   ]
  },
  {
   "cell_type": "code",
   "execution_count": 22,
   "metadata": {
    "lines_to_next_cell": 2
   },
   "outputs": [
    {
     "data": {
      "text/plain": [
       "DatetimeIndex(['1999-08-03 03:45:56', '2017-10-31 00:00:00'], dtype='datetime64[ns]', freq=None)"
      ]
     },
     "execution_count": 22,
     "metadata": {},
     "output_type": "execute_result"
    }
   ],
   "source": [
    "pd.to_datetime([\"Aug 3 1999 3:45:56\", \"10/31/2017\"])"
   ]
  },
  {
   "cell_type": "code",
   "execution_count": 23,
   "metadata": {
    "lines_to_next_cell": 2
   },
   "outputs": [
    {
     "data": {
      "text/plain": [
       "Timedelta('12 days 05:03:00.123456789')"
      ]
     },
     "execution_count": 23,
     "metadata": {},
     "output_type": "execute_result"
    }
   ],
   "source": [
    "pd.Timedelta(\"12 days 5 hours 3 minutes 123456789 nanoseconds\")"
   ]
  },
  {
   "cell_type": "code",
   "execution_count": 24,
   "metadata": {
    "lines_to_next_cell": 2
   },
   "outputs": [
    {
     "data": {
      "text/plain": [
       "Timedelta('5 days 00:07:20.400000')"
      ]
     },
     "execution_count": 24,
     "metadata": {},
     "output_type": "execute_result"
    }
   ],
   "source": [
    "pd.Timedelta(days=5, minutes=7.34)"
   ]
  },
  {
   "cell_type": "code",
   "execution_count": 25,
   "metadata": {
    "lines_to_next_cell": 2
   },
   "outputs": [
    {
     "data": {
      "text/plain": [
       "Timedelta('700 days 00:00:00')"
      ]
     },
     "execution_count": 25,
     "metadata": {},
     "output_type": "execute_result"
    }
   ],
   "source": [
    "pd.Timedelta(100, unit=\"W\")"
   ]
  },
  {
   "cell_type": "code",
   "execution_count": 26,
   "metadata": {
    "lines_to_next_cell": 2
   },
   "outputs": [
    {
     "data": {
      "text/plain": [
       "Timedelta('2 days 19:15:45.454000')"
      ]
     },
     "execution_count": 26,
     "metadata": {},
     "output_type": "execute_result"
    }
   ],
   "source": [
    "pd.to_timedelta(\"67:15:45.454\")"
   ]
  },
  {
   "cell_type": "code",
   "execution_count": 27,
   "metadata": {
    "lines_to_next_cell": 2
   },
   "outputs": [
    {
     "data": {
      "text/plain": [
       "0   0 days 00:00:10\n",
       "1   0 days 00:01:40\n",
       "dtype: timedelta64[ns]"
      ]
     },
     "execution_count": 27,
     "metadata": {},
     "output_type": "execute_result"
    }
   ],
   "source": [
    "s = pd.Series([10, 100])\n",
    "pd.to_timedelta(s, unit=\"s\")"
   ]
  },
  {
   "cell_type": "code",
   "execution_count": 28,
   "metadata": {
    "lines_to_next_cell": 2
   },
   "outputs": [
    {
     "data": {
      "text/plain": [
       "TimedeltaIndex(['2 days 00:25:29.670000', '0 days 00:45:23.600000'], dtype='timedelta64[ns]', freq=None)"
      ]
     },
     "execution_count": 28,
     "metadata": {},
     "output_type": "execute_result"
    }
   ],
   "source": [
    "time_strings = [\"2 days 24 minutes 89.67 seconds\", \"00:45:23.6\"]\n",
    "pd.to_timedelta(time_strings)"
   ]
  },
  {
   "cell_type": "code",
   "execution_count": 29,
   "metadata": {
    "lines_to_next_cell": 2
   },
   "outputs": [
    {
     "data": {
      "text/plain": [
       "Timedelta('24 days 10:06:00')"
      ]
     },
     "execution_count": 29,
     "metadata": {},
     "output_type": "execute_result"
    }
   ],
   "source": [
    "pd.Timedelta(\"12 days 5 hours 3 minutes\") * 2"
   ]
  },
  {
   "cell_type": "code",
   "execution_count": 30,
   "metadata": {
    "lines_to_next_cell": 2
   },
   "outputs": [
    {
     "data": {
      "text/plain": [
       "Timestamp('2022-01-25 10:06:00')"
      ]
     },
     "execution_count": 30,
     "metadata": {},
     "output_type": "execute_result"
    }
   ],
   "source": [
    "(pd.Timestamp(\"1/1/2022\") + pd.Timedelta(\"12 days 5 hours 3 minutes\") * 2)"
   ]
  },
  {
   "cell_type": "code",
   "execution_count": 31,
   "metadata": {
    "lines_to_next_cell": 2
   },
   "outputs": [
    {
     "data": {
      "text/plain": [
       "TimedeltaIndex(['0 days 03:00:10', '0 days 04:01:40'], dtype='timedelta64[ns]', freq=None)"
      ]
     },
     "execution_count": 31,
     "metadata": {},
     "output_type": "execute_result"
    }
   ],
   "source": [
    "td1 = pd.to_timedelta([10, 100], unit=\"s\")\n",
    "td2 = pd.to_timedelta([\"3 hours\", \"4 hours\"])\n",
    "td1 + td2"
   ]
  },
  {
   "cell_type": "code",
   "execution_count": 32,
   "metadata": {
    "lines_to_next_cell": 2
   },
   "outputs": [
    {
     "data": {
      "text/plain": [
       "4.0"
      ]
     },
     "execution_count": 32,
     "metadata": {},
     "output_type": "execute_result"
    }
   ],
   "source": [
    "pd.Timedelta(\"12 days\") / pd.Timedelta(\"3 days\")"
   ]
  },
  {
   "cell_type": "code",
   "execution_count": 33,
   "metadata": {
    "lines_to_next_cell": 2
   },
   "outputs": [
    {
     "data": {
      "text/plain": [
       "Timestamp('2021-10-01 05:00:00')"
      ]
     },
     "execution_count": 33,
     "metadata": {},
     "output_type": "execute_result"
    }
   ],
   "source": [
    "ts = pd.Timestamp(\"2021-10-1 4:23:23.9\")\n",
    "ts.ceil(\"h\")"
   ]
  },
  {
   "cell_type": "code",
   "execution_count": 34,
   "metadata": {
    "lines_to_next_cell": 2
   },
   "outputs": [
    {
     "data": {
      "text/plain": [
       "(2021, 10, 1, 4, 23, 23)"
      ]
     },
     "execution_count": 34,
     "metadata": {},
     "output_type": "execute_result"
    }
   ],
   "source": [
    "ts.year, ts.month, ts.day, ts.hour, ts.minute, ts.second"
   ]
  },
  {
   "cell_type": "code",
   "execution_count": 35,
   "metadata": {
    "lines_to_next_cell": 2
   },
   "outputs": [
    {
     "data": {
      "text/plain": [
       "(4, 274, 31)"
      ]
     },
     "execution_count": 35,
     "metadata": {},
     "output_type": "execute_result"
    }
   ],
   "source": [
    "ts.dayofweek, ts.dayofyear, ts.daysinmonth"
   ]
  },
  {
   "cell_type": "code",
   "execution_count": 36,
   "metadata": {
    "lines_to_next_cell": 2
   },
   "outputs": [
    {
     "data": {
      "text/plain": [
       "datetime.datetime(2021, 10, 1, 4, 23, 23, 900000)"
      ]
     },
     "execution_count": 36,
     "metadata": {},
     "output_type": "execute_result"
    }
   ],
   "source": [
    "ts.to_pydatetime()"
   ]
  },
  {
   "cell_type": "code",
   "execution_count": 37,
   "metadata": {
    "lines_to_next_cell": 2
   },
   "outputs": [
    {
     "data": {
      "text/plain": [
       "Timedelta('5 days 05:52:20.280000')"
      ]
     },
     "execution_count": 37,
     "metadata": {},
     "output_type": "execute_result"
    }
   ],
   "source": [
    "td = pd.Timedelta(125.8723, unit=\"h\")\n",
    "td"
   ]
  },
  {
   "cell_type": "code",
   "execution_count": 38,
   "metadata": {
    "lines_to_next_cell": 2
   },
   "outputs": [
    {
     "data": {
      "text/plain": [
       "Timedelta('5 days 05:52:00')"
      ]
     },
     "execution_count": 38,
     "metadata": {},
     "output_type": "execute_result"
    }
   ],
   "source": [
    "td.round(\"min\")"
   ]
  },
  {
   "cell_type": "code",
   "execution_count": 39,
   "metadata": {
    "lines_to_next_cell": 2
   },
   "outputs": [
    {
     "data": {
      "text/plain": [
       "Components(days=5, hours=5, minutes=52, seconds=20, milliseconds=280, microseconds=0, nanoseconds=0)"
      ]
     },
     "execution_count": 39,
     "metadata": {},
     "output_type": "execute_result"
    }
   ],
   "source": [
    "td.components"
   ]
  },
  {
   "cell_type": "code",
   "execution_count": 40,
   "metadata": {
    "lines_to_next_cell": 2
   },
   "outputs": [
    {
     "data": {
      "text/plain": [
       "453140.28"
      ]
     },
     "execution_count": 40,
     "metadata": {},
     "output_type": "execute_result"
    }
   ],
   "source": [
    "td.total_seconds()"
   ]
  },
  {
   "cell_type": "markdown",
   "metadata": {},
   "source": [
    "## 11.2 對時間序列切片"
   ]
  },
  {
   "cell_type": "code",
   "execution_count": 41,
   "metadata": {
    "lines_to_next_cell": 2
   },
   "outputs": [
    {
     "data": {
      "text/plain": [
       "OFFENSE_TYPE_ID              category\n",
       "OFFENSE_CATEGORY_ID          category\n",
       "REPORTED_DATE          datetime64[ns]\n",
       "GEO_LON                       float64\n",
       "GEO_LAT                       float64\n",
       "NEIGHBORHOOD_ID              category\n",
       "IS_CRIME                        int64\n",
       "IS_TRAFFIC                      int64\n",
       "dtype: object"
      ]
     },
     "execution_count": 41,
     "metadata": {},
     "output_type": "execute_result"
    }
   ],
   "source": [
    "crime = pd.read_hdf(\"data/crime.h5\", \"crime\")\n",
    "crime.dtypes"
   ]
  },
  {
   "cell_type": "code",
   "execution_count": 42,
   "metadata": {},
   "outputs": [
    {
     "data": {
      "text/plain": [
       "(22.9, 116.2)"
      ]
     },
     "execution_count": 42,
     "metadata": {},
     "output_type": "execute_result"
    }
   ],
   "source": [
    "mem_cat = crime.memory_usage().sum()\n",
    "mem_obj = (\n",
    "  crime.astype(\n",
    "    {\n",
    "      \"OFFENSE_TYPE_ID\": \"object\",\n",
    "      \"OFFENSE_CATEGORY_ID\": \"object\",\n",
    "      \"NEIGHBORHOOD_ID\": \"object\",\n",
    "    }\n",
    "  )\n",
    "  .memory_usage(deep=True)\n",
    "  .sum()\n",
    ")\n",
    "mb = 2 ** 20\n",
    "round(mem_cat / mb, 1), round(mem_obj / mb, 1)"
   ]
  },
  {
   "cell_type": "code",
   "execution_count": 43,
   "metadata": {
    "lines_to_next_cell": 2
   },
   "outputs": [
    {
     "data": {
      "text/html": [
       "<div>\n",
       "<style scoped>\n",
       "    .dataframe tbody tr th:only-of-type {\n",
       "        vertical-align: middle;\n",
       "    }\n",
       "\n",
       "    .dataframe tbody tr th {\n",
       "        vertical-align: top;\n",
       "    }\n",
       "\n",
       "    .dataframe thead th {\n",
       "        text-align: right;\n",
       "    }\n",
       "</style>\n",
       "<table border=\"1\" class=\"dataframe\">\n",
       "  <thead>\n",
       "    <tr style=\"text-align: right;\">\n",
       "      <th></th>\n",
       "      <th>OFFENSE_TYPE_ID</th>\n",
       "      <th>OFFENSE_CATEGORY_ID</th>\n",
       "      <th>GEO_LON</th>\n",
       "      <th>GEO_LAT</th>\n",
       "      <th>NEIGHBORHOOD_ID</th>\n",
       "      <th>IS_CRIME</th>\n",
       "      <th>IS_TRAFFIC</th>\n",
       "    </tr>\n",
       "    <tr>\n",
       "      <th>REPORTED_DATE</th>\n",
       "      <th></th>\n",
       "      <th></th>\n",
       "      <th></th>\n",
       "      <th></th>\n",
       "      <th></th>\n",
       "      <th></th>\n",
       "      <th></th>\n",
       "    </tr>\n",
       "  </thead>\n",
       "  <tbody>\n",
       "    <tr>\n",
       "      <th>2014-06-29 02:01:00</th>\n",
       "      <td>traffic-accident-dui-duid</td>\n",
       "      <td>traffic-accident</td>\n",
       "      <td>-105.000149</td>\n",
       "      <td>39.745753</td>\n",
       "      <td>cbd</td>\n",
       "      <td>0</td>\n",
       "      <td>1</td>\n",
       "    </tr>\n",
       "    <tr>\n",
       "      <th>2014-06-29 01:54:00</th>\n",
       "      <td>vehicular-eluding-no-chase</td>\n",
       "      <td>all-other-crimes</td>\n",
       "      <td>-104.884660</td>\n",
       "      <td>39.738702</td>\n",
       "      <td>east-colfax</td>\n",
       "      <td>1</td>\n",
       "      <td>0</td>\n",
       "    </tr>\n",
       "    <tr>\n",
       "      <th>2014-06-29 02:00:00</th>\n",
       "      <td>disturbing-the-peace</td>\n",
       "      <td>public-disorder</td>\n",
       "      <td>-105.020719</td>\n",
       "      <td>39.706674</td>\n",
       "      <td>athmar-park</td>\n",
       "      <td>1</td>\n",
       "      <td>0</td>\n",
       "    </tr>\n",
       "    <tr>\n",
       "      <th>2014-06-29 02:18:00</th>\n",
       "      <td>curfew</td>\n",
       "      <td>public-disorder</td>\n",
       "      <td>-105.001552</td>\n",
       "      <td>39.769505</td>\n",
       "      <td>sunnyside</td>\n",
       "      <td>1</td>\n",
       "      <td>0</td>\n",
       "    </tr>\n",
       "    <tr>\n",
       "      <th>2014-06-29 04:17:00</th>\n",
       "      <td>aggravated-assault</td>\n",
       "      <td>aggravated-assault</td>\n",
       "      <td>-105.018557</td>\n",
       "      <td>39.679229</td>\n",
       "      <td>college-view-south-platte</td>\n",
       "      <td>1</td>\n",
       "      <td>0</td>\n",
       "    </tr>\n",
       "    <tr>\n",
       "      <th>...</th>\n",
       "      <td>...</td>\n",
       "      <td>...</td>\n",
       "      <td>...</td>\n",
       "      <td>...</td>\n",
       "      <td>...</td>\n",
       "      <td>...</td>\n",
       "      <td>...</td>\n",
       "    </tr>\n",
       "    <tr>\n",
       "      <th>2017-09-13 05:48:00</th>\n",
       "      <td>burglary-business-by-force</td>\n",
       "      <td>burglary</td>\n",
       "      <td>-105.033840</td>\n",
       "      <td>39.762365</td>\n",
       "      <td>west-highland</td>\n",
       "      <td>1</td>\n",
       "      <td>0</td>\n",
       "    </tr>\n",
       "    <tr>\n",
       "      <th>2017-09-12 20:37:00</th>\n",
       "      <td>weapon-unlawful-discharge-of</td>\n",
       "      <td>all-other-crimes</td>\n",
       "      <td>-105.040313</td>\n",
       "      <td>39.721264</td>\n",
       "      <td>barnum-west</td>\n",
       "      <td>1</td>\n",
       "      <td>0</td>\n",
       "    </tr>\n",
       "    <tr>\n",
       "      <th>2017-09-12 16:32:00</th>\n",
       "      <td>traf-habitual-offender</td>\n",
       "      <td>all-other-crimes</td>\n",
       "      <td>-104.847024</td>\n",
       "      <td>39.779596</td>\n",
       "      <td>montbello</td>\n",
       "      <td>1</td>\n",
       "      <td>0</td>\n",
       "    </tr>\n",
       "    <tr>\n",
       "      <th>2017-09-12 13:04:00</th>\n",
       "      <td>criminal-mischief-other</td>\n",
       "      <td>public-disorder</td>\n",
       "      <td>-104.949183</td>\n",
       "      <td>39.756353</td>\n",
       "      <td>skyland</td>\n",
       "      <td>1</td>\n",
       "      <td>0</td>\n",
       "    </tr>\n",
       "    <tr>\n",
       "      <th>2017-09-12 09:30:00</th>\n",
       "      <td>theft-other</td>\n",
       "      <td>larceny</td>\n",
       "      <td>-104.985739</td>\n",
       "      <td>39.735045</td>\n",
       "      <td>capitol-hill</td>\n",
       "      <td>1</td>\n",
       "      <td>0</td>\n",
       "    </tr>\n",
       "  </tbody>\n",
       "</table>\n",
       "<p>460911 rows × 7 columns</p>\n",
       "</div>"
      ],
      "text/plain": [
       "                                  OFFENSE_TYPE_ID OFFENSE_CATEGORY_ID  \\\n",
       "REPORTED_DATE                                                           \n",
       "2014-06-29 02:01:00     traffic-accident-dui-duid    traffic-accident   \n",
       "2014-06-29 01:54:00    vehicular-eluding-no-chase    all-other-crimes   \n",
       "2014-06-29 02:00:00          disturbing-the-peace     public-disorder   \n",
       "2014-06-29 02:18:00                        curfew     public-disorder   \n",
       "2014-06-29 04:17:00            aggravated-assault  aggravated-assault   \n",
       "...                                           ...                 ...   \n",
       "2017-09-13 05:48:00    burglary-business-by-force            burglary   \n",
       "2017-09-12 20:37:00  weapon-unlawful-discharge-of    all-other-crimes   \n",
       "2017-09-12 16:32:00        traf-habitual-offender    all-other-crimes   \n",
       "2017-09-12 13:04:00       criminal-mischief-other     public-disorder   \n",
       "2017-09-12 09:30:00                   theft-other             larceny   \n",
       "\n",
       "                        GEO_LON    GEO_LAT            NEIGHBORHOOD_ID  \\\n",
       "REPORTED_DATE                                                           \n",
       "2014-06-29 02:01:00 -105.000149  39.745753                        cbd   \n",
       "2014-06-29 01:54:00 -104.884660  39.738702                east-colfax   \n",
       "2014-06-29 02:00:00 -105.020719  39.706674                athmar-park   \n",
       "2014-06-29 02:18:00 -105.001552  39.769505                  sunnyside   \n",
       "2014-06-29 04:17:00 -105.018557  39.679229  college-view-south-platte   \n",
       "...                         ...        ...                        ...   \n",
       "2017-09-13 05:48:00 -105.033840  39.762365              west-highland   \n",
       "2017-09-12 20:37:00 -105.040313  39.721264                barnum-west   \n",
       "2017-09-12 16:32:00 -104.847024  39.779596                  montbello   \n",
       "2017-09-12 13:04:00 -104.949183  39.756353                    skyland   \n",
       "2017-09-12 09:30:00 -104.985739  39.735045               capitol-hill   \n",
       "\n",
       "                     IS_CRIME  IS_TRAFFIC  \n",
       "REPORTED_DATE                              \n",
       "2014-06-29 02:01:00         0           1  \n",
       "2014-06-29 01:54:00         1           0  \n",
       "2014-06-29 02:00:00         1           0  \n",
       "2014-06-29 02:18:00         1           0  \n",
       "2014-06-29 04:17:00         1           0  \n",
       "...                       ...         ...  \n",
       "2017-09-13 05:48:00         1           0  \n",
       "2017-09-12 20:37:00         1           0  \n",
       "2017-09-12 16:32:00         1           0  \n",
       "2017-09-12 13:04:00         1           0  \n",
       "2017-09-12 09:30:00         1           0  \n",
       "\n",
       "[460911 rows x 7 columns]"
      ]
     },
     "execution_count": 43,
     "metadata": {},
     "output_type": "execute_result"
    }
   ],
   "source": [
    "crime = crime.set_index(\"REPORTED_DATE\")\n",
    "crime"
   ]
  },
  {
   "cell_type": "code",
   "execution_count": 44,
   "metadata": {},
   "outputs": [
    {
     "data": {
      "text/plain": [
       "DatetimeIndex(['2014-06-29 02:01:00', '2014-06-29 01:54:00'], dtype='datetime64[ns]', name='REPORTED_DATE', freq=None)"
      ]
     },
     "execution_count": 44,
     "metadata": {},
     "output_type": "execute_result"
    }
   ],
   "source": [
    "crime.index[:2]"
   ]
  },
  {
   "cell_type": "code",
   "execution_count": 45,
   "metadata": {
    "lines_to_next_cell": 2
   },
   "outputs": [
    {
     "data": {
      "text/html": [
       "<div>\n",
       "<style scoped>\n",
       "    .dataframe tbody tr th:only-of-type {\n",
       "        vertical-align: middle;\n",
       "    }\n",
       "\n",
       "    .dataframe tbody tr th {\n",
       "        vertical-align: top;\n",
       "    }\n",
       "\n",
       "    .dataframe thead th {\n",
       "        text-align: right;\n",
       "    }\n",
       "</style>\n",
       "<table border=\"1\" class=\"dataframe\">\n",
       "  <thead>\n",
       "    <tr style=\"text-align: right;\">\n",
       "      <th></th>\n",
       "      <th>OFFENSE_TYPE_ID</th>\n",
       "      <th>OFFENSE_CATEGORY_ID</th>\n",
       "      <th>GEO_LON</th>\n",
       "      <th>GEO_LAT</th>\n",
       "      <th>NEIGHBORHOOD_ID</th>\n",
       "      <th>IS_CRIME</th>\n",
       "      <th>IS_TRAFFIC</th>\n",
       "    </tr>\n",
       "    <tr>\n",
       "      <th>REPORTED_DATE</th>\n",
       "      <th></th>\n",
       "      <th></th>\n",
       "      <th></th>\n",
       "      <th></th>\n",
       "      <th></th>\n",
       "      <th></th>\n",
       "      <th></th>\n",
       "    </tr>\n",
       "  </thead>\n",
       "  <tbody>\n",
       "    <tr>\n",
       "      <th>2016-05-12 16:45:00</th>\n",
       "      <td>traffic-accident</td>\n",
       "      <td>traffic-accident</td>\n",
       "      <td>-104.847024</td>\n",
       "      <td>39.779596</td>\n",
       "      <td>montbello</td>\n",
       "      <td>0</td>\n",
       "      <td>1</td>\n",
       "    </tr>\n",
       "    <tr>\n",
       "      <th>2016-05-12 16:45:00</th>\n",
       "      <td>traffic-accident</td>\n",
       "      <td>traffic-accident</td>\n",
       "      <td>-105.049180</td>\n",
       "      <td>39.769296</td>\n",
       "      <td>west-highland</td>\n",
       "      <td>0</td>\n",
       "      <td>1</td>\n",
       "    </tr>\n",
       "    <tr>\n",
       "      <th>2016-05-12 16:45:00</th>\n",
       "      <td>fraud-identity-theft</td>\n",
       "      <td>white-collar-crime</td>\n",
       "      <td>-104.931971</td>\n",
       "      <td>39.717359</td>\n",
       "      <td>hilltop</td>\n",
       "      <td>1</td>\n",
       "      <td>0</td>\n",
       "    </tr>\n",
       "  </tbody>\n",
       "</table>\n",
       "</div>"
      ],
      "text/plain": [
       "                          OFFENSE_TYPE_ID OFFENSE_CATEGORY_ID     GEO_LON  \\\n",
       "REPORTED_DATE                                                               \n",
       "2016-05-12 16:45:00      traffic-accident    traffic-accident -104.847024   \n",
       "2016-05-12 16:45:00      traffic-accident    traffic-accident -105.049180   \n",
       "2016-05-12 16:45:00  fraud-identity-theft  white-collar-crime -104.931971   \n",
       "\n",
       "                       GEO_LAT NEIGHBORHOOD_ID  IS_CRIME  IS_TRAFFIC  \n",
       "REPORTED_DATE                                                         \n",
       "2016-05-12 16:45:00  39.779596       montbello         0           1  \n",
       "2016-05-12 16:45:00  39.769296   west-highland         0           1  \n",
       "2016-05-12 16:45:00  39.717359         hilltop         1           0  "
      ]
     },
     "execution_count": 45,
     "metadata": {},
     "output_type": "execute_result"
    }
   ],
   "source": [
    "crime.loc[\"2016-05-12 16:45:00\"]"
   ]
  },
  {
   "cell_type": "code",
   "execution_count": 46,
   "metadata": {
    "lines_to_next_cell": 2
   },
   "outputs": [
    {
     "data": {
      "text/html": [
       "<div>\n",
       "<style scoped>\n",
       "    .dataframe tbody tr th:only-of-type {\n",
       "        vertical-align: middle;\n",
       "    }\n",
       "\n",
       "    .dataframe tbody tr th {\n",
       "        vertical-align: top;\n",
       "    }\n",
       "\n",
       "    .dataframe thead th {\n",
       "        text-align: right;\n",
       "    }\n",
       "</style>\n",
       "<table border=\"1\" class=\"dataframe\">\n",
       "  <thead>\n",
       "    <tr style=\"text-align: right;\">\n",
       "      <th></th>\n",
       "      <th>OFFENSE_TYPE_ID</th>\n",
       "      <th>OFFENSE_CATEGORY_ID</th>\n",
       "      <th>GEO_LON</th>\n",
       "      <th>GEO_LAT</th>\n",
       "      <th>NEIGHBORHOOD_ID</th>\n",
       "      <th>IS_CRIME</th>\n",
       "      <th>IS_TRAFFIC</th>\n",
       "    </tr>\n",
       "    <tr>\n",
       "      <th>REPORTED_DATE</th>\n",
       "      <th></th>\n",
       "      <th></th>\n",
       "      <th></th>\n",
       "      <th></th>\n",
       "      <th></th>\n",
       "      <th></th>\n",
       "      <th></th>\n",
       "    </tr>\n",
       "  </thead>\n",
       "  <tbody>\n",
       "    <tr>\n",
       "      <th>2016-05-12 23:51:00</th>\n",
       "      <td>criminal-mischief-other</td>\n",
       "      <td>public-disorder</td>\n",
       "      <td>-105.017241</td>\n",
       "      <td>39.705845</td>\n",
       "      <td>athmar-park</td>\n",
       "      <td>1</td>\n",
       "      <td>0</td>\n",
       "    </tr>\n",
       "    <tr>\n",
       "      <th>2016-05-12 18:40:00</th>\n",
       "      <td>liquor-possession</td>\n",
       "      <td>drug-alcohol</td>\n",
       "      <td>-104.995692</td>\n",
       "      <td>39.747875</td>\n",
       "      <td>cbd</td>\n",
       "      <td>1</td>\n",
       "      <td>0</td>\n",
       "    </tr>\n",
       "    <tr>\n",
       "      <th>2016-05-12 22:26:00</th>\n",
       "      <td>traffic-accident</td>\n",
       "      <td>traffic-accident</td>\n",
       "      <td>-104.880037</td>\n",
       "      <td>39.777037</td>\n",
       "      <td>stapleton</td>\n",
       "      <td>0</td>\n",
       "      <td>1</td>\n",
       "    </tr>\n",
       "    <tr>\n",
       "      <th>2016-05-12 20:35:00</th>\n",
       "      <td>theft-bicycle</td>\n",
       "      <td>larceny</td>\n",
       "      <td>-104.929350</td>\n",
       "      <td>39.763797</td>\n",
       "      <td>northeast-park-hill</td>\n",
       "      <td>1</td>\n",
       "      <td>0</td>\n",
       "    </tr>\n",
       "    <tr>\n",
       "      <th>2016-05-12 09:39:00</th>\n",
       "      <td>theft-of-motor-vehicle</td>\n",
       "      <td>auto-theft</td>\n",
       "      <td>-104.941233</td>\n",
       "      <td>39.775510</td>\n",
       "      <td>elyria-swansea</td>\n",
       "      <td>1</td>\n",
       "      <td>0</td>\n",
       "    </tr>\n",
       "    <tr>\n",
       "      <th>...</th>\n",
       "      <td>...</td>\n",
       "      <td>...</td>\n",
       "      <td>...</td>\n",
       "      <td>...</td>\n",
       "      <td>...</td>\n",
       "      <td>...</td>\n",
       "      <td>...</td>\n",
       "    </tr>\n",
       "    <tr>\n",
       "      <th>2016-05-12 17:55:00</th>\n",
       "      <td>public-peace-other</td>\n",
       "      <td>public-disorder</td>\n",
       "      <td>-105.027747</td>\n",
       "      <td>39.700029</td>\n",
       "      <td>westwood</td>\n",
       "      <td>1</td>\n",
       "      <td>0</td>\n",
       "    </tr>\n",
       "    <tr>\n",
       "      <th>2016-05-12 19:24:00</th>\n",
       "      <td>threats-to-injure</td>\n",
       "      <td>public-disorder</td>\n",
       "      <td>-104.947118</td>\n",
       "      <td>39.763777</td>\n",
       "      <td>clayton</td>\n",
       "      <td>1</td>\n",
       "      <td>0</td>\n",
       "    </tr>\n",
       "    <tr>\n",
       "      <th>2016-05-12 22:28:00</th>\n",
       "      <td>sex-aslt-rape</td>\n",
       "      <td>sexual-assault</td>\n",
       "      <td>NaN</td>\n",
       "      <td>NaN</td>\n",
       "      <td>harvey-park-south</td>\n",
       "      <td>1</td>\n",
       "      <td>0</td>\n",
       "    </tr>\n",
       "    <tr>\n",
       "      <th>2016-05-12 15:59:00</th>\n",
       "      <td>menacing-felony-w-weap</td>\n",
       "      <td>aggravated-assault</td>\n",
       "      <td>-104.935172</td>\n",
       "      <td>39.723703</td>\n",
       "      <td>hilltop</td>\n",
       "      <td>1</td>\n",
       "      <td>0</td>\n",
       "    </tr>\n",
       "    <tr>\n",
       "      <th>2016-05-12 16:39:00</th>\n",
       "      <td>assault-dv</td>\n",
       "      <td>other-crimes-against-persons</td>\n",
       "      <td>-104.974700</td>\n",
       "      <td>39.740555</td>\n",
       "      <td>north-capitol-hill</td>\n",
       "      <td>1</td>\n",
       "      <td>0</td>\n",
       "    </tr>\n",
       "  </tbody>\n",
       "</table>\n",
       "<p>243 rows × 7 columns</p>\n",
       "</div>"
      ],
      "text/plain": [
       "                             OFFENSE_TYPE_ID           OFFENSE_CATEGORY_ID  \\\n",
       "REPORTED_DATE                                                                \n",
       "2016-05-12 23:51:00  criminal-mischief-other               public-disorder   \n",
       "2016-05-12 18:40:00        liquor-possession                  drug-alcohol   \n",
       "2016-05-12 22:26:00         traffic-accident              traffic-accident   \n",
       "2016-05-12 20:35:00            theft-bicycle                       larceny   \n",
       "2016-05-12 09:39:00   theft-of-motor-vehicle                    auto-theft   \n",
       "...                                      ...                           ...   \n",
       "2016-05-12 17:55:00       public-peace-other               public-disorder   \n",
       "2016-05-12 19:24:00        threats-to-injure               public-disorder   \n",
       "2016-05-12 22:28:00            sex-aslt-rape                sexual-assault   \n",
       "2016-05-12 15:59:00   menacing-felony-w-weap            aggravated-assault   \n",
       "2016-05-12 16:39:00               assault-dv  other-crimes-against-persons   \n",
       "\n",
       "                        GEO_LON    GEO_LAT      NEIGHBORHOOD_ID  IS_CRIME  \\\n",
       "REPORTED_DATE                                                               \n",
       "2016-05-12 23:51:00 -105.017241  39.705845          athmar-park         1   \n",
       "2016-05-12 18:40:00 -104.995692  39.747875                  cbd         1   \n",
       "2016-05-12 22:26:00 -104.880037  39.777037            stapleton         0   \n",
       "2016-05-12 20:35:00 -104.929350  39.763797  northeast-park-hill         1   \n",
       "2016-05-12 09:39:00 -104.941233  39.775510       elyria-swansea         1   \n",
       "...                         ...        ...                  ...       ...   \n",
       "2016-05-12 17:55:00 -105.027747  39.700029             westwood         1   \n",
       "2016-05-12 19:24:00 -104.947118  39.763777              clayton         1   \n",
       "2016-05-12 22:28:00         NaN        NaN    harvey-park-south         1   \n",
       "2016-05-12 15:59:00 -104.935172  39.723703              hilltop         1   \n",
       "2016-05-12 16:39:00 -104.974700  39.740555   north-capitol-hill         1   \n",
       "\n",
       "                     IS_TRAFFIC  \n",
       "REPORTED_DATE                    \n",
       "2016-05-12 23:51:00           0  \n",
       "2016-05-12 18:40:00           0  \n",
       "2016-05-12 22:26:00           1  \n",
       "2016-05-12 20:35:00           0  \n",
       "2016-05-12 09:39:00           0  \n",
       "...                         ...  \n",
       "2016-05-12 17:55:00           0  \n",
       "2016-05-12 19:24:00           0  \n",
       "2016-05-12 22:28:00           0  \n",
       "2016-05-12 15:59:00           0  \n",
       "2016-05-12 16:39:00           0  \n",
       "\n",
       "[243 rows x 7 columns]"
      ]
     },
     "execution_count": 46,
     "metadata": {},
     "output_type": "execute_result"
    }
   ],
   "source": [
    "crime.loc[\"2016-05-12\"]"
   ]
  },
  {
   "cell_type": "code",
   "execution_count": 47,
   "metadata": {
    "lines_to_next_cell": 2
   },
   "outputs": [
    {
     "data": {
      "text/plain": [
       "(8012, 7)"
      ]
     },
     "execution_count": 47,
     "metadata": {},
     "output_type": "execute_result"
    }
   ],
   "source": [
    "crime.loc[\"2016-05\"].shape"
   ]
  },
  {
   "cell_type": "code",
   "execution_count": 48,
   "metadata": {
    "lines_to_next_cell": 2
   },
   "outputs": [
    {
     "data": {
      "text/plain": [
       "(91076, 7)"
      ]
     },
     "execution_count": 48,
     "metadata": {},
     "output_type": "execute_result"
    }
   ],
   "source": [
    "crime.loc[\"2016\"].shape"
   ]
  },
  {
   "cell_type": "code",
   "execution_count": 49,
   "metadata": {
    "lines_to_next_cell": 2
   },
   "outputs": [
    {
     "data": {
      "text/plain": [
       "(4, 7)"
      ]
     },
     "execution_count": 49,
     "metadata": {},
     "output_type": "execute_result"
    }
   ],
   "source": [
    "crime.loc[\"2016-05-12 03\"].shape"
   ]
  },
  {
   "cell_type": "code",
   "execution_count": 50,
   "metadata": {
    "lines_to_next_cell": 2
   },
   "outputs": [
    {
     "data": {
      "text/html": [
       "<div>\n",
       "<style scoped>\n",
       "    .dataframe tbody tr th:only-of-type {\n",
       "        vertical-align: middle;\n",
       "    }\n",
       "\n",
       "    .dataframe tbody tr th {\n",
       "        vertical-align: top;\n",
       "    }\n",
       "\n",
       "    .dataframe thead th {\n",
       "        text-align: right;\n",
       "    }\n",
       "</style>\n",
       "<table border=\"1\" class=\"dataframe\">\n",
       "  <thead>\n",
       "    <tr style=\"text-align: right;\">\n",
       "      <th></th>\n",
       "      <th>OFFENSE_TYPE_ID</th>\n",
       "      <th>OFFENSE_CATEGORY_ID</th>\n",
       "      <th>GEO_LON</th>\n",
       "      <th>GEO_LAT</th>\n",
       "      <th>NEIGHBORHOOD_ID</th>\n",
       "      <th>IS_CRIME</th>\n",
       "      <th>IS_TRAFFIC</th>\n",
       "    </tr>\n",
       "    <tr>\n",
       "      <th>REPORTED_DATE</th>\n",
       "      <th></th>\n",
       "      <th></th>\n",
       "      <th></th>\n",
       "      <th></th>\n",
       "      <th></th>\n",
       "      <th></th>\n",
       "      <th></th>\n",
       "    </tr>\n",
       "  </thead>\n",
       "  <tbody>\n",
       "    <tr>\n",
       "      <th>2015-12-01 00:48:00</th>\n",
       "      <td>drug-cocaine-possess</td>\n",
       "      <td>drug-alcohol</td>\n",
       "      <td>-104.891681</td>\n",
       "      <td>39.740155</td>\n",
       "      <td>east-colfax</td>\n",
       "      <td>1</td>\n",
       "      <td>0</td>\n",
       "    </tr>\n",
       "    <tr>\n",
       "      <th>2015-12-01 00:48:00</th>\n",
       "      <td>theft-of-motor-vehicle</td>\n",
       "      <td>auto-theft</td>\n",
       "      <td>-104.891681</td>\n",
       "      <td>39.740155</td>\n",
       "      <td>east-colfax</td>\n",
       "      <td>1</td>\n",
       "      <td>0</td>\n",
       "    </tr>\n",
       "    <tr>\n",
       "      <th>2015-12-01 01:00:00</th>\n",
       "      <td>criminal-mischief-other</td>\n",
       "      <td>public-disorder</td>\n",
       "      <td>-104.993574</td>\n",
       "      <td>39.739773</td>\n",
       "      <td>civic-center</td>\n",
       "      <td>1</td>\n",
       "      <td>0</td>\n",
       "    </tr>\n",
       "    <tr>\n",
       "      <th>2015-12-01 01:10:00</th>\n",
       "      <td>traf-other</td>\n",
       "      <td>all-other-crimes</td>\n",
       "      <td>-104.995496</td>\n",
       "      <td>39.725618</td>\n",
       "      <td>baker</td>\n",
       "      <td>1</td>\n",
       "      <td>0</td>\n",
       "    </tr>\n",
       "    <tr>\n",
       "      <th>2015-12-01 01:10:00</th>\n",
       "      <td>traf-habitual-offender</td>\n",
       "      <td>all-other-crimes</td>\n",
       "      <td>-104.995496</td>\n",
       "      <td>39.725618</td>\n",
       "      <td>baker</td>\n",
       "      <td>1</td>\n",
       "      <td>0</td>\n",
       "    </tr>\n",
       "    <tr>\n",
       "      <th>...</th>\n",
       "      <td>...</td>\n",
       "      <td>...</td>\n",
       "      <td>...</td>\n",
       "      <td>...</td>\n",
       "      <td>...</td>\n",
       "      <td>...</td>\n",
       "      <td>...</td>\n",
       "    </tr>\n",
       "    <tr>\n",
       "      <th>2015-12-31 23:35:00</th>\n",
       "      <td>drug-cocaine-possess</td>\n",
       "      <td>drug-alcohol</td>\n",
       "      <td>-104.988019</td>\n",
       "      <td>39.753420</td>\n",
       "      <td>five-points</td>\n",
       "      <td>1</td>\n",
       "      <td>0</td>\n",
       "    </tr>\n",
       "    <tr>\n",
       "      <th>2015-12-31 23:40:00</th>\n",
       "      <td>traffic-accident</td>\n",
       "      <td>traffic-accident</td>\n",
       "      <td>-104.945076</td>\n",
       "      <td>39.736768</td>\n",
       "      <td>congress-park</td>\n",
       "      <td>0</td>\n",
       "      <td>1</td>\n",
       "    </tr>\n",
       "    <tr>\n",
       "      <th>2015-12-31 23:44:00</th>\n",
       "      <td>drug-cocaine-possess</td>\n",
       "      <td>drug-alcohol</td>\n",
       "      <td>-104.966814</td>\n",
       "      <td>39.746460</td>\n",
       "      <td>city-park-west</td>\n",
       "      <td>1</td>\n",
       "      <td>0</td>\n",
       "    </tr>\n",
       "    <tr>\n",
       "      <th>2015-12-31 23:45:00</th>\n",
       "      <td>violation-of-restraining-order</td>\n",
       "      <td>all-other-crimes</td>\n",
       "      <td>-105.034887</td>\n",
       "      <td>39.741827</td>\n",
       "      <td>west-colfax</td>\n",
       "      <td>1</td>\n",
       "      <td>0</td>\n",
       "    </tr>\n",
       "    <tr>\n",
       "      <th>2015-12-31 23:50:00</th>\n",
       "      <td>weapon-poss-illegal-dangerous</td>\n",
       "      <td>all-other-crimes</td>\n",
       "      <td>-105.032769</td>\n",
       "      <td>39.709188</td>\n",
       "      <td>westwood</td>\n",
       "      <td>1</td>\n",
       "      <td>0</td>\n",
       "    </tr>\n",
       "  </tbody>\n",
       "</table>\n",
       "<p>6907 rows × 7 columns</p>\n",
       "</div>"
      ],
      "text/plain": [
       "                                    OFFENSE_TYPE_ID OFFENSE_CATEGORY_ID  \\\n",
       "REPORTED_DATE                                                             \n",
       "2015-12-01 00:48:00            drug-cocaine-possess        drug-alcohol   \n",
       "2015-12-01 00:48:00          theft-of-motor-vehicle          auto-theft   \n",
       "2015-12-01 01:00:00         criminal-mischief-other     public-disorder   \n",
       "2015-12-01 01:10:00                      traf-other    all-other-crimes   \n",
       "2015-12-01 01:10:00          traf-habitual-offender    all-other-crimes   \n",
       "...                                             ...                 ...   \n",
       "2015-12-31 23:35:00            drug-cocaine-possess        drug-alcohol   \n",
       "2015-12-31 23:40:00                traffic-accident    traffic-accident   \n",
       "2015-12-31 23:44:00            drug-cocaine-possess        drug-alcohol   \n",
       "2015-12-31 23:45:00  violation-of-restraining-order    all-other-crimes   \n",
       "2015-12-31 23:50:00   weapon-poss-illegal-dangerous    all-other-crimes   \n",
       "\n",
       "                        GEO_LON    GEO_LAT NEIGHBORHOOD_ID  IS_CRIME  \\\n",
       "REPORTED_DATE                                                          \n",
       "2015-12-01 00:48:00 -104.891681  39.740155     east-colfax         1   \n",
       "2015-12-01 00:48:00 -104.891681  39.740155     east-colfax         1   \n",
       "2015-12-01 01:00:00 -104.993574  39.739773    civic-center         1   \n",
       "2015-12-01 01:10:00 -104.995496  39.725618           baker         1   \n",
       "2015-12-01 01:10:00 -104.995496  39.725618           baker         1   \n",
       "...                         ...        ...             ...       ...   \n",
       "2015-12-31 23:35:00 -104.988019  39.753420     five-points         1   \n",
       "2015-12-31 23:40:00 -104.945076  39.736768   congress-park         0   \n",
       "2015-12-31 23:44:00 -104.966814  39.746460  city-park-west         1   \n",
       "2015-12-31 23:45:00 -105.034887  39.741827     west-colfax         1   \n",
       "2015-12-31 23:50:00 -105.032769  39.709188        westwood         1   \n",
       "\n",
       "                     IS_TRAFFIC  \n",
       "REPORTED_DATE                    \n",
       "2015-12-01 00:48:00           0  \n",
       "2015-12-01 00:48:00           0  \n",
       "2015-12-01 01:00:00           0  \n",
       "2015-12-01 01:10:00           0  \n",
       "2015-12-01 01:10:00           0  \n",
       "...                         ...  \n",
       "2015-12-31 23:35:00           0  \n",
       "2015-12-31 23:40:00           1  \n",
       "2015-12-31 23:44:00           0  \n",
       "2015-12-31 23:45:00           0  \n",
       "2015-12-31 23:50:00           0  \n",
       "\n",
       "[6907 rows x 7 columns]"
      ]
     },
     "execution_count": 50,
     "metadata": {},
     "output_type": "execute_result"
    }
   ],
   "source": [
    "crime.loc[\"Dec 2015\"].sort_index()"
   ]
  },
  {
   "cell_type": "code",
   "execution_count": 51,
   "metadata": {
    "lines_to_next_cell": 2
   },
   "outputs": [
    {
     "data": {
      "text/plain": [
       "(252, 7)"
      ]
     },
     "execution_count": 51,
     "metadata": {},
     "output_type": "execute_result"
    }
   ],
   "source": [
    "crime.loc[\"2016 Sep, 15\"].shape"
   ]
  },
  {
   "cell_type": "code",
   "execution_count": 52,
   "metadata": {
    "lines_to_next_cell": 2
   },
   "outputs": [
    {
     "data": {
      "text/plain": [
       "(4, 7)"
      ]
     },
     "execution_count": 52,
     "metadata": {},
     "output_type": "execute_result"
    }
   ],
   "source": [
    "crime.loc[\"21st October 2014 05\"].shape"
   ]
  },
  {
   "cell_type": "code",
   "execution_count": 53,
   "metadata": {
    "lines_to_next_cell": 2
   },
   "outputs": [
    {
     "name": "stderr",
     "output_type": "stream",
     "text": [
      "C:\\Users\\aaronhsu\\AppData\\Local\\Temp\\ipykernel_24768\\929735105.py:1: FutureWarning: Value based partial slicing on non-monotonic DatetimeIndexes with non-existing keys is deprecated and will raise a KeyError in a future Version.\n",
      "  crime.loc['2015-3-4':'2016-1-1'].sort_index()\n"
     ]
    },
    {
     "data": {
      "text/html": [
       "<div>\n",
       "<style scoped>\n",
       "    .dataframe tbody tr th:only-of-type {\n",
       "        vertical-align: middle;\n",
       "    }\n",
       "\n",
       "    .dataframe tbody tr th {\n",
       "        vertical-align: top;\n",
       "    }\n",
       "\n",
       "    .dataframe thead th {\n",
       "        text-align: right;\n",
       "    }\n",
       "</style>\n",
       "<table border=\"1\" class=\"dataframe\">\n",
       "  <thead>\n",
       "    <tr style=\"text-align: right;\">\n",
       "      <th></th>\n",
       "      <th>OFFENSE_TYPE_ID</th>\n",
       "      <th>OFFENSE_CATEGORY_ID</th>\n",
       "      <th>GEO_LON</th>\n",
       "      <th>GEO_LAT</th>\n",
       "      <th>NEIGHBORHOOD_ID</th>\n",
       "      <th>IS_CRIME</th>\n",
       "      <th>IS_TRAFFIC</th>\n",
       "    </tr>\n",
       "    <tr>\n",
       "      <th>REPORTED_DATE</th>\n",
       "      <th></th>\n",
       "      <th></th>\n",
       "      <th></th>\n",
       "      <th></th>\n",
       "      <th></th>\n",
       "      <th></th>\n",
       "      <th></th>\n",
       "    </tr>\n",
       "  </thead>\n",
       "  <tbody>\n",
       "    <tr>\n",
       "      <th>2015-03-04 00:11:00</th>\n",
       "      <td>assault-dv</td>\n",
       "      <td>other-crimes-against-persons</td>\n",
       "      <td>-105.021966</td>\n",
       "      <td>39.770883</td>\n",
       "      <td>sunnyside</td>\n",
       "      <td>1</td>\n",
       "      <td>0</td>\n",
       "    </tr>\n",
       "    <tr>\n",
       "      <th>2015-03-04 00:19:00</th>\n",
       "      <td>assault-dv</td>\n",
       "      <td>other-crimes-against-persons</td>\n",
       "      <td>-104.978988</td>\n",
       "      <td>39.748799</td>\n",
       "      <td>five-points</td>\n",
       "      <td>1</td>\n",
       "      <td>0</td>\n",
       "    </tr>\n",
       "    <tr>\n",
       "      <th>2015-03-04 00:27:00</th>\n",
       "      <td>theft-of-services</td>\n",
       "      <td>larceny</td>\n",
       "      <td>-105.055082</td>\n",
       "      <td>39.790564</td>\n",
       "      <td>regis</td>\n",
       "      <td>1</td>\n",
       "      <td>0</td>\n",
       "    </tr>\n",
       "    <tr>\n",
       "      <th>2015-03-04 00:49:00</th>\n",
       "      <td>traffic-accident-hit-and-run</td>\n",
       "      <td>traffic-accident</td>\n",
       "      <td>-104.987454</td>\n",
       "      <td>39.701378</td>\n",
       "      <td>washington-park-west</td>\n",
       "      <td>0</td>\n",
       "      <td>1</td>\n",
       "    </tr>\n",
       "    <tr>\n",
       "      <th>2015-03-04 01:07:00</th>\n",
       "      <td>burglary-business-no-force</td>\n",
       "      <td>burglary</td>\n",
       "      <td>-105.010843</td>\n",
       "      <td>39.762538</td>\n",
       "      <td>highland</td>\n",
       "      <td>1</td>\n",
       "      <td>0</td>\n",
       "    </tr>\n",
       "    <tr>\n",
       "      <th>...</th>\n",
       "      <td>...</td>\n",
       "      <td>...</td>\n",
       "      <td>...</td>\n",
       "      <td>...</td>\n",
       "      <td>...</td>\n",
       "      <td>...</td>\n",
       "      <td>...</td>\n",
       "    </tr>\n",
       "    <tr>\n",
       "      <th>2016-01-01 23:15:00</th>\n",
       "      <td>traffic-accident-hit-and-run</td>\n",
       "      <td>traffic-accident</td>\n",
       "      <td>-104.996861</td>\n",
       "      <td>39.738612</td>\n",
       "      <td>civic-center</td>\n",
       "      <td>0</td>\n",
       "      <td>1</td>\n",
       "    </tr>\n",
       "    <tr>\n",
       "      <th>2016-01-01 23:16:00</th>\n",
       "      <td>traffic-accident</td>\n",
       "      <td>traffic-accident</td>\n",
       "      <td>-105.025088</td>\n",
       "      <td>39.707590</td>\n",
       "      <td>westwood</td>\n",
       "      <td>0</td>\n",
       "      <td>1</td>\n",
       "    </tr>\n",
       "    <tr>\n",
       "      <th>2016-01-01 23:40:00</th>\n",
       "      <td>robbery-business</td>\n",
       "      <td>robbery</td>\n",
       "      <td>-105.039236</td>\n",
       "      <td>39.726157</td>\n",
       "      <td>villa-park</td>\n",
       "      <td>1</td>\n",
       "      <td>0</td>\n",
       "    </tr>\n",
       "    <tr>\n",
       "      <th>2016-01-01 23:45:00</th>\n",
       "      <td>drug-cocaine-possess</td>\n",
       "      <td>drug-alcohol</td>\n",
       "      <td>-104.987310</td>\n",
       "      <td>39.753598</td>\n",
       "      <td>five-points</td>\n",
       "      <td>1</td>\n",
       "      <td>0</td>\n",
       "    </tr>\n",
       "    <tr>\n",
       "      <th>2016-01-01 23:48:00</th>\n",
       "      <td>drug-poss-paraphernalia</td>\n",
       "      <td>drug-alcohol</td>\n",
       "      <td>-104.986020</td>\n",
       "      <td>39.752541</td>\n",
       "      <td>five-points</td>\n",
       "      <td>1</td>\n",
       "      <td>0</td>\n",
       "    </tr>\n",
       "  </tbody>\n",
       "</table>\n",
       "<p>75403 rows × 7 columns</p>\n",
       "</div>"
      ],
      "text/plain": [
       "                                  OFFENSE_TYPE_ID  \\\n",
       "REPORTED_DATE                                       \n",
       "2015-03-04 00:11:00                    assault-dv   \n",
       "2015-03-04 00:19:00                    assault-dv   \n",
       "2015-03-04 00:27:00             theft-of-services   \n",
       "2015-03-04 00:49:00  traffic-accident-hit-and-run   \n",
       "2015-03-04 01:07:00    burglary-business-no-force   \n",
       "...                                           ...   \n",
       "2016-01-01 23:15:00  traffic-accident-hit-and-run   \n",
       "2016-01-01 23:16:00              traffic-accident   \n",
       "2016-01-01 23:40:00              robbery-business   \n",
       "2016-01-01 23:45:00          drug-cocaine-possess   \n",
       "2016-01-01 23:48:00       drug-poss-paraphernalia   \n",
       "\n",
       "                              OFFENSE_CATEGORY_ID     GEO_LON    GEO_LAT  \\\n",
       "REPORTED_DATE                                                              \n",
       "2015-03-04 00:11:00  other-crimes-against-persons -105.021966  39.770883   \n",
       "2015-03-04 00:19:00  other-crimes-against-persons -104.978988  39.748799   \n",
       "2015-03-04 00:27:00                       larceny -105.055082  39.790564   \n",
       "2015-03-04 00:49:00              traffic-accident -104.987454  39.701378   \n",
       "2015-03-04 01:07:00                      burglary -105.010843  39.762538   \n",
       "...                                           ...         ...        ...   \n",
       "2016-01-01 23:15:00              traffic-accident -104.996861  39.738612   \n",
       "2016-01-01 23:16:00              traffic-accident -105.025088  39.707590   \n",
       "2016-01-01 23:40:00                       robbery -105.039236  39.726157   \n",
       "2016-01-01 23:45:00                  drug-alcohol -104.987310  39.753598   \n",
       "2016-01-01 23:48:00                  drug-alcohol -104.986020  39.752541   \n",
       "\n",
       "                          NEIGHBORHOOD_ID  IS_CRIME  IS_TRAFFIC  \n",
       "REPORTED_DATE                                                    \n",
       "2015-03-04 00:11:00             sunnyside         1           0  \n",
       "2015-03-04 00:19:00           five-points         1           0  \n",
       "2015-03-04 00:27:00                 regis         1           0  \n",
       "2015-03-04 00:49:00  washington-park-west         0           1  \n",
       "2015-03-04 01:07:00              highland         1           0  \n",
       "...                                   ...       ...         ...  \n",
       "2016-01-01 23:15:00          civic-center         0           1  \n",
       "2016-01-01 23:16:00              westwood         0           1  \n",
       "2016-01-01 23:40:00            villa-park         1           0  \n",
       "2016-01-01 23:45:00           five-points         1           0  \n",
       "2016-01-01 23:48:00           five-points         1           0  \n",
       "\n",
       "[75403 rows x 7 columns]"
      ]
     },
     "execution_count": 53,
     "metadata": {},
     "output_type": "execute_result"
    }
   ],
   "source": [
    "crime.loc[\"2015-3-4\":\"2016-1-1\"].sort_index()"
   ]
  },
  {
   "cell_type": "code",
   "execution_count": 54,
   "metadata": {
    "lines_to_next_cell": 2
   },
   "outputs": [
    {
     "name": "stderr",
     "output_type": "stream",
     "text": [
      "C:\\Users\\aaronhsu\\AppData\\Local\\Temp\\ipykernel_24768\\2700549053.py:1: FutureWarning: Value based partial slicing on non-monotonic DatetimeIndexes with non-existing keys is deprecated and will raise a KeyError in a future Version.\n",
      "  crime.loc['2015-3-4 22':'2016-1-1 11:22:00'].sort_index()\n"
     ]
    },
    {
     "data": {
      "text/html": [
       "<div>\n",
       "<style scoped>\n",
       "    .dataframe tbody tr th:only-of-type {\n",
       "        vertical-align: middle;\n",
       "    }\n",
       "\n",
       "    .dataframe tbody tr th {\n",
       "        vertical-align: top;\n",
       "    }\n",
       "\n",
       "    .dataframe thead th {\n",
       "        text-align: right;\n",
       "    }\n",
       "</style>\n",
       "<table border=\"1\" class=\"dataframe\">\n",
       "  <thead>\n",
       "    <tr style=\"text-align: right;\">\n",
       "      <th></th>\n",
       "      <th>OFFENSE_TYPE_ID</th>\n",
       "      <th>OFFENSE_CATEGORY_ID</th>\n",
       "      <th>GEO_LON</th>\n",
       "      <th>GEO_LAT</th>\n",
       "      <th>NEIGHBORHOOD_ID</th>\n",
       "      <th>IS_CRIME</th>\n",
       "      <th>IS_TRAFFIC</th>\n",
       "    </tr>\n",
       "    <tr>\n",
       "      <th>REPORTED_DATE</th>\n",
       "      <th></th>\n",
       "      <th></th>\n",
       "      <th></th>\n",
       "      <th></th>\n",
       "      <th></th>\n",
       "      <th></th>\n",
       "      <th></th>\n",
       "    </tr>\n",
       "  </thead>\n",
       "  <tbody>\n",
       "    <tr>\n",
       "      <th>2015-03-04 22:25:00</th>\n",
       "      <td>traffic-accident-hit-and-run</td>\n",
       "      <td>traffic-accident</td>\n",
       "      <td>-104.973896</td>\n",
       "      <td>39.769064</td>\n",
       "      <td>five-points</td>\n",
       "      <td>0</td>\n",
       "      <td>1</td>\n",
       "    </tr>\n",
       "    <tr>\n",
       "      <th>2015-03-04 22:30:00</th>\n",
       "      <td>traffic-accident</td>\n",
       "      <td>traffic-accident</td>\n",
       "      <td>-104.906412</td>\n",
       "      <td>39.632816</td>\n",
       "      <td>hampden-south</td>\n",
       "      <td>0</td>\n",
       "      <td>1</td>\n",
       "    </tr>\n",
       "    <tr>\n",
       "      <th>2015-03-04 22:32:00</th>\n",
       "      <td>traffic-accident-hit-and-run</td>\n",
       "      <td>traffic-accident</td>\n",
       "      <td>-104.979180</td>\n",
       "      <td>39.706613</td>\n",
       "      <td>washington-park-west</td>\n",
       "      <td>0</td>\n",
       "      <td>1</td>\n",
       "    </tr>\n",
       "    <tr>\n",
       "      <th>2015-03-04 22:33:00</th>\n",
       "      <td>traffic-accident-hit-and-run</td>\n",
       "      <td>traffic-accident</td>\n",
       "      <td>-104.991655</td>\n",
       "      <td>39.740067</td>\n",
       "      <td>civic-center</td>\n",
       "      <td>0</td>\n",
       "      <td>1</td>\n",
       "    </tr>\n",
       "    <tr>\n",
       "      <th>2015-03-04 22:36:00</th>\n",
       "      <td>theft-unauth-use-of-ftd</td>\n",
       "      <td>white-collar-crime</td>\n",
       "      <td>-105.045235</td>\n",
       "      <td>39.667928</td>\n",
       "      <td>harvey-park</td>\n",
       "      <td>1</td>\n",
       "      <td>0</td>\n",
       "    </tr>\n",
       "    <tr>\n",
       "      <th>...</th>\n",
       "      <td>...</td>\n",
       "      <td>...</td>\n",
       "      <td>...</td>\n",
       "      <td>...</td>\n",
       "      <td>...</td>\n",
       "      <td>...</td>\n",
       "      <td>...</td>\n",
       "    </tr>\n",
       "    <tr>\n",
       "      <th>2016-01-01 11:10:00</th>\n",
       "      <td>theft-of-motor-vehicle</td>\n",
       "      <td>auto-theft</td>\n",
       "      <td>-104.819450</td>\n",
       "      <td>39.791615</td>\n",
       "      <td>montbello</td>\n",
       "      <td>1</td>\n",
       "      <td>0</td>\n",
       "    </tr>\n",
       "    <tr>\n",
       "      <th>2016-01-01 11:11:00</th>\n",
       "      <td>traffic-accident</td>\n",
       "      <td>traffic-accident</td>\n",
       "      <td>-104.981701</td>\n",
       "      <td>39.736814</td>\n",
       "      <td>capitol-hill</td>\n",
       "      <td>0</td>\n",
       "      <td>1</td>\n",
       "    </tr>\n",
       "    <tr>\n",
       "      <th>2016-01-01 11:11:00</th>\n",
       "      <td>traffic-accident-hit-and-run</td>\n",
       "      <td>traffic-accident</td>\n",
       "      <td>-104.973731</td>\n",
       "      <td>39.714223</td>\n",
       "      <td>speer</td>\n",
       "      <td>0</td>\n",
       "      <td>1</td>\n",
       "    </tr>\n",
       "    <tr>\n",
       "      <th>2016-01-01 11:16:00</th>\n",
       "      <td>traf-other</td>\n",
       "      <td>all-other-crimes</td>\n",
       "      <td>-104.977509</td>\n",
       "      <td>39.783541</td>\n",
       "      <td>globeville</td>\n",
       "      <td>1</td>\n",
       "      <td>0</td>\n",
       "    </tr>\n",
       "    <tr>\n",
       "      <th>2016-01-01 11:22:00</th>\n",
       "      <td>traffic-accident</td>\n",
       "      <td>traffic-accident</td>\n",
       "      <td>-105.053250</td>\n",
       "      <td>39.731282</td>\n",
       "      <td>villa-park</td>\n",
       "      <td>0</td>\n",
       "      <td>1</td>\n",
       "    </tr>\n",
       "  </tbody>\n",
       "</table>\n",
       "<p>75071 rows × 7 columns</p>\n",
       "</div>"
      ],
      "text/plain": [
       "                                  OFFENSE_TYPE_ID OFFENSE_CATEGORY_ID  \\\n",
       "REPORTED_DATE                                                           \n",
       "2015-03-04 22:25:00  traffic-accident-hit-and-run    traffic-accident   \n",
       "2015-03-04 22:30:00              traffic-accident    traffic-accident   \n",
       "2015-03-04 22:32:00  traffic-accident-hit-and-run    traffic-accident   \n",
       "2015-03-04 22:33:00  traffic-accident-hit-and-run    traffic-accident   \n",
       "2015-03-04 22:36:00       theft-unauth-use-of-ftd  white-collar-crime   \n",
       "...                                           ...                 ...   \n",
       "2016-01-01 11:10:00        theft-of-motor-vehicle          auto-theft   \n",
       "2016-01-01 11:11:00              traffic-accident    traffic-accident   \n",
       "2016-01-01 11:11:00  traffic-accident-hit-and-run    traffic-accident   \n",
       "2016-01-01 11:16:00                    traf-other    all-other-crimes   \n",
       "2016-01-01 11:22:00              traffic-accident    traffic-accident   \n",
       "\n",
       "                        GEO_LON    GEO_LAT       NEIGHBORHOOD_ID  IS_CRIME  \\\n",
       "REPORTED_DATE                                                                \n",
       "2015-03-04 22:25:00 -104.973896  39.769064           five-points         0   \n",
       "2015-03-04 22:30:00 -104.906412  39.632816         hampden-south         0   \n",
       "2015-03-04 22:32:00 -104.979180  39.706613  washington-park-west         0   \n",
       "2015-03-04 22:33:00 -104.991655  39.740067          civic-center         0   \n",
       "2015-03-04 22:36:00 -105.045235  39.667928           harvey-park         1   \n",
       "...                         ...        ...                   ...       ...   \n",
       "2016-01-01 11:10:00 -104.819450  39.791615             montbello         1   \n",
       "2016-01-01 11:11:00 -104.981701  39.736814          capitol-hill         0   \n",
       "2016-01-01 11:11:00 -104.973731  39.714223                 speer         0   \n",
       "2016-01-01 11:16:00 -104.977509  39.783541            globeville         1   \n",
       "2016-01-01 11:22:00 -105.053250  39.731282            villa-park         0   \n",
       "\n",
       "                     IS_TRAFFIC  \n",
       "REPORTED_DATE                    \n",
       "2015-03-04 22:25:00           1  \n",
       "2015-03-04 22:30:00           1  \n",
       "2015-03-04 22:32:00           1  \n",
       "2015-03-04 22:33:00           1  \n",
       "2015-03-04 22:36:00           0  \n",
       "...                         ...  \n",
       "2016-01-01 11:10:00           0  \n",
       "2016-01-01 11:11:00           1  \n",
       "2016-01-01 11:11:00           1  \n",
       "2016-01-01 11:16:00           0  \n",
       "2016-01-01 11:22:00           1  \n",
       "\n",
       "[75071 rows x 7 columns]"
      ]
     },
     "execution_count": 54,
     "metadata": {},
     "output_type": "execute_result"
    }
   ],
   "source": [
    "crime.loc[\"2015-3-4 22\":\"2016-1-1 11:22:00\"].sort_index()"
   ]
  },
  {
   "cell_type": "code",
   "execution_count": 55,
   "metadata": {
    "lines_to_next_cell": 2
   },
   "outputs": [
    {
     "name": "stderr",
     "output_type": "stream",
     "text": [
      "<magic-timeit>:1: FutureWarning: Value based partial slicing on non-monotonic DatetimeIndexes with non-existing keys is deprecated and will raise a KeyError in a future Version.\n"
     ]
    },
    {
     "name": "stdout",
     "output_type": "stream",
     "text": [
      "13.6 ms ± 261 µs per loop (mean ± std. dev. of 7 runs, 100 loops each)\n"
     ]
    }
   ],
   "source": [
    "%timeit crime.loc['2015-3-4':'2016-1-1']"
   ]
  },
  {
   "cell_type": "code",
   "execution_count": 56,
   "metadata": {
    "lines_to_next_cell": 2
   },
   "outputs": [
    {
     "name": "stdout",
     "output_type": "stream",
     "text": [
      "1.4 ms ± 12.5 µs per loop (mean ± std. dev. of 7 runs, 1000 loops each)\n"
     ]
    }
   ],
   "source": [
    "crime_sort = crime.sort_index()\n",
    "%timeit crime_sort.loc['2015-3-4':'2016-1-1']"
   ]
  },
  {
   "cell_type": "markdown",
   "metadata": {},
   "source": [
    "## 11.3 過濾包含時間資料的欄位"
   ]
  },
  {
   "cell_type": "code",
   "execution_count": 57,
   "metadata": {
    "lines_to_next_cell": 2
   },
   "outputs": [
    {
     "data": {
      "text/plain": [
       "OFFENSE_TYPE_ID              category\n",
       "OFFENSE_CATEGORY_ID          category\n",
       "REPORTED_DATE          datetime64[ns]\n",
       "GEO_LON                       float64\n",
       "GEO_LAT                       float64\n",
       "NEIGHBORHOOD_ID              category\n",
       "IS_CRIME                        int64\n",
       "IS_TRAFFIC                      int64\n",
       "dtype: object"
      ]
     },
     "execution_count": 57,
     "metadata": {},
     "output_type": "execute_result"
    }
   ],
   "source": [
    "crime = pd.read_hdf(\"data/crime.h5\", \"crime\")\n",
    "crime.dtypes"
   ]
  },
  {
   "cell_type": "code",
   "execution_count": 58,
   "metadata": {
    "lines_to_next_cell": 2
   },
   "outputs": [
    {
     "data": {
      "text/html": [
       "<div>\n",
       "<style scoped>\n",
       "    .dataframe tbody tr th:only-of-type {\n",
       "        vertical-align: middle;\n",
       "    }\n",
       "\n",
       "    .dataframe tbody tr th {\n",
       "        vertical-align: top;\n",
       "    }\n",
       "\n",
       "    .dataframe thead th {\n",
       "        text-align: right;\n",
       "    }\n",
       "</style>\n",
       "<table border=\"1\" class=\"dataframe\">\n",
       "  <thead>\n",
       "    <tr style=\"text-align: right;\">\n",
       "      <th></th>\n",
       "      <th>OFFENSE_TYPE_ID</th>\n",
       "      <th>OFFENSE_CATEGORY_ID</th>\n",
       "      <th>REPORTED_DATE</th>\n",
       "      <th>GEO_LON</th>\n",
       "      <th>GEO_LAT</th>\n",
       "      <th>NEIGHBORHOOD_ID</th>\n",
       "      <th>IS_CRIME</th>\n",
       "      <th>IS_TRAFFIC</th>\n",
       "    </tr>\n",
       "  </thead>\n",
       "  <tbody>\n",
       "    <tr>\n",
       "      <th>300905</th>\n",
       "      <td>traffic-accident</td>\n",
       "      <td>traffic-accident</td>\n",
       "      <td>2016-05-12 16:45:00</td>\n",
       "      <td>-104.847024</td>\n",
       "      <td>39.779596</td>\n",
       "      <td>montbello</td>\n",
       "      <td>0</td>\n",
       "      <td>1</td>\n",
       "    </tr>\n",
       "    <tr>\n",
       "      <th>302354</th>\n",
       "      <td>traffic-accident</td>\n",
       "      <td>traffic-accident</td>\n",
       "      <td>2016-05-12 16:45:00</td>\n",
       "      <td>-105.049180</td>\n",
       "      <td>39.769296</td>\n",
       "      <td>west-highland</td>\n",
       "      <td>0</td>\n",
       "      <td>1</td>\n",
       "    </tr>\n",
       "    <tr>\n",
       "      <th>302373</th>\n",
       "      <td>fraud-identity-theft</td>\n",
       "      <td>white-collar-crime</td>\n",
       "      <td>2016-05-12 16:45:00</td>\n",
       "      <td>-104.931971</td>\n",
       "      <td>39.717359</td>\n",
       "      <td>hilltop</td>\n",
       "      <td>1</td>\n",
       "      <td>0</td>\n",
       "    </tr>\n",
       "  </tbody>\n",
       "</table>\n",
       "</div>"
      ],
      "text/plain": [
       "             OFFENSE_TYPE_ID OFFENSE_CATEGORY_ID       REPORTED_DATE  \\\n",
       "300905      traffic-accident    traffic-accident 2016-05-12 16:45:00   \n",
       "302354      traffic-accident    traffic-accident 2016-05-12 16:45:00   \n",
       "302373  fraud-identity-theft  white-collar-crime 2016-05-12 16:45:00   \n",
       "\n",
       "           GEO_LON    GEO_LAT NEIGHBORHOOD_ID  IS_CRIME  IS_TRAFFIC  \n",
       "300905 -104.847024  39.779596       montbello         0           1  \n",
       "302354 -105.049180  39.769296   west-highland         0           1  \n",
       "302373 -104.931971  39.717359         hilltop         1           0  "
      ]
     },
     "execution_count": 58,
     "metadata": {},
     "output_type": "execute_result"
    }
   ],
   "source": [
    "(crime[crime.REPORTED_DATE == \"2016-05-12 16:45:00\"])"
   ]
  },
  {
   "cell_type": "code",
   "execution_count": 59,
   "metadata": {
    "lines_to_next_cell": 2
   },
   "outputs": [
    {
     "data": {
      "text/html": [
       "<div>\n",
       "<style scoped>\n",
       "    .dataframe tbody tr th:only-of-type {\n",
       "        vertical-align: middle;\n",
       "    }\n",
       "\n",
       "    .dataframe tbody tr th {\n",
       "        vertical-align: top;\n",
       "    }\n",
       "\n",
       "    .dataframe thead th {\n",
       "        text-align: right;\n",
       "    }\n",
       "</style>\n",
       "<table border=\"1\" class=\"dataframe\">\n",
       "  <thead>\n",
       "    <tr style=\"text-align: right;\">\n",
       "      <th></th>\n",
       "      <th>OFFENSE_TYPE_ID</th>\n",
       "      <th>OFFENSE_CATEGORY_ID</th>\n",
       "      <th>REPORTED_DATE</th>\n",
       "      <th>GEO_LON</th>\n",
       "      <th>GEO_LAT</th>\n",
       "      <th>NEIGHBORHOOD_ID</th>\n",
       "      <th>IS_CRIME</th>\n",
       "      <th>IS_TRAFFIC</th>\n",
       "    </tr>\n",
       "  </thead>\n",
       "  <tbody>\n",
       "  </tbody>\n",
       "</table>\n",
       "</div>"
      ],
      "text/plain": [
       "Empty DataFrame\n",
       "Columns: [OFFENSE_TYPE_ID, OFFENSE_CATEGORY_ID, REPORTED_DATE, GEO_LON, GEO_LAT, NEIGHBORHOOD_ID, IS_CRIME, IS_TRAFFIC]\n",
       "Index: []"
      ]
     },
     "execution_count": 59,
     "metadata": {},
     "output_type": "execute_result"
    }
   ],
   "source": [
    "(crime[crime.REPORTED_DATE == \"2016-05-12\"])"
   ]
  },
  {
   "cell_type": "code",
   "execution_count": 60,
   "metadata": {
    "lines_to_next_cell": 2
   },
   "outputs": [
    {
     "data": {
      "text/html": [
       "<div>\n",
       "<style scoped>\n",
       "    .dataframe tbody tr th:only-of-type {\n",
       "        vertical-align: middle;\n",
       "    }\n",
       "\n",
       "    .dataframe tbody tr th {\n",
       "        vertical-align: top;\n",
       "    }\n",
       "\n",
       "    .dataframe thead th {\n",
       "        text-align: right;\n",
       "    }\n",
       "</style>\n",
       "<table border=\"1\" class=\"dataframe\">\n",
       "  <thead>\n",
       "    <tr style=\"text-align: right;\">\n",
       "      <th></th>\n",
       "      <th>OFFENSE_TYPE_ID</th>\n",
       "      <th>OFFENSE_CATEGORY_ID</th>\n",
       "      <th>REPORTED_DATE</th>\n",
       "      <th>GEO_LON</th>\n",
       "      <th>GEO_LAT</th>\n",
       "      <th>NEIGHBORHOOD_ID</th>\n",
       "      <th>IS_CRIME</th>\n",
       "      <th>IS_TRAFFIC</th>\n",
       "    </tr>\n",
       "  </thead>\n",
       "  <tbody>\n",
       "  </tbody>\n",
       "</table>\n",
       "</div>"
      ],
      "text/plain": [
       "Empty DataFrame\n",
       "Columns: [OFFENSE_TYPE_ID, OFFENSE_CATEGORY_ID, REPORTED_DATE, GEO_LON, GEO_LAT, NEIGHBORHOOD_ID, IS_CRIME, IS_TRAFFIC]\n",
       "Index: []"
      ]
     },
     "execution_count": 60,
     "metadata": {},
     "output_type": "execute_result"
    }
   ],
   "source": [
    "(crime[crime.REPORTED_DATE.dt.date == \"2016-05-12\"])"
   ]
  },
  {
   "cell_type": "code",
   "execution_count": 61,
   "metadata": {
    "lines_to_next_cell": 2
   },
   "outputs": [
    {
     "data": {
      "text/html": [
       "<div>\n",
       "<style scoped>\n",
       "    .dataframe tbody tr th:only-of-type {\n",
       "        vertical-align: middle;\n",
       "    }\n",
       "\n",
       "    .dataframe tbody tr th {\n",
       "        vertical-align: top;\n",
       "    }\n",
       "\n",
       "    .dataframe thead th {\n",
       "        text-align: right;\n",
       "    }\n",
       "</style>\n",
       "<table border=\"1\" class=\"dataframe\">\n",
       "  <thead>\n",
       "    <tr style=\"text-align: right;\">\n",
       "      <th></th>\n",
       "      <th>OFFENSE_TYPE_ID</th>\n",
       "      <th>OFFENSE_CATEGORY_ID</th>\n",
       "      <th>REPORTED_DATE</th>\n",
       "      <th>GEO_LON</th>\n",
       "      <th>GEO_LAT</th>\n",
       "      <th>NEIGHBORHOOD_ID</th>\n",
       "      <th>IS_CRIME</th>\n",
       "      <th>IS_TRAFFIC</th>\n",
       "    </tr>\n",
       "  </thead>\n",
       "  <tbody>\n",
       "    <tr>\n",
       "      <th>295715</th>\n",
       "      <td>criminal-mischief-other</td>\n",
       "      <td>public-disorder</td>\n",
       "      <td>2016-05-12 23:51:00</td>\n",
       "      <td>-105.017241</td>\n",
       "      <td>39.705845</td>\n",
       "      <td>athmar-park</td>\n",
       "      <td>1</td>\n",
       "      <td>0</td>\n",
       "    </tr>\n",
       "    <tr>\n",
       "      <th>296474</th>\n",
       "      <td>liquor-possession</td>\n",
       "      <td>drug-alcohol</td>\n",
       "      <td>2016-05-12 18:40:00</td>\n",
       "      <td>-104.995692</td>\n",
       "      <td>39.747875</td>\n",
       "      <td>cbd</td>\n",
       "      <td>1</td>\n",
       "      <td>0</td>\n",
       "    </tr>\n",
       "    <tr>\n",
       "      <th>297204</th>\n",
       "      <td>traffic-accident</td>\n",
       "      <td>traffic-accident</td>\n",
       "      <td>2016-05-12 22:26:00</td>\n",
       "      <td>-104.880037</td>\n",
       "      <td>39.777037</td>\n",
       "      <td>stapleton</td>\n",
       "      <td>0</td>\n",
       "      <td>1</td>\n",
       "    </tr>\n",
       "    <tr>\n",
       "      <th>299383</th>\n",
       "      <td>theft-bicycle</td>\n",
       "      <td>larceny</td>\n",
       "      <td>2016-05-12 20:35:00</td>\n",
       "      <td>-104.929350</td>\n",
       "      <td>39.763797</td>\n",
       "      <td>northeast-park-hill</td>\n",
       "      <td>1</td>\n",
       "      <td>0</td>\n",
       "    </tr>\n",
       "    <tr>\n",
       "      <th>299389</th>\n",
       "      <td>theft-of-motor-vehicle</td>\n",
       "      <td>auto-theft</td>\n",
       "      <td>2016-05-12 09:39:00</td>\n",
       "      <td>-104.941233</td>\n",
       "      <td>39.775510</td>\n",
       "      <td>elyria-swansea</td>\n",
       "      <td>1</td>\n",
       "      <td>0</td>\n",
       "    </tr>\n",
       "    <tr>\n",
       "      <th>...</th>\n",
       "      <td>...</td>\n",
       "      <td>...</td>\n",
       "      <td>...</td>\n",
       "      <td>...</td>\n",
       "      <td>...</td>\n",
       "      <td>...</td>\n",
       "      <td>...</td>\n",
       "      <td>...</td>\n",
       "    </tr>\n",
       "    <tr>\n",
       "      <th>358208</th>\n",
       "      <td>public-peace-other</td>\n",
       "      <td>public-disorder</td>\n",
       "      <td>2016-05-12 17:55:00</td>\n",
       "      <td>-105.027747</td>\n",
       "      <td>39.700029</td>\n",
       "      <td>westwood</td>\n",
       "      <td>1</td>\n",
       "      <td>0</td>\n",
       "    </tr>\n",
       "    <tr>\n",
       "      <th>358448</th>\n",
       "      <td>threats-to-injure</td>\n",
       "      <td>public-disorder</td>\n",
       "      <td>2016-05-12 19:24:00</td>\n",
       "      <td>-104.947118</td>\n",
       "      <td>39.763777</td>\n",
       "      <td>clayton</td>\n",
       "      <td>1</td>\n",
       "      <td>0</td>\n",
       "    </tr>\n",
       "    <tr>\n",
       "      <th>363134</th>\n",
       "      <td>sex-aslt-rape</td>\n",
       "      <td>sexual-assault</td>\n",
       "      <td>2016-05-12 22:28:00</td>\n",
       "      <td>NaN</td>\n",
       "      <td>NaN</td>\n",
       "      <td>harvey-park-south</td>\n",
       "      <td>1</td>\n",
       "      <td>0</td>\n",
       "    </tr>\n",
       "    <tr>\n",
       "      <th>365959</th>\n",
       "      <td>menacing-felony-w-weap</td>\n",
       "      <td>aggravated-assault</td>\n",
       "      <td>2016-05-12 15:59:00</td>\n",
       "      <td>-104.935172</td>\n",
       "      <td>39.723703</td>\n",
       "      <td>hilltop</td>\n",
       "      <td>1</td>\n",
       "      <td>0</td>\n",
       "    </tr>\n",
       "    <tr>\n",
       "      <th>378711</th>\n",
       "      <td>assault-dv</td>\n",
       "      <td>other-crimes-against-persons</td>\n",
       "      <td>2016-05-12 16:39:00</td>\n",
       "      <td>-104.974700</td>\n",
       "      <td>39.740555</td>\n",
       "      <td>north-capitol-hill</td>\n",
       "      <td>1</td>\n",
       "      <td>0</td>\n",
       "    </tr>\n",
       "  </tbody>\n",
       "</table>\n",
       "<p>243 rows × 8 columns</p>\n",
       "</div>"
      ],
      "text/plain": [
       "                OFFENSE_TYPE_ID           OFFENSE_CATEGORY_ID  \\\n",
       "295715  criminal-mischief-other               public-disorder   \n",
       "296474        liquor-possession                  drug-alcohol   \n",
       "297204         traffic-accident              traffic-accident   \n",
       "299383            theft-bicycle                       larceny   \n",
       "299389   theft-of-motor-vehicle                    auto-theft   \n",
       "...                         ...                           ...   \n",
       "358208       public-peace-other               public-disorder   \n",
       "358448        threats-to-injure               public-disorder   \n",
       "363134            sex-aslt-rape                sexual-assault   \n",
       "365959   menacing-felony-w-weap            aggravated-assault   \n",
       "378711               assault-dv  other-crimes-against-persons   \n",
       "\n",
       "             REPORTED_DATE     GEO_LON    GEO_LAT      NEIGHBORHOOD_ID  \\\n",
       "295715 2016-05-12 23:51:00 -105.017241  39.705845          athmar-park   \n",
       "296474 2016-05-12 18:40:00 -104.995692  39.747875                  cbd   \n",
       "297204 2016-05-12 22:26:00 -104.880037  39.777037            stapleton   \n",
       "299383 2016-05-12 20:35:00 -104.929350  39.763797  northeast-park-hill   \n",
       "299389 2016-05-12 09:39:00 -104.941233  39.775510       elyria-swansea   \n",
       "...                    ...         ...        ...                  ...   \n",
       "358208 2016-05-12 17:55:00 -105.027747  39.700029             westwood   \n",
       "358448 2016-05-12 19:24:00 -104.947118  39.763777              clayton   \n",
       "363134 2016-05-12 22:28:00         NaN        NaN    harvey-park-south   \n",
       "365959 2016-05-12 15:59:00 -104.935172  39.723703              hilltop   \n",
       "378711 2016-05-12 16:39:00 -104.974700  39.740555   north-capitol-hill   \n",
       "\n",
       "        IS_CRIME  IS_TRAFFIC  \n",
       "295715         1           0  \n",
       "296474         1           0  \n",
       "297204         0           1  \n",
       "299383         1           0  \n",
       "299389         1           0  \n",
       "...          ...         ...  \n",
       "358208         1           0  \n",
       "358448         1           0  \n",
       "363134         1           0  \n",
       "365959         1           0  \n",
       "378711         1           0  \n",
       "\n",
       "[243 rows x 8 columns]"
      ]
     },
     "execution_count": 61,
     "metadata": {},
     "output_type": "execute_result"
    }
   ],
   "source": [
    "(crime[crime.REPORTED_DATE.between(left=\"2016-05-12\", right=\"2016-05-13\")])"
   ]
  },
  {
   "cell_type": "code",
   "execution_count": 62,
   "metadata": {
    "lines_to_next_cell": 2
   },
   "outputs": [
    {
     "data": {
      "text/plain": [
       "(8012, 8)"
      ]
     },
     "execution_count": 62,
     "metadata": {},
     "output_type": "execute_result"
    }
   ],
   "source": [
    "(crime[crime.REPORTED_DATE.between(\"2016-05\", \"2016-06\")].shape)"
   ]
  },
  {
   "cell_type": "code",
   "execution_count": 63,
   "metadata": {
    "lines_to_next_cell": 2
   },
   "outputs": [
    {
     "data": {
      "text/plain": [
       "(91076, 8)"
      ]
     },
     "execution_count": 63,
     "metadata": {},
     "output_type": "execute_result"
    }
   ],
   "source": [
    "(crime[crime.REPORTED_DATE.between(\"2016\", \"2017\")].shape)"
   ]
  },
  {
   "cell_type": "code",
   "execution_count": 64,
   "metadata": {
    "lines_to_next_cell": 2
   },
   "outputs": [
    {
     "data": {
      "text/plain": [
       "(4, 8)"
      ]
     },
     "execution_count": 64,
     "metadata": {},
     "output_type": "execute_result"
    }
   ],
   "source": [
    "(crime[crime.REPORTED_DATE.between(\"2016-05-12 03\", \"2016-05-12 04\")].shape)"
   ]
  },
  {
   "cell_type": "code",
   "execution_count": 65,
   "metadata": {
    "lines_to_next_cell": 2
   },
   "outputs": [
    {
     "data": {
      "text/plain": [
       "(252, 8)"
      ]
     },
     "execution_count": 65,
     "metadata": {},
     "output_type": "execute_result"
    }
   ],
   "source": [
    "(crime[crime.REPORTED_DATE.between(\"2016 Sep, 15\", \"2016 Sep, 16\")].shape)"
   ]
  },
  {
   "cell_type": "code",
   "execution_count": 66,
   "metadata": {
    "lines_to_next_cell": 2
   },
   "outputs": [
    {
     "data": {
      "text/plain": [
       "(4, 8)"
      ]
     },
     "execution_count": 66,
     "metadata": {},
     "output_type": "execute_result"
    }
   ],
   "source": [
    "(\n",
    "  crime[\n",
    "    crime.REPORTED_DATE.between(\"21st October 2014 05\", \"21st October 2014 06\")\n",
    "  ].shape\n",
    ")"
   ]
  },
  {
   "cell_type": "code",
   "execution_count": 67,
   "metadata": {
    "lines_to_next_cell": 2
   },
   "outputs": [
    {
     "data": {
      "text/plain": [
       "(75403, 8)"
      ]
     },
     "execution_count": 67,
     "metadata": {},
     "output_type": "execute_result"
    }
   ],
   "source": [
    "(crime[crime.REPORTED_DATE.between(\"2015-3-4 \", \"2016-1-1 23:59:59\")].shape)"
   ]
  },
  {
   "cell_type": "code",
   "execution_count": 68,
   "metadata": {
    "lines_to_next_cell": 2
   },
   "outputs": [
    {
     "data": {
      "text/plain": [
       "(75071, 8)"
      ]
     },
     "execution_count": 68,
     "metadata": {},
     "output_type": "execute_result"
    }
   ],
   "source": [
    "(crime[crime.REPORTED_DATE.between(\"2015-3-4 22\", \"2016-1-1 11:22:00\")].shape)"
   ]
  },
  {
   "cell_type": "code",
   "execution_count": 69,
   "metadata": {
    "lines_to_next_cell": 2
   },
   "outputs": [
    {
     "data": {
      "text/plain": [
       "(75071, 8)"
      ]
     },
     "execution_count": 69,
     "metadata": {},
     "output_type": "execute_result"
    }
   ],
   "source": [
    "lmask = crime.REPORTED_DATE >= \"2015-3-4 22\"\n",
    "rmask = crime.REPORTED_DATE <= \"2016-1-1 11:22:00\"\n",
    "crime[lmask & rmask].shape"
   ]
  },
  {
   "cell_type": "code",
   "execution_count": 70,
   "metadata": {
    "lines_to_next_cell": 2
   },
   "outputs": [
    {
     "name": "stderr",
     "output_type": "stream",
     "text": [
      "<magic-timeit>:1: FutureWarning: Value based partial slicing on non-monotonic DatetimeIndexes with non-existing keys is deprecated and will raise a KeyError in a future Version.\n"
     ]
    },
    {
     "name": "stdout",
     "output_type": "stream",
     "text": [
      "13.4 ms ± 129 µs per loop (mean ± std. dev. of 7 runs, 100 loops each)\n"
     ]
    }
   ],
   "source": [
    "ctseries = crime.set_index(\"REPORTED_DATE\")\n",
    "%timeit ctseries.loc['2015-3-4':'2016-1-1']"
   ]
  },
  {
   "cell_type": "code",
   "execution_count": 71,
   "metadata": {
    "lines_to_next_cell": 2
   },
   "outputs": [
    {
     "name": "stdout",
     "output_type": "stream",
     "text": [
      "12.6 ms ± 129 µs per loop (mean ± std. dev. of 7 runs, 100 loops each)\n"
     ]
    }
   ],
   "source": [
    "%timeit crime[crime.REPORTED_DATE.between('2015-3-4','2016-1-1')]"
   ]
  },
  {
   "cell_type": "markdown",
   "metadata": {},
   "source": [
    "## 11.4 僅適用於DatetimeIndex的方法"
   ]
  },
  {
   "cell_type": "code",
   "execution_count": 72,
   "metadata": {
    "lines_to_next_cell": 2
   },
   "outputs": [
    {
     "data": {
      "text/plain": [
       "pandas.core.indexes.datetimes.DatetimeIndex"
      ]
     },
     "execution_count": 72,
     "metadata": {},
     "output_type": "execute_result"
    }
   ],
   "source": [
    "crime = pd.read_hdf(\"data/crime.h5\", \"crime\").set_index(\"REPORTED_DATE\")\n",
    "type(crime.index)"
   ]
  },
  {
   "cell_type": "code",
   "execution_count": 75,
   "metadata": {},
   "outputs": [
    {
     "data": {
      "text/html": [
       "<div>\n",
       "<style scoped>\n",
       "    .dataframe tbody tr th:only-of-type {\n",
       "        vertical-align: middle;\n",
       "    }\n",
       "\n",
       "    .dataframe tbody tr th {\n",
       "        vertical-align: top;\n",
       "    }\n",
       "\n",
       "    .dataframe thead th {\n",
       "        text-align: right;\n",
       "    }\n",
       "</style>\n",
       "<table border=\"1\" class=\"dataframe\">\n",
       "  <thead>\n",
       "    <tr style=\"text-align: right;\">\n",
       "      <th></th>\n",
       "      <th>OFFENSE_TYPE_ID</th>\n",
       "      <th>OFFENSE_CATEGORY_ID</th>\n",
       "      <th>GEO_LON</th>\n",
       "      <th>GEO_LAT</th>\n",
       "      <th>NEIGHBORHOOD_ID</th>\n",
       "      <th>IS_CRIME</th>\n",
       "      <th>IS_TRAFFIC</th>\n",
       "    </tr>\n",
       "    <tr>\n",
       "      <th>REPORTED_DATE</th>\n",
       "      <th></th>\n",
       "      <th></th>\n",
       "      <th></th>\n",
       "      <th></th>\n",
       "      <th></th>\n",
       "      <th></th>\n",
       "      <th></th>\n",
       "    </tr>\n",
       "  </thead>\n",
       "  <tbody>\n",
       "    <tr>\n",
       "      <th>2014-06-29 02:01:00</th>\n",
       "      <td>traffic-accident-dui-duid</td>\n",
       "      <td>traffic-accident</td>\n",
       "      <td>-105.000149</td>\n",
       "      <td>39.745753</td>\n",
       "      <td>cbd</td>\n",
       "      <td>0</td>\n",
       "      <td>1</td>\n",
       "    </tr>\n",
       "    <tr>\n",
       "      <th>2014-06-29 01:54:00</th>\n",
       "      <td>vehicular-eluding-no-chase</td>\n",
       "      <td>all-other-crimes</td>\n",
       "      <td>-104.884660</td>\n",
       "      <td>39.738702</td>\n",
       "      <td>east-colfax</td>\n",
       "      <td>1</td>\n",
       "      <td>0</td>\n",
       "    </tr>\n",
       "    <tr>\n",
       "      <th>2014-06-29 02:00:00</th>\n",
       "      <td>disturbing-the-peace</td>\n",
       "      <td>public-disorder</td>\n",
       "      <td>-105.020719</td>\n",
       "      <td>39.706674</td>\n",
       "      <td>athmar-park</td>\n",
       "      <td>1</td>\n",
       "      <td>0</td>\n",
       "    </tr>\n",
       "    <tr>\n",
       "      <th>2014-06-29 02:18:00</th>\n",
       "      <td>curfew</td>\n",
       "      <td>public-disorder</td>\n",
       "      <td>-105.001552</td>\n",
       "      <td>39.769505</td>\n",
       "      <td>sunnyside</td>\n",
       "      <td>1</td>\n",
       "      <td>0</td>\n",
       "    </tr>\n",
       "    <tr>\n",
       "      <th>2014-06-29 04:17:00</th>\n",
       "      <td>aggravated-assault</td>\n",
       "      <td>aggravated-assault</td>\n",
       "      <td>-105.018557</td>\n",
       "      <td>39.679229</td>\n",
       "      <td>college-view-south-platte</td>\n",
       "      <td>1</td>\n",
       "      <td>0</td>\n",
       "    </tr>\n",
       "  </tbody>\n",
       "</table>\n",
       "</div>"
      ],
      "text/plain": [
       "                                OFFENSE_TYPE_ID OFFENSE_CATEGORY_ID  \\\n",
       "REPORTED_DATE                                                         \n",
       "2014-06-29 02:01:00   traffic-accident-dui-duid    traffic-accident   \n",
       "2014-06-29 01:54:00  vehicular-eluding-no-chase    all-other-crimes   \n",
       "2014-06-29 02:00:00        disturbing-the-peace     public-disorder   \n",
       "2014-06-29 02:18:00                      curfew     public-disorder   \n",
       "2014-06-29 04:17:00          aggravated-assault  aggravated-assault   \n",
       "\n",
       "                        GEO_LON    GEO_LAT            NEIGHBORHOOD_ID  \\\n",
       "REPORTED_DATE                                                           \n",
       "2014-06-29 02:01:00 -105.000149  39.745753                        cbd   \n",
       "2014-06-29 01:54:00 -104.884660  39.738702                east-colfax   \n",
       "2014-06-29 02:00:00 -105.020719  39.706674                athmar-park   \n",
       "2014-06-29 02:18:00 -105.001552  39.769505                  sunnyside   \n",
       "2014-06-29 04:17:00 -105.018557  39.679229  college-view-south-platte   \n",
       "\n",
       "                     IS_CRIME  IS_TRAFFIC  \n",
       "REPORTED_DATE                              \n",
       "2014-06-29 02:01:00         0           1  \n",
       "2014-06-29 01:54:00         1           0  \n",
       "2014-06-29 02:00:00         1           0  \n",
       "2014-06-29 02:18:00         1           0  \n",
       "2014-06-29 04:17:00         1           0  "
      ]
     },
     "execution_count": 75,
     "metadata": {},
     "output_type": "execute_result"
    }
   ],
   "source": [
    "crime.head()"
   ]
  },
  {
   "cell_type": "code",
   "execution_count": 76,
   "metadata": {},
   "outputs": [
    {
     "data": {
      "text/plain": [
       "Index(['OFFENSE_TYPE_ID', 'OFFENSE_CATEGORY_ID', 'GEO_LON', 'GEO_LAT',\n",
       "       'NEIGHBORHOOD_ID', 'IS_CRIME', 'IS_TRAFFIC'],\n",
       "      dtype='object')"
      ]
     },
     "execution_count": 76,
     "metadata": {},
     "output_type": "execute_result"
    }
   ],
   "source": [
    "crime.columns"
   ]
  },
  {
   "cell_type": "code",
   "execution_count": 77,
   "metadata": {},
   "outputs": [
    {
     "data": {
      "text/plain": [
       "OFFENSE_TYPE_ID        category\n",
       "OFFENSE_CATEGORY_ID    category\n",
       "GEO_LON                 float64\n",
       "GEO_LAT                 float64\n",
       "NEIGHBORHOOD_ID        category\n",
       "IS_CRIME                  int64\n",
       "IS_TRAFFIC                int64\n",
       "dtype: object"
      ]
     },
     "execution_count": 77,
     "metadata": {},
     "output_type": "execute_result"
    }
   ],
   "source": [
    "crime.dtypes"
   ]
  },
  {
   "cell_type": "code",
   "execution_count": 73,
   "metadata": {
    "lines_to_next_cell": 2
   },
   "outputs": [
    {
     "name": "stderr",
     "output_type": "stream",
     "text": [
      "C:\\Users\\aaronhsu\\AppData\\Local\\Temp\\ipykernel_24768\\581884243.py:1: FutureWarning: `include_start` and `include_end` are deprecated in favour of `inclusive`.\n",
      "  crime.between_time('2:00', '5:00', include_end=False)\n"
     ]
    },
    {
     "data": {
      "text/html": [
       "<div>\n",
       "<style scoped>\n",
       "    .dataframe tbody tr th:only-of-type {\n",
       "        vertical-align: middle;\n",
       "    }\n",
       "\n",
       "    .dataframe tbody tr th {\n",
       "        vertical-align: top;\n",
       "    }\n",
       "\n",
       "    .dataframe thead th {\n",
       "        text-align: right;\n",
       "    }\n",
       "</style>\n",
       "<table border=\"1\" class=\"dataframe\">\n",
       "  <thead>\n",
       "    <tr style=\"text-align: right;\">\n",
       "      <th></th>\n",
       "      <th>OFFENSE_TYPE_ID</th>\n",
       "      <th>OFFENSE_CATEGORY_ID</th>\n",
       "      <th>GEO_LON</th>\n",
       "      <th>GEO_LAT</th>\n",
       "      <th>NEIGHBORHOOD_ID</th>\n",
       "      <th>IS_CRIME</th>\n",
       "      <th>IS_TRAFFIC</th>\n",
       "    </tr>\n",
       "    <tr>\n",
       "      <th>REPORTED_DATE</th>\n",
       "      <th></th>\n",
       "      <th></th>\n",
       "      <th></th>\n",
       "      <th></th>\n",
       "      <th></th>\n",
       "      <th></th>\n",
       "      <th></th>\n",
       "    </tr>\n",
       "  </thead>\n",
       "  <tbody>\n",
       "    <tr>\n",
       "      <th>2014-06-29 02:01:00</th>\n",
       "      <td>traffic-accident-dui-duid</td>\n",
       "      <td>traffic-accident</td>\n",
       "      <td>-105.000149</td>\n",
       "      <td>39.745753</td>\n",
       "      <td>cbd</td>\n",
       "      <td>0</td>\n",
       "      <td>1</td>\n",
       "    </tr>\n",
       "    <tr>\n",
       "      <th>2014-06-29 02:00:00</th>\n",
       "      <td>disturbing-the-peace</td>\n",
       "      <td>public-disorder</td>\n",
       "      <td>-105.020719</td>\n",
       "      <td>39.706674</td>\n",
       "      <td>athmar-park</td>\n",
       "      <td>1</td>\n",
       "      <td>0</td>\n",
       "    </tr>\n",
       "    <tr>\n",
       "      <th>2014-06-29 02:18:00</th>\n",
       "      <td>curfew</td>\n",
       "      <td>public-disorder</td>\n",
       "      <td>-105.001552</td>\n",
       "      <td>39.769505</td>\n",
       "      <td>sunnyside</td>\n",
       "      <td>1</td>\n",
       "      <td>0</td>\n",
       "    </tr>\n",
       "    <tr>\n",
       "      <th>2014-06-29 04:17:00</th>\n",
       "      <td>aggravated-assault</td>\n",
       "      <td>aggravated-assault</td>\n",
       "      <td>-105.018557</td>\n",
       "      <td>39.679229</td>\n",
       "      <td>college-view-south-platte</td>\n",
       "      <td>1</td>\n",
       "      <td>0</td>\n",
       "    </tr>\n",
       "    <tr>\n",
       "      <th>2014-06-29 04:22:00</th>\n",
       "      <td>violation-of-restraining-order</td>\n",
       "      <td>all-other-crimes</td>\n",
       "      <td>-104.972447</td>\n",
       "      <td>39.739449</td>\n",
       "      <td>cheesman-park</td>\n",
       "      <td>1</td>\n",
       "      <td>0</td>\n",
       "    </tr>\n",
       "    <tr>\n",
       "      <th>...</th>\n",
       "      <td>...</td>\n",
       "      <td>...</td>\n",
       "      <td>...</td>\n",
       "      <td>...</td>\n",
       "      <td>...</td>\n",
       "      <td>...</td>\n",
       "      <td>...</td>\n",
       "    </tr>\n",
       "    <tr>\n",
       "      <th>2017-08-25 04:41:00</th>\n",
       "      <td>theft-items-from-vehicle</td>\n",
       "      <td>theft-from-motor-vehicle</td>\n",
       "      <td>-104.880586</td>\n",
       "      <td>39.645164</td>\n",
       "      <td>hampden-south</td>\n",
       "      <td>1</td>\n",
       "      <td>0</td>\n",
       "    </tr>\n",
       "    <tr>\n",
       "      <th>2017-09-13 04:17:00</th>\n",
       "      <td>theft-of-motor-vehicle</td>\n",
       "      <td>auto-theft</td>\n",
       "      <td>-105.028694</td>\n",
       "      <td>39.708288</td>\n",
       "      <td>westwood</td>\n",
       "      <td>1</td>\n",
       "      <td>0</td>\n",
       "    </tr>\n",
       "    <tr>\n",
       "      <th>2017-09-13 02:21:00</th>\n",
       "      <td>assault-simple</td>\n",
       "      <td>other-crimes-against-persons</td>\n",
       "      <td>-104.925733</td>\n",
       "      <td>39.654184</td>\n",
       "      <td>university-hills</td>\n",
       "      <td>1</td>\n",
       "      <td>0</td>\n",
       "    </tr>\n",
       "    <tr>\n",
       "      <th>2017-09-13 03:21:00</th>\n",
       "      <td>traffic-accident-dui-duid</td>\n",
       "      <td>traffic-accident</td>\n",
       "      <td>-105.010711</td>\n",
       "      <td>39.757385</td>\n",
       "      <td>highland</td>\n",
       "      <td>0</td>\n",
       "      <td>1</td>\n",
       "    </tr>\n",
       "    <tr>\n",
       "      <th>2017-09-13 02:15:00</th>\n",
       "      <td>traffic-accident-hit-and-run</td>\n",
       "      <td>traffic-accident</td>\n",
       "      <td>-105.043950</td>\n",
       "      <td>39.787436</td>\n",
       "      <td>regis</td>\n",
       "      <td>0</td>\n",
       "      <td>1</td>\n",
       "    </tr>\n",
       "  </tbody>\n",
       "</table>\n",
       "<p>29078 rows × 7 columns</p>\n",
       "</div>"
      ],
      "text/plain": [
       "                                    OFFENSE_TYPE_ID  \\\n",
       "REPORTED_DATE                                         \n",
       "2014-06-29 02:01:00       traffic-accident-dui-duid   \n",
       "2014-06-29 02:00:00            disturbing-the-peace   \n",
       "2014-06-29 02:18:00                          curfew   \n",
       "2014-06-29 04:17:00              aggravated-assault   \n",
       "2014-06-29 04:22:00  violation-of-restraining-order   \n",
       "...                                             ...   \n",
       "2017-08-25 04:41:00        theft-items-from-vehicle   \n",
       "2017-09-13 04:17:00          theft-of-motor-vehicle   \n",
       "2017-09-13 02:21:00                  assault-simple   \n",
       "2017-09-13 03:21:00       traffic-accident-dui-duid   \n",
       "2017-09-13 02:15:00    traffic-accident-hit-and-run   \n",
       "\n",
       "                              OFFENSE_CATEGORY_ID     GEO_LON    GEO_LAT  \\\n",
       "REPORTED_DATE                                                              \n",
       "2014-06-29 02:01:00              traffic-accident -105.000149  39.745753   \n",
       "2014-06-29 02:00:00               public-disorder -105.020719  39.706674   \n",
       "2014-06-29 02:18:00               public-disorder -105.001552  39.769505   \n",
       "2014-06-29 04:17:00            aggravated-assault -105.018557  39.679229   \n",
       "2014-06-29 04:22:00              all-other-crimes -104.972447  39.739449   \n",
       "...                                           ...         ...        ...   \n",
       "2017-08-25 04:41:00      theft-from-motor-vehicle -104.880586  39.645164   \n",
       "2017-09-13 04:17:00                    auto-theft -105.028694  39.708288   \n",
       "2017-09-13 02:21:00  other-crimes-against-persons -104.925733  39.654184   \n",
       "2017-09-13 03:21:00              traffic-accident -105.010711  39.757385   \n",
       "2017-09-13 02:15:00              traffic-accident -105.043950  39.787436   \n",
       "\n",
       "                               NEIGHBORHOOD_ID  IS_CRIME  IS_TRAFFIC  \n",
       "REPORTED_DATE                                                         \n",
       "2014-06-29 02:01:00                        cbd         0           1  \n",
       "2014-06-29 02:00:00                athmar-park         1           0  \n",
       "2014-06-29 02:18:00                  sunnyside         1           0  \n",
       "2014-06-29 04:17:00  college-view-south-platte         1           0  \n",
       "2014-06-29 04:22:00              cheesman-park         1           0  \n",
       "...                                        ...       ...         ...  \n",
       "2017-08-25 04:41:00              hampden-south         1           0  \n",
       "2017-09-13 04:17:00                   westwood         1           0  \n",
       "2017-09-13 02:21:00           university-hills         1           0  \n",
       "2017-09-13 03:21:00                   highland         0           1  \n",
       "2017-09-13 02:15:00                      regis         0           1  \n",
       "\n",
       "[29078 rows x 7 columns]"
      ]
     },
     "execution_count": 73,
     "metadata": {},
     "output_type": "execute_result"
    }
   ],
   "source": [
    "crime.between_time(\"2:00\", \"5:00\", include_end=False)"
   ]
  },
  {
   "cell_type": "code",
   "execution_count": 74,
   "metadata": {},
   "outputs": [
    {
     "name": "stderr",
     "output_type": "stream",
     "text": [
      "C:\\Users\\aaronhsu\\AppData\\Local\\Temp\\ipykernel_24768\\1164802990.py:2: FutureWarning: `include_start` and `include_end` are deprecated in favour of `inclusive`.\n",
      "  crime.between_time(datetime.time(2,0), datetime.time(5,0), include_end=False)\n"
     ]
    },
    {
     "data": {
      "text/html": [
       "<div>\n",
       "<style scoped>\n",
       "    .dataframe tbody tr th:only-of-type {\n",
       "        vertical-align: middle;\n",
       "    }\n",
       "\n",
       "    .dataframe tbody tr th {\n",
       "        vertical-align: top;\n",
       "    }\n",
       "\n",
       "    .dataframe thead th {\n",
       "        text-align: right;\n",
       "    }\n",
       "</style>\n",
       "<table border=\"1\" class=\"dataframe\">\n",
       "  <thead>\n",
       "    <tr style=\"text-align: right;\">\n",
       "      <th></th>\n",
       "      <th>OFFENSE_TYPE_ID</th>\n",
       "      <th>OFFENSE_CATEGORY_ID</th>\n",
       "      <th>GEO_LON</th>\n",
       "      <th>GEO_LAT</th>\n",
       "      <th>NEIGHBORHOOD_ID</th>\n",
       "      <th>IS_CRIME</th>\n",
       "      <th>IS_TRAFFIC</th>\n",
       "    </tr>\n",
       "    <tr>\n",
       "      <th>REPORTED_DATE</th>\n",
       "      <th></th>\n",
       "      <th></th>\n",
       "      <th></th>\n",
       "      <th></th>\n",
       "      <th></th>\n",
       "      <th></th>\n",
       "      <th></th>\n",
       "    </tr>\n",
       "  </thead>\n",
       "  <tbody>\n",
       "    <tr>\n",
       "      <th>2014-06-29 02:01:00</th>\n",
       "      <td>traffic-accident-dui-duid</td>\n",
       "      <td>traffic-accident</td>\n",
       "      <td>-105.000149</td>\n",
       "      <td>39.745753</td>\n",
       "      <td>cbd</td>\n",
       "      <td>0</td>\n",
       "      <td>1</td>\n",
       "    </tr>\n",
       "    <tr>\n",
       "      <th>2014-06-29 02:00:00</th>\n",
       "      <td>disturbing-the-peace</td>\n",
       "      <td>public-disorder</td>\n",
       "      <td>-105.020719</td>\n",
       "      <td>39.706674</td>\n",
       "      <td>athmar-park</td>\n",
       "      <td>1</td>\n",
       "      <td>0</td>\n",
       "    </tr>\n",
       "    <tr>\n",
       "      <th>2014-06-29 02:18:00</th>\n",
       "      <td>curfew</td>\n",
       "      <td>public-disorder</td>\n",
       "      <td>-105.001552</td>\n",
       "      <td>39.769505</td>\n",
       "      <td>sunnyside</td>\n",
       "      <td>1</td>\n",
       "      <td>0</td>\n",
       "    </tr>\n",
       "    <tr>\n",
       "      <th>2014-06-29 04:17:00</th>\n",
       "      <td>aggravated-assault</td>\n",
       "      <td>aggravated-assault</td>\n",
       "      <td>-105.018557</td>\n",
       "      <td>39.679229</td>\n",
       "      <td>college-view-south-platte</td>\n",
       "      <td>1</td>\n",
       "      <td>0</td>\n",
       "    </tr>\n",
       "    <tr>\n",
       "      <th>2014-06-29 04:22:00</th>\n",
       "      <td>violation-of-restraining-order</td>\n",
       "      <td>all-other-crimes</td>\n",
       "      <td>-104.972447</td>\n",
       "      <td>39.739449</td>\n",
       "      <td>cheesman-park</td>\n",
       "      <td>1</td>\n",
       "      <td>0</td>\n",
       "    </tr>\n",
       "    <tr>\n",
       "      <th>...</th>\n",
       "      <td>...</td>\n",
       "      <td>...</td>\n",
       "      <td>...</td>\n",
       "      <td>...</td>\n",
       "      <td>...</td>\n",
       "      <td>...</td>\n",
       "      <td>...</td>\n",
       "    </tr>\n",
       "    <tr>\n",
       "      <th>2017-08-25 04:41:00</th>\n",
       "      <td>theft-items-from-vehicle</td>\n",
       "      <td>theft-from-motor-vehicle</td>\n",
       "      <td>-104.880586</td>\n",
       "      <td>39.645164</td>\n",
       "      <td>hampden-south</td>\n",
       "      <td>1</td>\n",
       "      <td>0</td>\n",
       "    </tr>\n",
       "    <tr>\n",
       "      <th>2017-09-13 04:17:00</th>\n",
       "      <td>theft-of-motor-vehicle</td>\n",
       "      <td>auto-theft</td>\n",
       "      <td>-105.028694</td>\n",
       "      <td>39.708288</td>\n",
       "      <td>westwood</td>\n",
       "      <td>1</td>\n",
       "      <td>0</td>\n",
       "    </tr>\n",
       "    <tr>\n",
       "      <th>2017-09-13 02:21:00</th>\n",
       "      <td>assault-simple</td>\n",
       "      <td>other-crimes-against-persons</td>\n",
       "      <td>-104.925733</td>\n",
       "      <td>39.654184</td>\n",
       "      <td>university-hills</td>\n",
       "      <td>1</td>\n",
       "      <td>0</td>\n",
       "    </tr>\n",
       "    <tr>\n",
       "      <th>2017-09-13 03:21:00</th>\n",
       "      <td>traffic-accident-dui-duid</td>\n",
       "      <td>traffic-accident</td>\n",
       "      <td>-105.010711</td>\n",
       "      <td>39.757385</td>\n",
       "      <td>highland</td>\n",
       "      <td>0</td>\n",
       "      <td>1</td>\n",
       "    </tr>\n",
       "    <tr>\n",
       "      <th>2017-09-13 02:15:00</th>\n",
       "      <td>traffic-accident-hit-and-run</td>\n",
       "      <td>traffic-accident</td>\n",
       "      <td>-105.043950</td>\n",
       "      <td>39.787436</td>\n",
       "      <td>regis</td>\n",
       "      <td>0</td>\n",
       "      <td>1</td>\n",
       "    </tr>\n",
       "  </tbody>\n",
       "</table>\n",
       "<p>29078 rows × 7 columns</p>\n",
       "</div>"
      ],
      "text/plain": [
       "                                    OFFENSE_TYPE_ID  \\\n",
       "REPORTED_DATE                                         \n",
       "2014-06-29 02:01:00       traffic-accident-dui-duid   \n",
       "2014-06-29 02:00:00            disturbing-the-peace   \n",
       "2014-06-29 02:18:00                          curfew   \n",
       "2014-06-29 04:17:00              aggravated-assault   \n",
       "2014-06-29 04:22:00  violation-of-restraining-order   \n",
       "...                                             ...   \n",
       "2017-08-25 04:41:00        theft-items-from-vehicle   \n",
       "2017-09-13 04:17:00          theft-of-motor-vehicle   \n",
       "2017-09-13 02:21:00                  assault-simple   \n",
       "2017-09-13 03:21:00       traffic-accident-dui-duid   \n",
       "2017-09-13 02:15:00    traffic-accident-hit-and-run   \n",
       "\n",
       "                              OFFENSE_CATEGORY_ID     GEO_LON    GEO_LAT  \\\n",
       "REPORTED_DATE                                                              \n",
       "2014-06-29 02:01:00              traffic-accident -105.000149  39.745753   \n",
       "2014-06-29 02:00:00               public-disorder -105.020719  39.706674   \n",
       "2014-06-29 02:18:00               public-disorder -105.001552  39.769505   \n",
       "2014-06-29 04:17:00            aggravated-assault -105.018557  39.679229   \n",
       "2014-06-29 04:22:00              all-other-crimes -104.972447  39.739449   \n",
       "...                                           ...         ...        ...   \n",
       "2017-08-25 04:41:00      theft-from-motor-vehicle -104.880586  39.645164   \n",
       "2017-09-13 04:17:00                    auto-theft -105.028694  39.708288   \n",
       "2017-09-13 02:21:00  other-crimes-against-persons -104.925733  39.654184   \n",
       "2017-09-13 03:21:00              traffic-accident -105.010711  39.757385   \n",
       "2017-09-13 02:15:00              traffic-accident -105.043950  39.787436   \n",
       "\n",
       "                               NEIGHBORHOOD_ID  IS_CRIME  IS_TRAFFIC  \n",
       "REPORTED_DATE                                                         \n",
       "2014-06-29 02:01:00                        cbd         0           1  \n",
       "2014-06-29 02:00:00                athmar-park         1           0  \n",
       "2014-06-29 02:18:00                  sunnyside         1           0  \n",
       "2014-06-29 04:17:00  college-view-south-platte         1           0  \n",
       "2014-06-29 04:22:00              cheesman-park         1           0  \n",
       "...                                        ...       ...         ...  \n",
       "2017-08-25 04:41:00              hampden-south         1           0  \n",
       "2017-09-13 04:17:00                   westwood         1           0  \n",
       "2017-09-13 02:21:00           university-hills         1           0  \n",
       "2017-09-13 03:21:00                   highland         0           1  \n",
       "2017-09-13 02:15:00                      regis         0           1  \n",
       "\n",
       "[29078 rows x 7 columns]"
      ]
     },
     "execution_count": 74,
     "metadata": {},
     "output_type": "execute_result"
    }
   ],
   "source": [
    "import datetime\n",
    "\n",
    "crime.between_time(datetime.time(2, 0), datetime.time(5, 0), include_end=False)"
   ]
  },
  {
   "cell_type": "code",
   "execution_count": 78,
   "metadata": {
    "lines_to_next_cell": 2
   },
   "outputs": [
    {
     "data": {
      "text/html": [
       "<div>\n",
       "<style scoped>\n",
       "    .dataframe tbody tr th:only-of-type {\n",
       "        vertical-align: middle;\n",
       "    }\n",
       "\n",
       "    .dataframe tbody tr th {\n",
       "        vertical-align: top;\n",
       "    }\n",
       "\n",
       "    .dataframe thead th {\n",
       "        text-align: right;\n",
       "    }\n",
       "</style>\n",
       "<table border=\"1\" class=\"dataframe\">\n",
       "  <thead>\n",
       "    <tr style=\"text-align: right;\">\n",
       "      <th></th>\n",
       "      <th>OFFENSE_TYPE_ID</th>\n",
       "      <th>OFFENSE_CATEGORY_ID</th>\n",
       "      <th>GEO_LON</th>\n",
       "      <th>GEO_LAT</th>\n",
       "      <th>NEIGHBORHOOD_ID</th>\n",
       "      <th>IS_CRIME</th>\n",
       "      <th>IS_TRAFFIC</th>\n",
       "    </tr>\n",
       "    <tr>\n",
       "      <th>REPORTED_DATE</th>\n",
       "      <th></th>\n",
       "      <th></th>\n",
       "      <th></th>\n",
       "      <th></th>\n",
       "      <th></th>\n",
       "      <th></th>\n",
       "      <th></th>\n",
       "    </tr>\n",
       "  </thead>\n",
       "  <tbody>\n",
       "    <tr>\n",
       "      <th>2013-11-26 05:47:00</th>\n",
       "      <td>criminal-mischief-other</td>\n",
       "      <td>public-disorder</td>\n",
       "      <td>-104.991476</td>\n",
       "      <td>39.751536</td>\n",
       "      <td>cbd</td>\n",
       "      <td>1</td>\n",
       "      <td>0</td>\n",
       "    </tr>\n",
       "    <tr>\n",
       "      <th>2017-04-09 05:47:00</th>\n",
       "      <td>criminal-mischief-mtr-veh</td>\n",
       "      <td>public-disorder</td>\n",
       "      <td>-104.959394</td>\n",
       "      <td>39.678425</td>\n",
       "      <td>university</td>\n",
       "      <td>1</td>\n",
       "      <td>0</td>\n",
       "    </tr>\n",
       "    <tr>\n",
       "      <th>2017-02-19 05:47:00</th>\n",
       "      <td>criminal-mischief-other</td>\n",
       "      <td>public-disorder</td>\n",
       "      <td>-104.986767</td>\n",
       "      <td>39.741336</td>\n",
       "      <td>north-capitol-hill</td>\n",
       "      <td>1</td>\n",
       "      <td>0</td>\n",
       "    </tr>\n",
       "    <tr>\n",
       "      <th>2017-02-16 05:47:00</th>\n",
       "      <td>aggravated-assault</td>\n",
       "      <td>aggravated-assault</td>\n",
       "      <td>-104.934029</td>\n",
       "      <td>39.732320</td>\n",
       "      <td>hale</td>\n",
       "      <td>1</td>\n",
       "      <td>0</td>\n",
       "    </tr>\n",
       "    <tr>\n",
       "      <th>2017-02-12 05:47:00</th>\n",
       "      <td>police-interference</td>\n",
       "      <td>all-other-crimes</td>\n",
       "      <td>-104.976306</td>\n",
       "      <td>39.722644</td>\n",
       "      <td>speer</td>\n",
       "      <td>1</td>\n",
       "      <td>0</td>\n",
       "    </tr>\n",
       "    <tr>\n",
       "      <th>...</th>\n",
       "      <td>...</td>\n",
       "      <td>...</td>\n",
       "      <td>...</td>\n",
       "      <td>...</td>\n",
       "      <td>...</td>\n",
       "      <td>...</td>\n",
       "      <td>...</td>\n",
       "    </tr>\n",
       "    <tr>\n",
       "      <th>2013-09-10 05:47:00</th>\n",
       "      <td>traffic-accident</td>\n",
       "      <td>traffic-accident</td>\n",
       "      <td>-104.986311</td>\n",
       "      <td>39.708426</td>\n",
       "      <td>washington-park-west</td>\n",
       "      <td>0</td>\n",
       "      <td>1</td>\n",
       "    </tr>\n",
       "    <tr>\n",
       "      <th>2013-03-14 05:47:00</th>\n",
       "      <td>theft-other</td>\n",
       "      <td>larceny</td>\n",
       "      <td>-105.047861</td>\n",
       "      <td>39.727237</td>\n",
       "      <td>villa-park</td>\n",
       "      <td>1</td>\n",
       "      <td>0</td>\n",
       "    </tr>\n",
       "    <tr>\n",
       "      <th>2012-10-08 05:47:00</th>\n",
       "      <td>theft-items-from-vehicle</td>\n",
       "      <td>theft-from-motor-vehicle</td>\n",
       "      <td>-105.037308</td>\n",
       "      <td>39.768336</td>\n",
       "      <td>west-highland</td>\n",
       "      <td>1</td>\n",
       "      <td>0</td>\n",
       "    </tr>\n",
       "    <tr>\n",
       "      <th>2013-08-21 05:47:00</th>\n",
       "      <td>theft-items-from-vehicle</td>\n",
       "      <td>theft-from-motor-vehicle</td>\n",
       "      <td>-105.021310</td>\n",
       "      <td>39.758076</td>\n",
       "      <td>jefferson-park</td>\n",
       "      <td>1</td>\n",
       "      <td>0</td>\n",
       "    </tr>\n",
       "    <tr>\n",
       "      <th>2017-08-23 05:47:00</th>\n",
       "      <td>traffic-accident-hit-and-run</td>\n",
       "      <td>traffic-accident</td>\n",
       "      <td>-104.931056</td>\n",
       "      <td>39.702503</td>\n",
       "      <td>washington-virginia-vale</td>\n",
       "      <td>0</td>\n",
       "      <td>1</td>\n",
       "    </tr>\n",
       "  </tbody>\n",
       "</table>\n",
       "<p>118 rows × 7 columns</p>\n",
       "</div>"
      ],
      "text/plain": [
       "                                  OFFENSE_TYPE_ID       OFFENSE_CATEGORY_ID  \\\n",
       "REPORTED_DATE                                                                 \n",
       "2013-11-26 05:47:00       criminal-mischief-other           public-disorder   \n",
       "2017-04-09 05:47:00     criminal-mischief-mtr-veh           public-disorder   \n",
       "2017-02-19 05:47:00       criminal-mischief-other           public-disorder   \n",
       "2017-02-16 05:47:00            aggravated-assault        aggravated-assault   \n",
       "2017-02-12 05:47:00           police-interference          all-other-crimes   \n",
       "...                                           ...                       ...   \n",
       "2013-09-10 05:47:00              traffic-accident          traffic-accident   \n",
       "2013-03-14 05:47:00                   theft-other                   larceny   \n",
       "2012-10-08 05:47:00      theft-items-from-vehicle  theft-from-motor-vehicle   \n",
       "2013-08-21 05:47:00      theft-items-from-vehicle  theft-from-motor-vehicle   \n",
       "2017-08-23 05:47:00  traffic-accident-hit-and-run          traffic-accident   \n",
       "\n",
       "                        GEO_LON    GEO_LAT           NEIGHBORHOOD_ID  \\\n",
       "REPORTED_DATE                                                          \n",
       "2013-11-26 05:47:00 -104.991476  39.751536                       cbd   \n",
       "2017-04-09 05:47:00 -104.959394  39.678425                university   \n",
       "2017-02-19 05:47:00 -104.986767  39.741336        north-capitol-hill   \n",
       "2017-02-16 05:47:00 -104.934029  39.732320                      hale   \n",
       "2017-02-12 05:47:00 -104.976306  39.722644                     speer   \n",
       "...                         ...        ...                       ...   \n",
       "2013-09-10 05:47:00 -104.986311  39.708426      washington-park-west   \n",
       "2013-03-14 05:47:00 -105.047861  39.727237                villa-park   \n",
       "2012-10-08 05:47:00 -105.037308  39.768336             west-highland   \n",
       "2013-08-21 05:47:00 -105.021310  39.758076            jefferson-park   \n",
       "2017-08-23 05:47:00 -104.931056  39.702503  washington-virginia-vale   \n",
       "\n",
       "                     IS_CRIME  IS_TRAFFIC  \n",
       "REPORTED_DATE                              \n",
       "2013-11-26 05:47:00         1           0  \n",
       "2017-04-09 05:47:00         1           0  \n",
       "2017-02-19 05:47:00         1           0  \n",
       "2017-02-16 05:47:00         1           0  \n",
       "2017-02-12 05:47:00         1           0  \n",
       "...                       ...         ...  \n",
       "2013-09-10 05:47:00         0           1  \n",
       "2013-03-14 05:47:00         1           0  \n",
       "2012-10-08 05:47:00         1           0  \n",
       "2013-08-21 05:47:00         1           0  \n",
       "2017-08-23 05:47:00         0           1  \n",
       "\n",
       "[118 rows x 7 columns]"
      ]
     },
     "execution_count": 78,
     "metadata": {},
     "output_type": "execute_result"
    }
   ],
   "source": [
    "crime.at_time(\"5:47\")"
   ]
  },
  {
   "cell_type": "code",
   "execution_count": 79,
   "metadata": {
    "lines_to_next_cell": 2
   },
   "outputs": [
    {
     "data": {
      "text/html": [
       "<div>\n",
       "<style scoped>\n",
       "    .dataframe tbody tr th:only-of-type {\n",
       "        vertical-align: middle;\n",
       "    }\n",
       "\n",
       "    .dataframe tbody tr th {\n",
       "        vertical-align: top;\n",
       "    }\n",
       "\n",
       "    .dataframe thead th {\n",
       "        text-align: right;\n",
       "    }\n",
       "</style>\n",
       "<table border=\"1\" class=\"dataframe\">\n",
       "  <thead>\n",
       "    <tr style=\"text-align: right;\">\n",
       "      <th></th>\n",
       "      <th>OFFENSE_TYPE_ID</th>\n",
       "      <th>OFFENSE_CATEGORY_ID</th>\n",
       "      <th>GEO_LON</th>\n",
       "      <th>GEO_LAT</th>\n",
       "      <th>NEIGHBORHOOD_ID</th>\n",
       "      <th>IS_CRIME</th>\n",
       "      <th>IS_TRAFFIC</th>\n",
       "    </tr>\n",
       "    <tr>\n",
       "      <th>REPORTED_DATE</th>\n",
       "      <th></th>\n",
       "      <th></th>\n",
       "      <th></th>\n",
       "      <th></th>\n",
       "      <th></th>\n",
       "      <th></th>\n",
       "      <th></th>\n",
       "    </tr>\n",
       "  </thead>\n",
       "  <tbody>\n",
       "    <tr>\n",
       "      <th>2012-01-02 00:06:00</th>\n",
       "      <td>aggravated-assault</td>\n",
       "      <td>aggravated-assault</td>\n",
       "      <td>-104.816860</td>\n",
       "      <td>39.796717</td>\n",
       "      <td>montbello</td>\n",
       "      <td>1</td>\n",
       "      <td>0</td>\n",
       "    </tr>\n",
       "    <tr>\n",
       "      <th>2012-01-02 00:06:00</th>\n",
       "      <td>violation-of-restraining-order</td>\n",
       "      <td>all-other-crimes</td>\n",
       "      <td>-104.816860</td>\n",
       "      <td>39.796717</td>\n",
       "      <td>montbello</td>\n",
       "      <td>1</td>\n",
       "      <td>0</td>\n",
       "    </tr>\n",
       "    <tr>\n",
       "      <th>2012-01-02 00:16:00</th>\n",
       "      <td>traffic-accident-dui-duid</td>\n",
       "      <td>traffic-accident</td>\n",
       "      <td>-104.971851</td>\n",
       "      <td>39.736874</td>\n",
       "      <td>cheesman-park</td>\n",
       "      <td>0</td>\n",
       "      <td>1</td>\n",
       "    </tr>\n",
       "    <tr>\n",
       "      <th>2012-01-02 00:47:00</th>\n",
       "      <td>traffic-accident</td>\n",
       "      <td>traffic-accident</td>\n",
       "      <td>-104.951824</td>\n",
       "      <td>39.740168</td>\n",
       "      <td>congress-park</td>\n",
       "      <td>0</td>\n",
       "      <td>1</td>\n",
       "    </tr>\n",
       "    <tr>\n",
       "      <th>2012-01-02 01:35:00</th>\n",
       "      <td>aggravated-assault</td>\n",
       "      <td>aggravated-assault</td>\n",
       "      <td>-104.998131</td>\n",
       "      <td>39.749922</td>\n",
       "      <td>union-station</td>\n",
       "      <td>1</td>\n",
       "      <td>0</td>\n",
       "    </tr>\n",
       "    <tr>\n",
       "      <th>...</th>\n",
       "      <td>...</td>\n",
       "      <td>...</td>\n",
       "      <td>...</td>\n",
       "      <td>...</td>\n",
       "      <td>...</td>\n",
       "      <td>...</td>\n",
       "      <td>...</td>\n",
       "    </tr>\n",
       "    <tr>\n",
       "      <th>2012-06-30 23:40:00</th>\n",
       "      <td>traffic-accident-dui-duid</td>\n",
       "      <td>traffic-accident</td>\n",
       "      <td>-104.922266</td>\n",
       "      <td>39.678471</td>\n",
       "      <td>goldsmith</td>\n",
       "      <td>0</td>\n",
       "      <td>1</td>\n",
       "    </tr>\n",
       "    <tr>\n",
       "      <th>2012-06-30 23:44:00</th>\n",
       "      <td>traffic-accident</td>\n",
       "      <td>traffic-accident</td>\n",
       "      <td>-104.987578</td>\n",
       "      <td>39.711158</td>\n",
       "      <td>baker</td>\n",
       "      <td>0</td>\n",
       "      <td>1</td>\n",
       "    </tr>\n",
       "    <tr>\n",
       "      <th>2012-06-30 23:50:00</th>\n",
       "      <td>criminal-mischief-mtr-veh</td>\n",
       "      <td>public-disorder</td>\n",
       "      <td>-104.838271</td>\n",
       "      <td>39.788683</td>\n",
       "      <td>montbello</td>\n",
       "      <td>1</td>\n",
       "      <td>0</td>\n",
       "    </tr>\n",
       "    <tr>\n",
       "      <th>2012-06-30 23:54:00</th>\n",
       "      <td>traffic-accident-hit-and-run</td>\n",
       "      <td>traffic-accident</td>\n",
       "      <td>-105.014162</td>\n",
       "      <td>39.740439</td>\n",
       "      <td>lincoln-park</td>\n",
       "      <td>0</td>\n",
       "      <td>1</td>\n",
       "    </tr>\n",
       "    <tr>\n",
       "      <th>2012-07-01 00:01:00</th>\n",
       "      <td>robbery-street</td>\n",
       "      <td>robbery</td>\n",
       "      <td>-104.924292</td>\n",
       "      <td>39.767585</td>\n",
       "      <td>northeast-park-hill</td>\n",
       "      <td>1</td>\n",
       "      <td>0</td>\n",
       "    </tr>\n",
       "  </tbody>\n",
       "</table>\n",
       "<p>27489 rows × 7 columns</p>\n",
       "</div>"
      ],
      "text/plain": [
       "                                    OFFENSE_TYPE_ID OFFENSE_CATEGORY_ID  \\\n",
       "REPORTED_DATE                                                             \n",
       "2012-01-02 00:06:00              aggravated-assault  aggravated-assault   \n",
       "2012-01-02 00:06:00  violation-of-restraining-order    all-other-crimes   \n",
       "2012-01-02 00:16:00       traffic-accident-dui-duid    traffic-accident   \n",
       "2012-01-02 00:47:00                traffic-accident    traffic-accident   \n",
       "2012-01-02 01:35:00              aggravated-assault  aggravated-assault   \n",
       "...                                             ...                 ...   \n",
       "2012-06-30 23:40:00       traffic-accident-dui-duid    traffic-accident   \n",
       "2012-06-30 23:44:00                traffic-accident    traffic-accident   \n",
       "2012-06-30 23:50:00       criminal-mischief-mtr-veh     public-disorder   \n",
       "2012-06-30 23:54:00    traffic-accident-hit-and-run    traffic-accident   \n",
       "2012-07-01 00:01:00                  robbery-street             robbery   \n",
       "\n",
       "                        GEO_LON    GEO_LAT      NEIGHBORHOOD_ID  IS_CRIME  \\\n",
       "REPORTED_DATE                                                               \n",
       "2012-01-02 00:06:00 -104.816860  39.796717            montbello         1   \n",
       "2012-01-02 00:06:00 -104.816860  39.796717            montbello         1   \n",
       "2012-01-02 00:16:00 -104.971851  39.736874        cheesman-park         0   \n",
       "2012-01-02 00:47:00 -104.951824  39.740168        congress-park         0   \n",
       "2012-01-02 01:35:00 -104.998131  39.749922        union-station         1   \n",
       "...                         ...        ...                  ...       ...   \n",
       "2012-06-30 23:40:00 -104.922266  39.678471            goldsmith         0   \n",
       "2012-06-30 23:44:00 -104.987578  39.711158                baker         0   \n",
       "2012-06-30 23:50:00 -104.838271  39.788683            montbello         1   \n",
       "2012-06-30 23:54:00 -105.014162  39.740439         lincoln-park         0   \n",
       "2012-07-01 00:01:00 -104.924292  39.767585  northeast-park-hill         1   \n",
       "\n",
       "                     IS_TRAFFIC  \n",
       "REPORTED_DATE                    \n",
       "2012-01-02 00:06:00           0  \n",
       "2012-01-02 00:06:00           0  \n",
       "2012-01-02 00:16:00           1  \n",
       "2012-01-02 00:47:00           1  \n",
       "2012-01-02 01:35:00           0  \n",
       "...                         ...  \n",
       "2012-06-30 23:40:00           1  \n",
       "2012-06-30 23:44:00           1  \n",
       "2012-06-30 23:50:00           0  \n",
       "2012-06-30 23:54:00           1  \n",
       "2012-07-01 00:01:00           0  \n",
       "\n",
       "[27489 rows x 7 columns]"
      ]
     },
     "execution_count": 79,
     "metadata": {},
     "output_type": "execute_result"
    }
   ],
   "source": [
    "crime_sort = crime.sort_index()\n",
    "crime_sort.first(offset=pd.offsets.MonthBegin(6))"
   ]
  },
  {
   "cell_type": "code",
   "execution_count": 80,
   "metadata": {
    "lines_to_next_cell": 2
   },
   "outputs": [
    {
     "data": {
      "text/html": [
       "<div>\n",
       "<style scoped>\n",
       "    .dataframe tbody tr th:only-of-type {\n",
       "        vertical-align: middle;\n",
       "    }\n",
       "\n",
       "    .dataframe tbody tr th {\n",
       "        vertical-align: top;\n",
       "    }\n",
       "\n",
       "    .dataframe thead th {\n",
       "        text-align: right;\n",
       "    }\n",
       "</style>\n",
       "<table border=\"1\" class=\"dataframe\">\n",
       "  <thead>\n",
       "    <tr style=\"text-align: right;\">\n",
       "      <th></th>\n",
       "      <th>OFFENSE_TYPE_ID</th>\n",
       "      <th>OFFENSE_CATEGORY_ID</th>\n",
       "      <th>GEO_LON</th>\n",
       "      <th>GEO_LAT</th>\n",
       "      <th>NEIGHBORHOOD_ID</th>\n",
       "      <th>IS_CRIME</th>\n",
       "      <th>IS_TRAFFIC</th>\n",
       "    </tr>\n",
       "    <tr>\n",
       "      <th>REPORTED_DATE</th>\n",
       "      <th></th>\n",
       "      <th></th>\n",
       "      <th></th>\n",
       "      <th></th>\n",
       "      <th></th>\n",
       "      <th></th>\n",
       "      <th></th>\n",
       "    </tr>\n",
       "  </thead>\n",
       "  <tbody>\n",
       "    <tr>\n",
       "      <th>2012-01-02 00:06:00</th>\n",
       "      <td>aggravated-assault</td>\n",
       "      <td>aggravated-assault</td>\n",
       "      <td>-104.816860</td>\n",
       "      <td>39.796717</td>\n",
       "      <td>montbello</td>\n",
       "      <td>1</td>\n",
       "      <td>0</td>\n",
       "    </tr>\n",
       "    <tr>\n",
       "      <th>2012-01-02 00:06:00</th>\n",
       "      <td>violation-of-restraining-order</td>\n",
       "      <td>all-other-crimes</td>\n",
       "      <td>-104.816860</td>\n",
       "      <td>39.796717</td>\n",
       "      <td>montbello</td>\n",
       "      <td>1</td>\n",
       "      <td>0</td>\n",
       "    </tr>\n",
       "    <tr>\n",
       "      <th>2012-01-02 00:16:00</th>\n",
       "      <td>traffic-accident-dui-duid</td>\n",
       "      <td>traffic-accident</td>\n",
       "      <td>-104.971851</td>\n",
       "      <td>39.736874</td>\n",
       "      <td>cheesman-park</td>\n",
       "      <td>0</td>\n",
       "      <td>1</td>\n",
       "    </tr>\n",
       "    <tr>\n",
       "      <th>2012-01-02 00:47:00</th>\n",
       "      <td>traffic-accident</td>\n",
       "      <td>traffic-accident</td>\n",
       "      <td>-104.951824</td>\n",
       "      <td>39.740168</td>\n",
       "      <td>congress-park</td>\n",
       "      <td>0</td>\n",
       "      <td>1</td>\n",
       "    </tr>\n",
       "    <tr>\n",
       "      <th>2012-01-02 01:35:00</th>\n",
       "      <td>aggravated-assault</td>\n",
       "      <td>aggravated-assault</td>\n",
       "      <td>-104.998131</td>\n",
       "      <td>39.749922</td>\n",
       "      <td>union-station</td>\n",
       "      <td>1</td>\n",
       "      <td>0</td>\n",
       "    </tr>\n",
       "    <tr>\n",
       "      <th>...</th>\n",
       "      <td>...</td>\n",
       "      <td>...</td>\n",
       "      <td>...</td>\n",
       "      <td>...</td>\n",
       "      <td>...</td>\n",
       "      <td>...</td>\n",
       "      <td>...</td>\n",
       "    </tr>\n",
       "    <tr>\n",
       "      <th>2012-06-29 23:01:00</th>\n",
       "      <td>aggravated-assault</td>\n",
       "      <td>aggravated-assault</td>\n",
       "      <td>-105.019673</td>\n",
       "      <td>39.733250</td>\n",
       "      <td>sun-valley</td>\n",
       "      <td>1</td>\n",
       "      <td>0</td>\n",
       "    </tr>\n",
       "    <tr>\n",
       "      <th>2012-06-29 23:11:00</th>\n",
       "      <td>traffic-accident</td>\n",
       "      <td>traffic-accident</td>\n",
       "      <td>-104.918451</td>\n",
       "      <td>39.653080</td>\n",
       "      <td>southmoor-park</td>\n",
       "      <td>0</td>\n",
       "      <td>1</td>\n",
       "    </tr>\n",
       "    <tr>\n",
       "      <th>2012-06-29 23:41:00</th>\n",
       "      <td>robbery-street</td>\n",
       "      <td>robbery</td>\n",
       "      <td>-104.991912</td>\n",
       "      <td>39.756163</td>\n",
       "      <td>five-points</td>\n",
       "      <td>1</td>\n",
       "      <td>0</td>\n",
       "    </tr>\n",
       "    <tr>\n",
       "      <th>2012-06-29 23:57:00</th>\n",
       "      <td>assault-simple</td>\n",
       "      <td>other-crimes-against-persons</td>\n",
       "      <td>-104.987360</td>\n",
       "      <td>39.715162</td>\n",
       "      <td>speer</td>\n",
       "      <td>1</td>\n",
       "      <td>0</td>\n",
       "    </tr>\n",
       "    <tr>\n",
       "      <th>2012-06-30 00:04:00</th>\n",
       "      <td>traffic-accident</td>\n",
       "      <td>traffic-accident</td>\n",
       "      <td>-104.894697</td>\n",
       "      <td>39.628902</td>\n",
       "      <td>hampden-south</td>\n",
       "      <td>0</td>\n",
       "      <td>1</td>\n",
       "    </tr>\n",
       "  </tbody>\n",
       "</table>\n",
       "<p>27332 rows × 7 columns</p>\n",
       "</div>"
      ],
      "text/plain": [
       "                                    OFFENSE_TYPE_ID  \\\n",
       "REPORTED_DATE                                         \n",
       "2012-01-02 00:06:00              aggravated-assault   \n",
       "2012-01-02 00:06:00  violation-of-restraining-order   \n",
       "2012-01-02 00:16:00       traffic-accident-dui-duid   \n",
       "2012-01-02 00:47:00                traffic-accident   \n",
       "2012-01-02 01:35:00              aggravated-assault   \n",
       "...                                             ...   \n",
       "2012-06-29 23:01:00              aggravated-assault   \n",
       "2012-06-29 23:11:00                traffic-accident   \n",
       "2012-06-29 23:41:00                  robbery-street   \n",
       "2012-06-29 23:57:00                  assault-simple   \n",
       "2012-06-30 00:04:00                traffic-accident   \n",
       "\n",
       "                              OFFENSE_CATEGORY_ID     GEO_LON    GEO_LAT  \\\n",
       "REPORTED_DATE                                                              \n",
       "2012-01-02 00:06:00            aggravated-assault -104.816860  39.796717   \n",
       "2012-01-02 00:06:00              all-other-crimes -104.816860  39.796717   \n",
       "2012-01-02 00:16:00              traffic-accident -104.971851  39.736874   \n",
       "2012-01-02 00:47:00              traffic-accident -104.951824  39.740168   \n",
       "2012-01-02 01:35:00            aggravated-assault -104.998131  39.749922   \n",
       "...                                           ...         ...        ...   \n",
       "2012-06-29 23:01:00            aggravated-assault -105.019673  39.733250   \n",
       "2012-06-29 23:11:00              traffic-accident -104.918451  39.653080   \n",
       "2012-06-29 23:41:00                       robbery -104.991912  39.756163   \n",
       "2012-06-29 23:57:00  other-crimes-against-persons -104.987360  39.715162   \n",
       "2012-06-30 00:04:00              traffic-accident -104.894697  39.628902   \n",
       "\n",
       "                    NEIGHBORHOOD_ID  IS_CRIME  IS_TRAFFIC  \n",
       "REPORTED_DATE                                              \n",
       "2012-01-02 00:06:00       montbello         1           0  \n",
       "2012-01-02 00:06:00       montbello         1           0  \n",
       "2012-01-02 00:16:00   cheesman-park         0           1  \n",
       "2012-01-02 00:47:00   congress-park         0           1  \n",
       "2012-01-02 01:35:00   union-station         1           0  \n",
       "...                             ...       ...         ...  \n",
       "2012-06-29 23:01:00      sun-valley         1           0  \n",
       "2012-06-29 23:11:00  southmoor-park         0           1  \n",
       "2012-06-29 23:41:00     five-points         1           0  \n",
       "2012-06-29 23:57:00           speer         1           0  \n",
       "2012-06-30 00:04:00   hampden-south         0           1  \n",
       "\n",
       "[27332 rows x 7 columns]"
      ]
     },
     "execution_count": 80,
     "metadata": {},
     "output_type": "execute_result"
    }
   ],
   "source": [
    "crime_sort.first(pd.offsets.MonthEnd(6))"
   ]
  },
  {
   "cell_type": "code",
   "execution_count": 81,
   "metadata": {},
   "outputs": [
    {
     "data": {
      "text/plain": [
       "Timestamp('2012-01-02 00:06:00')"
      ]
     },
     "execution_count": 81,
     "metadata": {},
     "output_type": "execute_result"
    }
   ],
   "source": [
    "first_date = crime_sort.index[0]\n",
    "first_date"
   ]
  },
  {
   "cell_type": "code",
   "execution_count": 82,
   "metadata": {},
   "outputs": [
    {
     "data": {
      "text/plain": [
       "Timestamp('2012-07-01 00:06:00')"
      ]
     },
     "execution_count": 82,
     "metadata": {},
     "output_type": "execute_result"
    }
   ],
   "source": [
    "first_date + pd.offsets.MonthBegin(6)"
   ]
  },
  {
   "cell_type": "code",
   "execution_count": 83,
   "metadata": {},
   "outputs": [
    {
     "data": {
      "text/plain": [
       "Timestamp('2012-06-30 00:06:00')"
      ]
     },
     "execution_count": 83,
     "metadata": {},
     "output_type": "execute_result"
    }
   ],
   "source": [
    "first_date + pd.offsets.MonthEnd(6)"
   ]
  },
  {
   "cell_type": "code",
   "execution_count": 84,
   "metadata": {
    "lines_to_next_cell": 2
   },
   "outputs": [
    {
     "data": {
      "text/plain": [
       "True"
      ]
     },
     "execution_count": 84,
     "metadata": {},
     "output_type": "execute_result"
    }
   ],
   "source": [
    "step4 = crime_sort.first(pd.offsets.MonthEnd(6))\n",
    "end_dt = crime_sort.index[0] + pd.offsets.MonthEnd(6)\n",
    "step4_internal = crime_sort[:end_dt]\n",
    "step4.equals(step4_internal)"
   ]
  },
  {
   "cell_type": "code",
   "execution_count": 85,
   "metadata": {
    "lines_to_next_cell": 2
   },
   "outputs": [
    {
     "data": {
      "text/html": [
       "<div>\n",
       "<style scoped>\n",
       "    .dataframe tbody tr th:only-of-type {\n",
       "        vertical-align: middle;\n",
       "    }\n",
       "\n",
       "    .dataframe tbody tr th {\n",
       "        vertical-align: top;\n",
       "    }\n",
       "\n",
       "    .dataframe thead th {\n",
       "        text-align: right;\n",
       "    }\n",
       "</style>\n",
       "<table border=\"1\" class=\"dataframe\">\n",
       "  <thead>\n",
       "    <tr style=\"text-align: right;\">\n",
       "      <th></th>\n",
       "      <th>OFFENSE_TYPE_ID</th>\n",
       "      <th>OFFENSE_CATEGORY_ID</th>\n",
       "      <th>GEO_LON</th>\n",
       "      <th>GEO_LAT</th>\n",
       "      <th>NEIGHBORHOOD_ID</th>\n",
       "      <th>IS_CRIME</th>\n",
       "      <th>IS_TRAFFIC</th>\n",
       "    </tr>\n",
       "    <tr>\n",
       "      <th>REPORTED_DATE</th>\n",
       "      <th></th>\n",
       "      <th></th>\n",
       "      <th></th>\n",
       "      <th></th>\n",
       "      <th></th>\n",
       "      <th></th>\n",
       "      <th></th>\n",
       "    </tr>\n",
       "  </thead>\n",
       "  <tbody>\n",
       "    <tr>\n",
       "      <th>2012-01-02 00:06:00</th>\n",
       "      <td>aggravated-assault</td>\n",
       "      <td>aggravated-assault</td>\n",
       "      <td>-104.816860</td>\n",
       "      <td>39.796717</td>\n",
       "      <td>montbello</td>\n",
       "      <td>1</td>\n",
       "      <td>0</td>\n",
       "    </tr>\n",
       "    <tr>\n",
       "      <th>2012-01-02 00:06:00</th>\n",
       "      <td>violation-of-restraining-order</td>\n",
       "      <td>all-other-crimes</td>\n",
       "      <td>-104.816860</td>\n",
       "      <td>39.796717</td>\n",
       "      <td>montbello</td>\n",
       "      <td>1</td>\n",
       "      <td>0</td>\n",
       "    </tr>\n",
       "    <tr>\n",
       "      <th>2012-01-02 00:16:00</th>\n",
       "      <td>traffic-accident-dui-duid</td>\n",
       "      <td>traffic-accident</td>\n",
       "      <td>-104.971851</td>\n",
       "      <td>39.736874</td>\n",
       "      <td>cheesman-park</td>\n",
       "      <td>0</td>\n",
       "      <td>1</td>\n",
       "    </tr>\n",
       "    <tr>\n",
       "      <th>2012-01-02 00:47:00</th>\n",
       "      <td>traffic-accident</td>\n",
       "      <td>traffic-accident</td>\n",
       "      <td>-104.951824</td>\n",
       "      <td>39.740168</td>\n",
       "      <td>congress-park</td>\n",
       "      <td>0</td>\n",
       "      <td>1</td>\n",
       "    </tr>\n",
       "    <tr>\n",
       "      <th>2012-01-02 01:35:00</th>\n",
       "      <td>aggravated-assault</td>\n",
       "      <td>aggravated-assault</td>\n",
       "      <td>-104.998131</td>\n",
       "      <td>39.749922</td>\n",
       "      <td>union-station</td>\n",
       "      <td>1</td>\n",
       "      <td>0</td>\n",
       "    </tr>\n",
       "    <tr>\n",
       "      <th>...</th>\n",
       "      <td>...</td>\n",
       "      <td>...</td>\n",
       "      <td>...</td>\n",
       "      <td>...</td>\n",
       "      <td>...</td>\n",
       "      <td>...</td>\n",
       "      <td>...</td>\n",
       "    </tr>\n",
       "    <tr>\n",
       "      <th>2012-06-30 23:40:00</th>\n",
       "      <td>traffic-accident-hit-and-run</td>\n",
       "      <td>traffic-accident</td>\n",
       "      <td>-104.922266</td>\n",
       "      <td>39.678471</td>\n",
       "      <td>goldsmith</td>\n",
       "      <td>0</td>\n",
       "      <td>1</td>\n",
       "    </tr>\n",
       "    <tr>\n",
       "      <th>2012-06-30 23:40:00</th>\n",
       "      <td>traffic-accident-dui-duid</td>\n",
       "      <td>traffic-accident</td>\n",
       "      <td>-104.922266</td>\n",
       "      <td>39.678471</td>\n",
       "      <td>goldsmith</td>\n",
       "      <td>0</td>\n",
       "      <td>1</td>\n",
       "    </tr>\n",
       "    <tr>\n",
       "      <th>2012-06-30 23:44:00</th>\n",
       "      <td>traffic-accident</td>\n",
       "      <td>traffic-accident</td>\n",
       "      <td>-104.987578</td>\n",
       "      <td>39.711158</td>\n",
       "      <td>baker</td>\n",
       "      <td>0</td>\n",
       "      <td>1</td>\n",
       "    </tr>\n",
       "    <tr>\n",
       "      <th>2012-06-30 23:50:00</th>\n",
       "      <td>criminal-mischief-mtr-veh</td>\n",
       "      <td>public-disorder</td>\n",
       "      <td>-104.838271</td>\n",
       "      <td>39.788683</td>\n",
       "      <td>montbello</td>\n",
       "      <td>1</td>\n",
       "      <td>0</td>\n",
       "    </tr>\n",
       "    <tr>\n",
       "      <th>2012-06-30 23:54:00</th>\n",
       "      <td>traffic-accident-hit-and-run</td>\n",
       "      <td>traffic-accident</td>\n",
       "      <td>-105.014162</td>\n",
       "      <td>39.740439</td>\n",
       "      <td>lincoln-park</td>\n",
       "      <td>0</td>\n",
       "      <td>1</td>\n",
       "    </tr>\n",
       "  </tbody>\n",
       "</table>\n",
       "<p>27488 rows × 7 columns</p>\n",
       "</div>"
      ],
      "text/plain": [
       "                                    OFFENSE_TYPE_ID OFFENSE_CATEGORY_ID  \\\n",
       "REPORTED_DATE                                                             \n",
       "2012-01-02 00:06:00              aggravated-assault  aggravated-assault   \n",
       "2012-01-02 00:06:00  violation-of-restraining-order    all-other-crimes   \n",
       "2012-01-02 00:16:00       traffic-accident-dui-duid    traffic-accident   \n",
       "2012-01-02 00:47:00                traffic-accident    traffic-accident   \n",
       "2012-01-02 01:35:00              aggravated-assault  aggravated-assault   \n",
       "...                                             ...                 ...   \n",
       "2012-06-30 23:40:00    traffic-accident-hit-and-run    traffic-accident   \n",
       "2012-06-30 23:40:00       traffic-accident-dui-duid    traffic-accident   \n",
       "2012-06-30 23:44:00                traffic-accident    traffic-accident   \n",
       "2012-06-30 23:50:00       criminal-mischief-mtr-veh     public-disorder   \n",
       "2012-06-30 23:54:00    traffic-accident-hit-and-run    traffic-accident   \n",
       "\n",
       "                        GEO_LON    GEO_LAT NEIGHBORHOOD_ID  IS_CRIME  \\\n",
       "REPORTED_DATE                                                          \n",
       "2012-01-02 00:06:00 -104.816860  39.796717       montbello         1   \n",
       "2012-01-02 00:06:00 -104.816860  39.796717       montbello         1   \n",
       "2012-01-02 00:16:00 -104.971851  39.736874   cheesman-park         0   \n",
       "2012-01-02 00:47:00 -104.951824  39.740168   congress-park         0   \n",
       "2012-01-02 01:35:00 -104.998131  39.749922   union-station         1   \n",
       "...                         ...        ...             ...       ...   \n",
       "2012-06-30 23:40:00 -104.922266  39.678471       goldsmith         0   \n",
       "2012-06-30 23:40:00 -104.922266  39.678471       goldsmith         0   \n",
       "2012-06-30 23:44:00 -104.987578  39.711158           baker         0   \n",
       "2012-06-30 23:50:00 -104.838271  39.788683       montbello         1   \n",
       "2012-06-30 23:54:00 -105.014162  39.740439    lincoln-park         0   \n",
       "\n",
       "                     IS_TRAFFIC  \n",
       "REPORTED_DATE                    \n",
       "2012-01-02 00:06:00           0  \n",
       "2012-01-02 00:06:00           0  \n",
       "2012-01-02 00:16:00           1  \n",
       "2012-01-02 00:47:00           1  \n",
       "2012-01-02 01:35:00           0  \n",
       "...                         ...  \n",
       "2012-06-30 23:40:00           1  \n",
       "2012-06-30 23:40:00           1  \n",
       "2012-06-30 23:44:00           1  \n",
       "2012-06-30 23:50:00           0  \n",
       "2012-06-30 23:54:00           1  \n",
       "\n",
       "[27488 rows x 7 columns]"
      ]
     },
     "execution_count": 85,
     "metadata": {},
     "output_type": "execute_result"
    }
   ],
   "source": [
    "crime_sort.first(pd.offsets.MonthBegin(6, normalize=True))"
   ]
  },
  {
   "cell_type": "code",
   "execution_count": 86,
   "metadata": {
    "lines_to_next_cell": 2
   },
   "outputs": [
    {
     "data": {
      "text/html": [
       "<div>\n",
       "<style scoped>\n",
       "    .dataframe tbody tr th:only-of-type {\n",
       "        vertical-align: middle;\n",
       "    }\n",
       "\n",
       "    .dataframe tbody tr th {\n",
       "        vertical-align: top;\n",
       "    }\n",
       "\n",
       "    .dataframe thead th {\n",
       "        text-align: right;\n",
       "    }\n",
       "</style>\n",
       "<table border=\"1\" class=\"dataframe\">\n",
       "  <thead>\n",
       "    <tr style=\"text-align: right;\">\n",
       "      <th></th>\n",
       "      <th>OFFENSE_TYPE_ID</th>\n",
       "      <th>OFFENSE_CATEGORY_ID</th>\n",
       "      <th>GEO_LON</th>\n",
       "      <th>GEO_LAT</th>\n",
       "      <th>NEIGHBORHOOD_ID</th>\n",
       "      <th>IS_CRIME</th>\n",
       "      <th>IS_TRAFFIC</th>\n",
       "    </tr>\n",
       "    <tr>\n",
       "      <th>REPORTED_DATE</th>\n",
       "      <th></th>\n",
       "      <th></th>\n",
       "      <th></th>\n",
       "      <th></th>\n",
       "      <th></th>\n",
       "      <th></th>\n",
       "      <th></th>\n",
       "    </tr>\n",
       "  </thead>\n",
       "  <tbody>\n",
       "    <tr>\n",
       "      <th>2012-01-02 00:06:00</th>\n",
       "      <td>aggravated-assault</td>\n",
       "      <td>aggravated-assault</td>\n",
       "      <td>-104.816860</td>\n",
       "      <td>39.796717</td>\n",
       "      <td>montbello</td>\n",
       "      <td>1</td>\n",
       "      <td>0</td>\n",
       "    </tr>\n",
       "    <tr>\n",
       "      <th>2012-01-02 00:06:00</th>\n",
       "      <td>violation-of-restraining-order</td>\n",
       "      <td>all-other-crimes</td>\n",
       "      <td>-104.816860</td>\n",
       "      <td>39.796717</td>\n",
       "      <td>montbello</td>\n",
       "      <td>1</td>\n",
       "      <td>0</td>\n",
       "    </tr>\n",
       "    <tr>\n",
       "      <th>2012-01-02 00:16:00</th>\n",
       "      <td>traffic-accident-dui-duid</td>\n",
       "      <td>traffic-accident</td>\n",
       "      <td>-104.971851</td>\n",
       "      <td>39.736874</td>\n",
       "      <td>cheesman-park</td>\n",
       "      <td>0</td>\n",
       "      <td>1</td>\n",
       "    </tr>\n",
       "    <tr>\n",
       "      <th>2012-01-02 00:47:00</th>\n",
       "      <td>traffic-accident</td>\n",
       "      <td>traffic-accident</td>\n",
       "      <td>-104.951824</td>\n",
       "      <td>39.740168</td>\n",
       "      <td>congress-park</td>\n",
       "      <td>0</td>\n",
       "      <td>1</td>\n",
       "    </tr>\n",
       "    <tr>\n",
       "      <th>2012-01-02 01:35:00</th>\n",
       "      <td>aggravated-assault</td>\n",
       "      <td>aggravated-assault</td>\n",
       "      <td>-104.998131</td>\n",
       "      <td>39.749922</td>\n",
       "      <td>union-station</td>\n",
       "      <td>1</td>\n",
       "      <td>0</td>\n",
       "    </tr>\n",
       "    <tr>\n",
       "      <th>...</th>\n",
       "      <td>...</td>\n",
       "      <td>...</td>\n",
       "      <td>...</td>\n",
       "      <td>...</td>\n",
       "      <td>...</td>\n",
       "      <td>...</td>\n",
       "      <td>...</td>\n",
       "    </tr>\n",
       "    <tr>\n",
       "      <th>2012-06-30 23:40:00</th>\n",
       "      <td>traffic-accident-hit-and-run</td>\n",
       "      <td>traffic-accident</td>\n",
       "      <td>-104.922266</td>\n",
       "      <td>39.678471</td>\n",
       "      <td>goldsmith</td>\n",
       "      <td>0</td>\n",
       "      <td>1</td>\n",
       "    </tr>\n",
       "    <tr>\n",
       "      <th>2012-06-30 23:40:00</th>\n",
       "      <td>traffic-accident-dui-duid</td>\n",
       "      <td>traffic-accident</td>\n",
       "      <td>-104.922266</td>\n",
       "      <td>39.678471</td>\n",
       "      <td>goldsmith</td>\n",
       "      <td>0</td>\n",
       "      <td>1</td>\n",
       "    </tr>\n",
       "    <tr>\n",
       "      <th>2012-06-30 23:44:00</th>\n",
       "      <td>traffic-accident</td>\n",
       "      <td>traffic-accident</td>\n",
       "      <td>-104.987578</td>\n",
       "      <td>39.711158</td>\n",
       "      <td>baker</td>\n",
       "      <td>0</td>\n",
       "      <td>1</td>\n",
       "    </tr>\n",
       "    <tr>\n",
       "      <th>2012-06-30 23:50:00</th>\n",
       "      <td>criminal-mischief-mtr-veh</td>\n",
       "      <td>public-disorder</td>\n",
       "      <td>-104.838271</td>\n",
       "      <td>39.788683</td>\n",
       "      <td>montbello</td>\n",
       "      <td>1</td>\n",
       "      <td>0</td>\n",
       "    </tr>\n",
       "    <tr>\n",
       "      <th>2012-06-30 23:54:00</th>\n",
       "      <td>traffic-accident-hit-and-run</td>\n",
       "      <td>traffic-accident</td>\n",
       "      <td>-105.014162</td>\n",
       "      <td>39.740439</td>\n",
       "      <td>lincoln-park</td>\n",
       "      <td>0</td>\n",
       "      <td>1</td>\n",
       "    </tr>\n",
       "  </tbody>\n",
       "</table>\n",
       "<p>27488 rows × 7 columns</p>\n",
       "</div>"
      ],
      "text/plain": [
       "                                    OFFENSE_TYPE_ID OFFENSE_CATEGORY_ID  \\\n",
       "REPORTED_DATE                                                             \n",
       "2012-01-02 00:06:00              aggravated-assault  aggravated-assault   \n",
       "2012-01-02 00:06:00  violation-of-restraining-order    all-other-crimes   \n",
       "2012-01-02 00:16:00       traffic-accident-dui-duid    traffic-accident   \n",
       "2012-01-02 00:47:00                traffic-accident    traffic-accident   \n",
       "2012-01-02 01:35:00              aggravated-assault  aggravated-assault   \n",
       "...                                             ...                 ...   \n",
       "2012-06-30 23:40:00    traffic-accident-hit-and-run    traffic-accident   \n",
       "2012-06-30 23:40:00       traffic-accident-dui-duid    traffic-accident   \n",
       "2012-06-30 23:44:00                traffic-accident    traffic-accident   \n",
       "2012-06-30 23:50:00       criminal-mischief-mtr-veh     public-disorder   \n",
       "2012-06-30 23:54:00    traffic-accident-hit-and-run    traffic-accident   \n",
       "\n",
       "                        GEO_LON    GEO_LAT NEIGHBORHOOD_ID  IS_CRIME  \\\n",
       "REPORTED_DATE                                                          \n",
       "2012-01-02 00:06:00 -104.816860  39.796717       montbello         1   \n",
       "2012-01-02 00:06:00 -104.816860  39.796717       montbello         1   \n",
       "2012-01-02 00:16:00 -104.971851  39.736874   cheesman-park         0   \n",
       "2012-01-02 00:47:00 -104.951824  39.740168   congress-park         0   \n",
       "2012-01-02 01:35:00 -104.998131  39.749922   union-station         1   \n",
       "...                         ...        ...             ...       ...   \n",
       "2012-06-30 23:40:00 -104.922266  39.678471       goldsmith         0   \n",
       "2012-06-30 23:40:00 -104.922266  39.678471       goldsmith         0   \n",
       "2012-06-30 23:44:00 -104.987578  39.711158           baker         0   \n",
       "2012-06-30 23:50:00 -104.838271  39.788683       montbello         1   \n",
       "2012-06-30 23:54:00 -105.014162  39.740439    lincoln-park         0   \n",
       "\n",
       "                     IS_TRAFFIC  \n",
       "REPORTED_DATE                    \n",
       "2012-01-02 00:06:00           0  \n",
       "2012-01-02 00:06:00           0  \n",
       "2012-01-02 00:16:00           1  \n",
       "2012-01-02 00:47:00           1  \n",
       "2012-01-02 01:35:00           0  \n",
       "...                         ...  \n",
       "2012-06-30 23:40:00           1  \n",
       "2012-06-30 23:40:00           1  \n",
       "2012-06-30 23:44:00           1  \n",
       "2012-06-30 23:50:00           0  \n",
       "2012-06-30 23:54:00           1  \n",
       "\n",
       "[27488 rows x 7 columns]"
      ]
     },
     "execution_count": 86,
     "metadata": {},
     "output_type": "execute_result"
    }
   ],
   "source": [
    "crime_sort.loc[:\"2012-06\"]"
   ]
  },
  {
   "cell_type": "code",
   "execution_count": 87,
   "metadata": {
    "lines_to_next_cell": 2
   },
   "outputs": [
    {
     "data": {
      "text/html": [
       "<div>\n",
       "<style scoped>\n",
       "    .dataframe tbody tr th:only-of-type {\n",
       "        vertical-align: middle;\n",
       "    }\n",
       "\n",
       "    .dataframe tbody tr th {\n",
       "        vertical-align: top;\n",
       "    }\n",
       "\n",
       "    .dataframe thead th {\n",
       "        text-align: right;\n",
       "    }\n",
       "</style>\n",
       "<table border=\"1\" class=\"dataframe\">\n",
       "  <thead>\n",
       "    <tr style=\"text-align: right;\">\n",
       "      <th></th>\n",
       "      <th>OFFENSE_TYPE_ID</th>\n",
       "      <th>OFFENSE_CATEGORY_ID</th>\n",
       "      <th>GEO_LON</th>\n",
       "      <th>GEO_LAT</th>\n",
       "      <th>NEIGHBORHOOD_ID</th>\n",
       "      <th>IS_CRIME</th>\n",
       "      <th>IS_TRAFFIC</th>\n",
       "    </tr>\n",
       "    <tr>\n",
       "      <th>REPORTED_DATE</th>\n",
       "      <th></th>\n",
       "      <th></th>\n",
       "      <th></th>\n",
       "      <th></th>\n",
       "      <th></th>\n",
       "      <th></th>\n",
       "      <th></th>\n",
       "    </tr>\n",
       "  </thead>\n",
       "  <tbody>\n",
       "    <tr>\n",
       "      <th>2012-01-02 00:06:00</th>\n",
       "      <td>aggravated-assault</td>\n",
       "      <td>aggravated-assault</td>\n",
       "      <td>-104.816860</td>\n",
       "      <td>39.796717</td>\n",
       "      <td>montbello</td>\n",
       "      <td>1</td>\n",
       "      <td>0</td>\n",
       "    </tr>\n",
       "    <tr>\n",
       "      <th>2012-01-02 00:06:00</th>\n",
       "      <td>violation-of-restraining-order</td>\n",
       "      <td>all-other-crimes</td>\n",
       "      <td>-104.816860</td>\n",
       "      <td>39.796717</td>\n",
       "      <td>montbello</td>\n",
       "      <td>1</td>\n",
       "      <td>0</td>\n",
       "    </tr>\n",
       "    <tr>\n",
       "      <th>2012-01-02 00:16:00</th>\n",
       "      <td>traffic-accident-dui-duid</td>\n",
       "      <td>traffic-accident</td>\n",
       "      <td>-104.971851</td>\n",
       "      <td>39.736874</td>\n",
       "      <td>cheesman-park</td>\n",
       "      <td>0</td>\n",
       "      <td>1</td>\n",
       "    </tr>\n",
       "    <tr>\n",
       "      <th>2012-01-02 00:47:00</th>\n",
       "      <td>traffic-accident</td>\n",
       "      <td>traffic-accident</td>\n",
       "      <td>-104.951824</td>\n",
       "      <td>39.740168</td>\n",
       "      <td>congress-park</td>\n",
       "      <td>0</td>\n",
       "      <td>1</td>\n",
       "    </tr>\n",
       "    <tr>\n",
       "      <th>2012-01-02 01:35:00</th>\n",
       "      <td>aggravated-assault</td>\n",
       "      <td>aggravated-assault</td>\n",
       "      <td>-104.998131</td>\n",
       "      <td>39.749922</td>\n",
       "      <td>union-station</td>\n",
       "      <td>1</td>\n",
       "      <td>0</td>\n",
       "    </tr>\n",
       "    <tr>\n",
       "      <th>...</th>\n",
       "      <td>...</td>\n",
       "      <td>...</td>\n",
       "      <td>...</td>\n",
       "      <td>...</td>\n",
       "      <td>...</td>\n",
       "      <td>...</td>\n",
       "      <td>...</td>\n",
       "    </tr>\n",
       "    <tr>\n",
       "      <th>2012-01-06 23:11:00</th>\n",
       "      <td>theft-items-from-vehicle</td>\n",
       "      <td>theft-from-motor-vehicle</td>\n",
       "      <td>-104.999752</td>\n",
       "      <td>39.726081</td>\n",
       "      <td>lincoln-park</td>\n",
       "      <td>1</td>\n",
       "      <td>0</td>\n",
       "    </tr>\n",
       "    <tr>\n",
       "      <th>2012-01-06 23:23:00</th>\n",
       "      <td>violation-of-restraining-order</td>\n",
       "      <td>all-other-crimes</td>\n",
       "      <td>-104.969588</td>\n",
       "      <td>39.681135</td>\n",
       "      <td>university</td>\n",
       "      <td>1</td>\n",
       "      <td>0</td>\n",
       "    </tr>\n",
       "    <tr>\n",
       "      <th>2012-01-06 23:30:00</th>\n",
       "      <td>assault-dv</td>\n",
       "      <td>other-crimes-against-persons</td>\n",
       "      <td>-104.958983</td>\n",
       "      <td>39.674135</td>\n",
       "      <td>university-park</td>\n",
       "      <td>1</td>\n",
       "      <td>0</td>\n",
       "    </tr>\n",
       "    <tr>\n",
       "      <th>2012-01-06 23:44:00</th>\n",
       "      <td>theft-of-motor-vehicle</td>\n",
       "      <td>auto-theft</td>\n",
       "      <td>-104.845356</td>\n",
       "      <td>39.794035</td>\n",
       "      <td>montbello</td>\n",
       "      <td>1</td>\n",
       "      <td>0</td>\n",
       "    </tr>\n",
       "    <tr>\n",
       "      <th>2012-01-06 23:55:00</th>\n",
       "      <td>threats-to-injure</td>\n",
       "      <td>public-disorder</td>\n",
       "      <td>-105.004788</td>\n",
       "      <td>39.708714</td>\n",
       "      <td>athmar-park</td>\n",
       "      <td>1</td>\n",
       "      <td>0</td>\n",
       "    </tr>\n",
       "  </tbody>\n",
       "</table>\n",
       "<p>605 rows × 7 columns</p>\n",
       "</div>"
      ],
      "text/plain": [
       "                                    OFFENSE_TYPE_ID  \\\n",
       "REPORTED_DATE                                         \n",
       "2012-01-02 00:06:00              aggravated-assault   \n",
       "2012-01-02 00:06:00  violation-of-restraining-order   \n",
       "2012-01-02 00:16:00       traffic-accident-dui-duid   \n",
       "2012-01-02 00:47:00                traffic-accident   \n",
       "2012-01-02 01:35:00              aggravated-assault   \n",
       "...                                             ...   \n",
       "2012-01-06 23:11:00        theft-items-from-vehicle   \n",
       "2012-01-06 23:23:00  violation-of-restraining-order   \n",
       "2012-01-06 23:30:00                      assault-dv   \n",
       "2012-01-06 23:44:00          theft-of-motor-vehicle   \n",
       "2012-01-06 23:55:00               threats-to-injure   \n",
       "\n",
       "                              OFFENSE_CATEGORY_ID     GEO_LON    GEO_LAT  \\\n",
       "REPORTED_DATE                                                              \n",
       "2012-01-02 00:06:00            aggravated-assault -104.816860  39.796717   \n",
       "2012-01-02 00:06:00              all-other-crimes -104.816860  39.796717   \n",
       "2012-01-02 00:16:00              traffic-accident -104.971851  39.736874   \n",
       "2012-01-02 00:47:00              traffic-accident -104.951824  39.740168   \n",
       "2012-01-02 01:35:00            aggravated-assault -104.998131  39.749922   \n",
       "...                                           ...         ...        ...   \n",
       "2012-01-06 23:11:00      theft-from-motor-vehicle -104.999752  39.726081   \n",
       "2012-01-06 23:23:00              all-other-crimes -104.969588  39.681135   \n",
       "2012-01-06 23:30:00  other-crimes-against-persons -104.958983  39.674135   \n",
       "2012-01-06 23:44:00                    auto-theft -104.845356  39.794035   \n",
       "2012-01-06 23:55:00               public-disorder -105.004788  39.708714   \n",
       "\n",
       "                     NEIGHBORHOOD_ID  IS_CRIME  IS_TRAFFIC  \n",
       "REPORTED_DATE                                               \n",
       "2012-01-02 00:06:00        montbello         1           0  \n",
       "2012-01-02 00:06:00        montbello         1           0  \n",
       "2012-01-02 00:16:00    cheesman-park         0           1  \n",
       "2012-01-02 00:47:00    congress-park         0           1  \n",
       "2012-01-02 01:35:00    union-station         1           0  \n",
       "...                              ...       ...         ...  \n",
       "2012-01-06 23:11:00     lincoln-park         1           0  \n",
       "2012-01-06 23:23:00       university         1           0  \n",
       "2012-01-06 23:30:00  university-park         1           0  \n",
       "2012-01-06 23:44:00        montbello         1           0  \n",
       "2012-01-06 23:55:00      athmar-park         1           0  \n",
       "\n",
       "[605 rows x 7 columns]"
      ]
     },
     "execution_count": 87,
     "metadata": {},
     "output_type": "execute_result"
    }
   ],
   "source": [
    "crime_sort.first(\"5D\")"
   ]
  },
  {
   "cell_type": "code",
   "execution_count": 88,
   "metadata": {
    "lines_to_next_cell": 2
   },
   "outputs": [
    {
     "data": {
      "text/html": [
       "<div>\n",
       "<style scoped>\n",
       "    .dataframe tbody tr th:only-of-type {\n",
       "        vertical-align: middle;\n",
       "    }\n",
       "\n",
       "    .dataframe tbody tr th {\n",
       "        vertical-align: top;\n",
       "    }\n",
       "\n",
       "    .dataframe thead th {\n",
       "        text-align: right;\n",
       "    }\n",
       "</style>\n",
       "<table border=\"1\" class=\"dataframe\">\n",
       "  <thead>\n",
       "    <tr style=\"text-align: right;\">\n",
       "      <th></th>\n",
       "      <th>OFFENSE_TYPE_ID</th>\n",
       "      <th>OFFENSE_CATEGORY_ID</th>\n",
       "      <th>GEO_LON</th>\n",
       "      <th>GEO_LAT</th>\n",
       "      <th>NEIGHBORHOOD_ID</th>\n",
       "      <th>IS_CRIME</th>\n",
       "      <th>IS_TRAFFIC</th>\n",
       "    </tr>\n",
       "    <tr>\n",
       "      <th>REPORTED_DATE</th>\n",
       "      <th></th>\n",
       "      <th></th>\n",
       "      <th></th>\n",
       "      <th></th>\n",
       "      <th></th>\n",
       "      <th></th>\n",
       "      <th></th>\n",
       "    </tr>\n",
       "  </thead>\n",
       "  <tbody>\n",
       "    <tr>\n",
       "      <th>2012-01-02 00:06:00</th>\n",
       "      <td>aggravated-assault</td>\n",
       "      <td>aggravated-assault</td>\n",
       "      <td>-104.816860</td>\n",
       "      <td>39.796717</td>\n",
       "      <td>montbello</td>\n",
       "      <td>1</td>\n",
       "      <td>0</td>\n",
       "    </tr>\n",
       "    <tr>\n",
       "      <th>2012-01-02 00:06:00</th>\n",
       "      <td>violation-of-restraining-order</td>\n",
       "      <td>all-other-crimes</td>\n",
       "      <td>-104.816860</td>\n",
       "      <td>39.796717</td>\n",
       "      <td>montbello</td>\n",
       "      <td>1</td>\n",
       "      <td>0</td>\n",
       "    </tr>\n",
       "    <tr>\n",
       "      <th>2012-01-02 00:16:00</th>\n",
       "      <td>traffic-accident-dui-duid</td>\n",
       "      <td>traffic-accident</td>\n",
       "      <td>-104.971851</td>\n",
       "      <td>39.736874</td>\n",
       "      <td>cheesman-park</td>\n",
       "      <td>0</td>\n",
       "      <td>1</td>\n",
       "    </tr>\n",
       "    <tr>\n",
       "      <th>2012-01-02 00:47:00</th>\n",
       "      <td>traffic-accident</td>\n",
       "      <td>traffic-accident</td>\n",
       "      <td>-104.951824</td>\n",
       "      <td>39.740168</td>\n",
       "      <td>congress-park</td>\n",
       "      <td>0</td>\n",
       "      <td>1</td>\n",
       "    </tr>\n",
       "    <tr>\n",
       "      <th>2012-01-02 01:35:00</th>\n",
       "      <td>aggravated-assault</td>\n",
       "      <td>aggravated-assault</td>\n",
       "      <td>-104.998131</td>\n",
       "      <td>39.749922</td>\n",
       "      <td>union-station</td>\n",
       "      <td>1</td>\n",
       "      <td>0</td>\n",
       "    </tr>\n",
       "    <tr>\n",
       "      <th>...</th>\n",
       "      <td>...</td>\n",
       "      <td>...</td>\n",
       "      <td>...</td>\n",
       "      <td>...</td>\n",
       "      <td>...</td>\n",
       "      <td>...</td>\n",
       "      <td>...</td>\n",
       "    </tr>\n",
       "    <tr>\n",
       "      <th>2012-01-05 22:27:00</th>\n",
       "      <td>criminal-mischief-graffiti</td>\n",
       "      <td>public-disorder</td>\n",
       "      <td>-104.981969</td>\n",
       "      <td>39.739094</td>\n",
       "      <td>capitol-hill</td>\n",
       "      <td>1</td>\n",
       "      <td>0</td>\n",
       "    </tr>\n",
       "    <tr>\n",
       "      <th>2012-01-05 22:32:00</th>\n",
       "      <td>traffic-accident-hit-and-run</td>\n",
       "      <td>traffic-accident</td>\n",
       "      <td>-104.969107</td>\n",
       "      <td>39.733848</td>\n",
       "      <td>cheesman-park</td>\n",
       "      <td>0</td>\n",
       "      <td>1</td>\n",
       "    </tr>\n",
       "    <tr>\n",
       "      <th>2012-01-05 23:40:00</th>\n",
       "      <td>harassment</td>\n",
       "      <td>public-disorder</td>\n",
       "      <td>-104.962264</td>\n",
       "      <td>39.681313</td>\n",
       "      <td>university</td>\n",
       "      <td>1</td>\n",
       "      <td>0</td>\n",
       "    </tr>\n",
       "    <tr>\n",
       "      <th>2012-01-05 23:43:00</th>\n",
       "      <td>theft-of-motor-vehicle</td>\n",
       "      <td>auto-theft</td>\n",
       "      <td>-104.984986</td>\n",
       "      <td>39.775572</td>\n",
       "      <td>globeville</td>\n",
       "      <td>1</td>\n",
       "      <td>0</td>\n",
       "    </tr>\n",
       "    <tr>\n",
       "      <th>2012-01-06 00:06:00</th>\n",
       "      <td>theft-items-from-vehicle</td>\n",
       "      <td>theft-from-motor-vehicle</td>\n",
       "      <td>-105.042365</td>\n",
       "      <td>39.708765</td>\n",
       "      <td>westwood</td>\n",
       "      <td>1</td>\n",
       "      <td>0</td>\n",
       "    </tr>\n",
       "  </tbody>\n",
       "</table>\n",
       "<p>463 rows × 7 columns</p>\n",
       "</div>"
      ],
      "text/plain": [
       "                                    OFFENSE_TYPE_ID       OFFENSE_CATEGORY_ID  \\\n",
       "REPORTED_DATE                                                                   \n",
       "2012-01-02 00:06:00              aggravated-assault        aggravated-assault   \n",
       "2012-01-02 00:06:00  violation-of-restraining-order          all-other-crimes   \n",
       "2012-01-02 00:16:00       traffic-accident-dui-duid          traffic-accident   \n",
       "2012-01-02 00:47:00                traffic-accident          traffic-accident   \n",
       "2012-01-02 01:35:00              aggravated-assault        aggravated-assault   \n",
       "...                                             ...                       ...   \n",
       "2012-01-05 22:27:00      criminal-mischief-graffiti           public-disorder   \n",
       "2012-01-05 22:32:00    traffic-accident-hit-and-run          traffic-accident   \n",
       "2012-01-05 23:40:00                      harassment           public-disorder   \n",
       "2012-01-05 23:43:00          theft-of-motor-vehicle                auto-theft   \n",
       "2012-01-06 00:06:00        theft-items-from-vehicle  theft-from-motor-vehicle   \n",
       "\n",
       "                        GEO_LON    GEO_LAT NEIGHBORHOOD_ID  IS_CRIME  \\\n",
       "REPORTED_DATE                                                          \n",
       "2012-01-02 00:06:00 -104.816860  39.796717       montbello         1   \n",
       "2012-01-02 00:06:00 -104.816860  39.796717       montbello         1   \n",
       "2012-01-02 00:16:00 -104.971851  39.736874   cheesman-park         0   \n",
       "2012-01-02 00:47:00 -104.951824  39.740168   congress-park         0   \n",
       "2012-01-02 01:35:00 -104.998131  39.749922   union-station         1   \n",
       "...                         ...        ...             ...       ...   \n",
       "2012-01-05 22:27:00 -104.981969  39.739094    capitol-hill         1   \n",
       "2012-01-05 22:32:00 -104.969107  39.733848   cheesman-park         0   \n",
       "2012-01-05 23:40:00 -104.962264  39.681313      university         1   \n",
       "2012-01-05 23:43:00 -104.984986  39.775572      globeville         1   \n",
       "2012-01-06 00:06:00 -105.042365  39.708765        westwood         1   \n",
       "\n",
       "                     IS_TRAFFIC  \n",
       "REPORTED_DATE                    \n",
       "2012-01-02 00:06:00           0  \n",
       "2012-01-02 00:06:00           0  \n",
       "2012-01-02 00:16:00           1  \n",
       "2012-01-02 00:47:00           1  \n",
       "2012-01-02 01:35:00           0  \n",
       "...                         ...  \n",
       "2012-01-05 22:27:00           0  \n",
       "2012-01-05 22:32:00           1  \n",
       "2012-01-05 23:40:00           0  \n",
       "2012-01-05 23:43:00           0  \n",
       "2012-01-06 00:06:00           0  \n",
       "\n",
       "[463 rows x 7 columns]"
      ]
     },
     "execution_count": 88,
     "metadata": {},
     "output_type": "execute_result"
    }
   ],
   "source": [
    "crime_sort.first(\"5B\")"
   ]
  },
  {
   "cell_type": "code",
   "execution_count": 89,
   "metadata": {
    "lines_to_next_cell": 2
   },
   "outputs": [
    {
     "data": {
      "text/html": [
       "<div>\n",
       "<style scoped>\n",
       "    .dataframe tbody tr th:only-of-type {\n",
       "        vertical-align: middle;\n",
       "    }\n",
       "\n",
       "    .dataframe tbody tr th {\n",
       "        vertical-align: top;\n",
       "    }\n",
       "\n",
       "    .dataframe thead th {\n",
       "        text-align: right;\n",
       "    }\n",
       "</style>\n",
       "<table border=\"1\" class=\"dataframe\">\n",
       "  <thead>\n",
       "    <tr style=\"text-align: right;\">\n",
       "      <th></th>\n",
       "      <th>OFFENSE_TYPE_ID</th>\n",
       "      <th>OFFENSE_CATEGORY_ID</th>\n",
       "      <th>GEO_LON</th>\n",
       "      <th>GEO_LAT</th>\n",
       "      <th>NEIGHBORHOOD_ID</th>\n",
       "      <th>IS_CRIME</th>\n",
       "      <th>IS_TRAFFIC</th>\n",
       "    </tr>\n",
       "    <tr>\n",
       "      <th>REPORTED_DATE</th>\n",
       "      <th></th>\n",
       "      <th></th>\n",
       "      <th></th>\n",
       "      <th></th>\n",
       "      <th></th>\n",
       "      <th></th>\n",
       "      <th></th>\n",
       "    </tr>\n",
       "  </thead>\n",
       "  <tbody>\n",
       "    <tr>\n",
       "      <th>2012-01-02 00:06:00</th>\n",
       "      <td>aggravated-assault</td>\n",
       "      <td>aggravated-assault</td>\n",
       "      <td>-104.816860</td>\n",
       "      <td>39.796717</td>\n",
       "      <td>montbello</td>\n",
       "      <td>1</td>\n",
       "      <td>0</td>\n",
       "    </tr>\n",
       "    <tr>\n",
       "      <th>2012-01-02 00:06:00</th>\n",
       "      <td>violation-of-restraining-order</td>\n",
       "      <td>all-other-crimes</td>\n",
       "      <td>-104.816860</td>\n",
       "      <td>39.796717</td>\n",
       "      <td>montbello</td>\n",
       "      <td>1</td>\n",
       "      <td>0</td>\n",
       "    </tr>\n",
       "    <tr>\n",
       "      <th>2012-01-02 00:16:00</th>\n",
       "      <td>traffic-accident-dui-duid</td>\n",
       "      <td>traffic-accident</td>\n",
       "      <td>-104.971851</td>\n",
       "      <td>39.736874</td>\n",
       "      <td>cheesman-park</td>\n",
       "      <td>0</td>\n",
       "      <td>1</td>\n",
       "    </tr>\n",
       "    <tr>\n",
       "      <th>2012-01-02 00:47:00</th>\n",
       "      <td>traffic-accident</td>\n",
       "      <td>traffic-accident</td>\n",
       "      <td>-104.951824</td>\n",
       "      <td>39.740168</td>\n",
       "      <td>congress-park</td>\n",
       "      <td>0</td>\n",
       "      <td>1</td>\n",
       "    </tr>\n",
       "    <tr>\n",
       "      <th>2012-01-02 01:35:00</th>\n",
       "      <td>aggravated-assault</td>\n",
       "      <td>aggravated-assault</td>\n",
       "      <td>-104.998131</td>\n",
       "      <td>39.749922</td>\n",
       "      <td>union-station</td>\n",
       "      <td>1</td>\n",
       "      <td>0</td>\n",
       "    </tr>\n",
       "    <tr>\n",
       "      <th>...</th>\n",
       "      <td>...</td>\n",
       "      <td>...</td>\n",
       "      <td>...</td>\n",
       "      <td>...</td>\n",
       "      <td>...</td>\n",
       "      <td>...</td>\n",
       "      <td>...</td>\n",
       "    </tr>\n",
       "    <tr>\n",
       "      <th>2012-02-18 21:57:00</th>\n",
       "      <td>traffic-accident</td>\n",
       "      <td>traffic-accident</td>\n",
       "      <td>-104.974663</td>\n",
       "      <td>39.744041</td>\n",
       "      <td>north-capitol-hill</td>\n",
       "      <td>0</td>\n",
       "      <td>1</td>\n",
       "    </tr>\n",
       "    <tr>\n",
       "      <th>2012-02-18 22:19:00</th>\n",
       "      <td>criminal-mischief-graffiti</td>\n",
       "      <td>public-disorder</td>\n",
       "      <td>-104.957558</td>\n",
       "      <td>39.766129</td>\n",
       "      <td>clayton</td>\n",
       "      <td>1</td>\n",
       "      <td>0</td>\n",
       "    </tr>\n",
       "    <tr>\n",
       "      <th>2012-02-18 22:20:00</th>\n",
       "      <td>traffic-accident-dui-duid</td>\n",
       "      <td>traffic-accident</td>\n",
       "      <td>-104.919946</td>\n",
       "      <td>39.761917</td>\n",
       "      <td>north-park-hill</td>\n",
       "      <td>0</td>\n",
       "      <td>1</td>\n",
       "    </tr>\n",
       "    <tr>\n",
       "      <th>2012-02-18 22:44:00</th>\n",
       "      <td>criminal-mischief-mtr-veh</td>\n",
       "      <td>public-disorder</td>\n",
       "      <td>-105.044984</td>\n",
       "      <td>39.736776</td>\n",
       "      <td>west-colfax</td>\n",
       "      <td>1</td>\n",
       "      <td>0</td>\n",
       "    </tr>\n",
       "    <tr>\n",
       "      <th>2012-02-18 23:27:00</th>\n",
       "      <td>theft-items-from-vehicle</td>\n",
       "      <td>theft-from-motor-vehicle</td>\n",
       "      <td>-105.009018</td>\n",
       "      <td>39.708701</td>\n",
       "      <td>athmar-park</td>\n",
       "      <td>1</td>\n",
       "      <td>0</td>\n",
       "    </tr>\n",
       "  </tbody>\n",
       "</table>\n",
       "<p>6708 rows × 7 columns</p>\n",
       "</div>"
      ],
      "text/plain": [
       "                                    OFFENSE_TYPE_ID       OFFENSE_CATEGORY_ID  \\\n",
       "REPORTED_DATE                                                                   \n",
       "2012-01-02 00:06:00              aggravated-assault        aggravated-assault   \n",
       "2012-01-02 00:06:00  violation-of-restraining-order          all-other-crimes   \n",
       "2012-01-02 00:16:00       traffic-accident-dui-duid          traffic-accident   \n",
       "2012-01-02 00:47:00                traffic-accident          traffic-accident   \n",
       "2012-01-02 01:35:00              aggravated-assault        aggravated-assault   \n",
       "...                                             ...                       ...   \n",
       "2012-02-18 21:57:00                traffic-accident          traffic-accident   \n",
       "2012-02-18 22:19:00      criminal-mischief-graffiti           public-disorder   \n",
       "2012-02-18 22:20:00       traffic-accident-dui-duid          traffic-accident   \n",
       "2012-02-18 22:44:00       criminal-mischief-mtr-veh           public-disorder   \n",
       "2012-02-18 23:27:00        theft-items-from-vehicle  theft-from-motor-vehicle   \n",
       "\n",
       "                        GEO_LON    GEO_LAT     NEIGHBORHOOD_ID  IS_CRIME  \\\n",
       "REPORTED_DATE                                                              \n",
       "2012-01-02 00:06:00 -104.816860  39.796717           montbello         1   \n",
       "2012-01-02 00:06:00 -104.816860  39.796717           montbello         1   \n",
       "2012-01-02 00:16:00 -104.971851  39.736874       cheesman-park         0   \n",
       "2012-01-02 00:47:00 -104.951824  39.740168       congress-park         0   \n",
       "2012-01-02 01:35:00 -104.998131  39.749922       union-station         1   \n",
       "...                         ...        ...                 ...       ...   \n",
       "2012-02-18 21:57:00 -104.974663  39.744041  north-capitol-hill         0   \n",
       "2012-02-18 22:19:00 -104.957558  39.766129             clayton         1   \n",
       "2012-02-18 22:20:00 -104.919946  39.761917     north-park-hill         0   \n",
       "2012-02-18 22:44:00 -105.044984  39.736776         west-colfax         1   \n",
       "2012-02-18 23:27:00 -105.009018  39.708701         athmar-park         1   \n",
       "\n",
       "                     IS_TRAFFIC  \n",
       "REPORTED_DATE                    \n",
       "2012-01-02 00:06:00           0  \n",
       "2012-01-02 00:06:00           0  \n",
       "2012-01-02 00:16:00           1  \n",
       "2012-01-02 00:47:00           1  \n",
       "2012-01-02 01:35:00           0  \n",
       "...                         ...  \n",
       "2012-02-18 21:57:00           1  \n",
       "2012-02-18 22:19:00           0  \n",
       "2012-02-18 22:20:00           1  \n",
       "2012-02-18 22:44:00           0  \n",
       "2012-02-18 23:27:00           0  \n",
       "\n",
       "[6708 rows x 7 columns]"
      ]
     },
     "execution_count": 89,
     "metadata": {},
     "output_type": "execute_result"
    }
   ],
   "source": [
    "crime_sort.first(\"7W\")"
   ]
  },
  {
   "cell_type": "code",
   "execution_count": 90,
   "metadata": {
    "lines_to_next_cell": 2
   },
   "outputs": [
    {
     "data": {
      "text/html": [
       "<div>\n",
       "<style scoped>\n",
       "    .dataframe tbody tr th:only-of-type {\n",
       "        vertical-align: middle;\n",
       "    }\n",
       "\n",
       "    .dataframe tbody tr th {\n",
       "        vertical-align: top;\n",
       "    }\n",
       "\n",
       "    .dataframe thead th {\n",
       "        text-align: right;\n",
       "    }\n",
       "</style>\n",
       "<table border=\"1\" class=\"dataframe\">\n",
       "  <thead>\n",
       "    <tr style=\"text-align: right;\">\n",
       "      <th></th>\n",
       "      <th>OFFENSE_TYPE_ID</th>\n",
       "      <th>OFFENSE_CATEGORY_ID</th>\n",
       "      <th>GEO_LON</th>\n",
       "      <th>GEO_LAT</th>\n",
       "      <th>NEIGHBORHOOD_ID</th>\n",
       "      <th>IS_CRIME</th>\n",
       "      <th>IS_TRAFFIC</th>\n",
       "    </tr>\n",
       "    <tr>\n",
       "      <th>REPORTED_DATE</th>\n",
       "      <th></th>\n",
       "      <th></th>\n",
       "      <th></th>\n",
       "      <th></th>\n",
       "      <th></th>\n",
       "      <th></th>\n",
       "      <th></th>\n",
       "    </tr>\n",
       "  </thead>\n",
       "  <tbody>\n",
       "    <tr>\n",
       "      <th>2012-01-02 00:06:00</th>\n",
       "      <td>aggravated-assault</td>\n",
       "      <td>aggravated-assault</td>\n",
       "      <td>-104.816860</td>\n",
       "      <td>39.796717</td>\n",
       "      <td>montbello</td>\n",
       "      <td>1</td>\n",
       "      <td>0</td>\n",
       "    </tr>\n",
       "    <tr>\n",
       "      <th>2012-01-02 00:06:00</th>\n",
       "      <td>violation-of-restraining-order</td>\n",
       "      <td>all-other-crimes</td>\n",
       "      <td>-104.816860</td>\n",
       "      <td>39.796717</td>\n",
       "      <td>montbello</td>\n",
       "      <td>1</td>\n",
       "      <td>0</td>\n",
       "    </tr>\n",
       "    <tr>\n",
       "      <th>2012-01-02 00:16:00</th>\n",
       "      <td>traffic-accident-dui-duid</td>\n",
       "      <td>traffic-accident</td>\n",
       "      <td>-104.971851</td>\n",
       "      <td>39.736874</td>\n",
       "      <td>cheesman-park</td>\n",
       "      <td>0</td>\n",
       "      <td>1</td>\n",
       "    </tr>\n",
       "    <tr>\n",
       "      <th>2012-01-02 00:47:00</th>\n",
       "      <td>traffic-accident</td>\n",
       "      <td>traffic-accident</td>\n",
       "      <td>-104.951824</td>\n",
       "      <td>39.740168</td>\n",
       "      <td>congress-park</td>\n",
       "      <td>0</td>\n",
       "      <td>1</td>\n",
       "    </tr>\n",
       "    <tr>\n",
       "      <th>2012-01-02 01:35:00</th>\n",
       "      <td>aggravated-assault</td>\n",
       "      <td>aggravated-assault</td>\n",
       "      <td>-104.998131</td>\n",
       "      <td>39.749922</td>\n",
       "      <td>union-station</td>\n",
       "      <td>1</td>\n",
       "      <td>0</td>\n",
       "    </tr>\n",
       "    <tr>\n",
       "      <th>...</th>\n",
       "      <td>...</td>\n",
       "      <td>...</td>\n",
       "      <td>...</td>\n",
       "      <td>...</td>\n",
       "      <td>...</td>\n",
       "      <td>...</td>\n",
       "      <td>...</td>\n",
       "    </tr>\n",
       "    <tr>\n",
       "      <th>2012-09-30 23:17:00</th>\n",
       "      <td>drug-hallucinogen-possess</td>\n",
       "      <td>drug-alcohol</td>\n",
       "      <td>-105.022715</td>\n",
       "      <td>39.678579</td>\n",
       "      <td>college-view-south-platte</td>\n",
       "      <td>1</td>\n",
       "      <td>0</td>\n",
       "    </tr>\n",
       "    <tr>\n",
       "      <th>2012-09-30 23:29:00</th>\n",
       "      <td>robbery-street</td>\n",
       "      <td>robbery</td>\n",
       "      <td>-104.977522</td>\n",
       "      <td>39.781310</td>\n",
       "      <td>globeville</td>\n",
       "      <td>1</td>\n",
       "      <td>0</td>\n",
       "    </tr>\n",
       "    <tr>\n",
       "      <th>2012-09-30 23:29:00</th>\n",
       "      <td>theft-of-motor-vehicle</td>\n",
       "      <td>auto-theft</td>\n",
       "      <td>-104.988838</td>\n",
       "      <td>39.686925</td>\n",
       "      <td>overland</td>\n",
       "      <td>1</td>\n",
       "      <td>0</td>\n",
       "    </tr>\n",
       "    <tr>\n",
       "      <th>2012-09-30 23:41:00</th>\n",
       "      <td>traffic-accident-hit-and-run</td>\n",
       "      <td>traffic-accident</td>\n",
       "      <td>-105.087598</td>\n",
       "      <td>39.638462</td>\n",
       "      <td>marston</td>\n",
       "      <td>0</td>\n",
       "      <td>1</td>\n",
       "    </tr>\n",
       "    <tr>\n",
       "      <th>2012-09-30 23:43:00</th>\n",
       "      <td>robbery-business</td>\n",
       "      <td>robbery</td>\n",
       "      <td>-104.772712</td>\n",
       "      <td>39.781966</td>\n",
       "      <td>gateway-green-valley-ranch</td>\n",
       "      <td>1</td>\n",
       "      <td>0</td>\n",
       "    </tr>\n",
       "  </tbody>\n",
       "</table>\n",
       "<p>43045 rows × 7 columns</p>\n",
       "</div>"
      ],
      "text/plain": [
       "                                    OFFENSE_TYPE_ID OFFENSE_CATEGORY_ID  \\\n",
       "REPORTED_DATE                                                             \n",
       "2012-01-02 00:06:00              aggravated-assault  aggravated-assault   \n",
       "2012-01-02 00:06:00  violation-of-restraining-order    all-other-crimes   \n",
       "2012-01-02 00:16:00       traffic-accident-dui-duid    traffic-accident   \n",
       "2012-01-02 00:47:00                traffic-accident    traffic-accident   \n",
       "2012-01-02 01:35:00              aggravated-assault  aggravated-assault   \n",
       "...                                             ...                 ...   \n",
       "2012-09-30 23:17:00       drug-hallucinogen-possess        drug-alcohol   \n",
       "2012-09-30 23:29:00                  robbery-street             robbery   \n",
       "2012-09-30 23:29:00          theft-of-motor-vehicle          auto-theft   \n",
       "2012-09-30 23:41:00    traffic-accident-hit-and-run    traffic-accident   \n",
       "2012-09-30 23:43:00                robbery-business             robbery   \n",
       "\n",
       "                        GEO_LON    GEO_LAT             NEIGHBORHOOD_ID  \\\n",
       "REPORTED_DATE                                                            \n",
       "2012-01-02 00:06:00 -104.816860  39.796717                   montbello   \n",
       "2012-01-02 00:06:00 -104.816860  39.796717                   montbello   \n",
       "2012-01-02 00:16:00 -104.971851  39.736874               cheesman-park   \n",
       "2012-01-02 00:47:00 -104.951824  39.740168               congress-park   \n",
       "2012-01-02 01:35:00 -104.998131  39.749922               union-station   \n",
       "...                         ...        ...                         ...   \n",
       "2012-09-30 23:17:00 -105.022715  39.678579   college-view-south-platte   \n",
       "2012-09-30 23:29:00 -104.977522  39.781310                  globeville   \n",
       "2012-09-30 23:29:00 -104.988838  39.686925                    overland   \n",
       "2012-09-30 23:41:00 -105.087598  39.638462                     marston   \n",
       "2012-09-30 23:43:00 -104.772712  39.781966  gateway-green-valley-ranch   \n",
       "\n",
       "                     IS_CRIME  IS_TRAFFIC  \n",
       "REPORTED_DATE                              \n",
       "2012-01-02 00:06:00         1           0  \n",
       "2012-01-02 00:06:00         1           0  \n",
       "2012-01-02 00:16:00         0           1  \n",
       "2012-01-02 00:47:00         0           1  \n",
       "2012-01-02 01:35:00         1           0  \n",
       "...                       ...         ...  \n",
       "2012-09-30 23:17:00         1           0  \n",
       "2012-09-30 23:29:00         1           0  \n",
       "2012-09-30 23:29:00         1           0  \n",
       "2012-09-30 23:41:00         0           1  \n",
       "2012-09-30 23:43:00         1           0  \n",
       "\n",
       "[43045 rows x 7 columns]"
      ]
     },
     "execution_count": 90,
     "metadata": {},
     "output_type": "execute_result"
    }
   ],
   "source": [
    "crime_sort.first(\"3QS\")"
   ]
  },
  {
   "cell_type": "code",
   "execution_count": 91,
   "metadata": {
    "lines_to_next_cell": 2
   },
   "outputs": [
    {
     "data": {
      "text/html": [
       "<div>\n",
       "<style scoped>\n",
       "    .dataframe tbody tr th:only-of-type {\n",
       "        vertical-align: middle;\n",
       "    }\n",
       "\n",
       "    .dataframe tbody tr th {\n",
       "        vertical-align: top;\n",
       "    }\n",
       "\n",
       "    .dataframe thead th {\n",
       "        text-align: right;\n",
       "    }\n",
       "</style>\n",
       "<table border=\"1\" class=\"dataframe\">\n",
       "  <thead>\n",
       "    <tr style=\"text-align: right;\">\n",
       "      <th></th>\n",
       "      <th>OFFENSE_TYPE_ID</th>\n",
       "      <th>OFFENSE_CATEGORY_ID</th>\n",
       "      <th>GEO_LON</th>\n",
       "      <th>GEO_LAT</th>\n",
       "      <th>NEIGHBORHOOD_ID</th>\n",
       "      <th>IS_CRIME</th>\n",
       "      <th>IS_TRAFFIC</th>\n",
       "    </tr>\n",
       "    <tr>\n",
       "      <th>REPORTED_DATE</th>\n",
       "      <th></th>\n",
       "      <th></th>\n",
       "      <th></th>\n",
       "      <th></th>\n",
       "      <th></th>\n",
       "      <th></th>\n",
       "      <th></th>\n",
       "    </tr>\n",
       "  </thead>\n",
       "  <tbody>\n",
       "    <tr>\n",
       "      <th>2012-01-02 00:06:00</th>\n",
       "      <td>aggravated-assault</td>\n",
       "      <td>aggravated-assault</td>\n",
       "      <td>-104.816860</td>\n",
       "      <td>39.796717</td>\n",
       "      <td>montbello</td>\n",
       "      <td>1</td>\n",
       "      <td>0</td>\n",
       "    </tr>\n",
       "    <tr>\n",
       "      <th>2012-01-02 00:06:00</th>\n",
       "      <td>violation-of-restraining-order</td>\n",
       "      <td>all-other-crimes</td>\n",
       "      <td>-104.816860</td>\n",
       "      <td>39.796717</td>\n",
       "      <td>montbello</td>\n",
       "      <td>1</td>\n",
       "      <td>0</td>\n",
       "    </tr>\n",
       "    <tr>\n",
       "      <th>2012-01-02 00:16:00</th>\n",
       "      <td>traffic-accident-dui-duid</td>\n",
       "      <td>traffic-accident</td>\n",
       "      <td>-104.971851</td>\n",
       "      <td>39.736874</td>\n",
       "      <td>cheesman-park</td>\n",
       "      <td>0</td>\n",
       "      <td>1</td>\n",
       "    </tr>\n",
       "    <tr>\n",
       "      <th>2012-01-02 00:47:00</th>\n",
       "      <td>traffic-accident</td>\n",
       "      <td>traffic-accident</td>\n",
       "      <td>-104.951824</td>\n",
       "      <td>39.740168</td>\n",
       "      <td>congress-park</td>\n",
       "      <td>0</td>\n",
       "      <td>1</td>\n",
       "    </tr>\n",
       "    <tr>\n",
       "      <th>2012-01-02 01:35:00</th>\n",
       "      <td>aggravated-assault</td>\n",
       "      <td>aggravated-assault</td>\n",
       "      <td>-104.998131</td>\n",
       "      <td>39.749922</td>\n",
       "      <td>union-station</td>\n",
       "      <td>1</td>\n",
       "      <td>0</td>\n",
       "    </tr>\n",
       "    <tr>\n",
       "      <th>...</th>\n",
       "      <td>...</td>\n",
       "      <td>...</td>\n",
       "      <td>...</td>\n",
       "      <td>...</td>\n",
       "      <td>...</td>\n",
       "      <td>...</td>\n",
       "      <td>...</td>\n",
       "    </tr>\n",
       "    <tr>\n",
       "      <th>2012-12-30 23:13:00</th>\n",
       "      <td>traffic-accident</td>\n",
       "      <td>traffic-accident</td>\n",
       "      <td>-104.973097</td>\n",
       "      <td>39.740032</td>\n",
       "      <td>capitol-hill</td>\n",
       "      <td>0</td>\n",
       "      <td>1</td>\n",
       "    </tr>\n",
       "    <tr>\n",
       "      <th>2012-12-30 23:14:00</th>\n",
       "      <td>burglary-residence-no-force</td>\n",
       "      <td>burglary</td>\n",
       "      <td>-104.960898</td>\n",
       "      <td>39.697153</td>\n",
       "      <td>washington-park</td>\n",
       "      <td>1</td>\n",
       "      <td>0</td>\n",
       "    </tr>\n",
       "    <tr>\n",
       "      <th>2012-12-30 23:39:00</th>\n",
       "      <td>theft-of-motor-vehicle</td>\n",
       "      <td>auto-theft</td>\n",
       "      <td>-105.002180</td>\n",
       "      <td>39.769714</td>\n",
       "      <td>sunnyside</td>\n",
       "      <td>1</td>\n",
       "      <td>0</td>\n",
       "    </tr>\n",
       "    <tr>\n",
       "      <th>2012-12-30 23:41:00</th>\n",
       "      <td>traffic-accident</td>\n",
       "      <td>traffic-accident</td>\n",
       "      <td>-105.024681</td>\n",
       "      <td>39.673642</td>\n",
       "      <td>college-view-south-platte</td>\n",
       "      <td>0</td>\n",
       "      <td>1</td>\n",
       "    </tr>\n",
       "    <tr>\n",
       "      <th>2012-12-31 00:05:00</th>\n",
       "      <td>assault-simple</td>\n",
       "      <td>other-crimes-against-persons</td>\n",
       "      <td>-104.985759</td>\n",
       "      <td>39.732297</td>\n",
       "      <td>capitol-hill</td>\n",
       "      <td>1</td>\n",
       "      <td>0</td>\n",
       "    </tr>\n",
       "  </tbody>\n",
       "</table>\n",
       "<p>56897 rows × 7 columns</p>\n",
       "</div>"
      ],
      "text/plain": [
       "                                    OFFENSE_TYPE_ID  \\\n",
       "REPORTED_DATE                                         \n",
       "2012-01-02 00:06:00              aggravated-assault   \n",
       "2012-01-02 00:06:00  violation-of-restraining-order   \n",
       "2012-01-02 00:16:00       traffic-accident-dui-duid   \n",
       "2012-01-02 00:47:00                traffic-accident   \n",
       "2012-01-02 01:35:00              aggravated-assault   \n",
       "...                                             ...   \n",
       "2012-12-30 23:13:00                traffic-accident   \n",
       "2012-12-30 23:14:00     burglary-residence-no-force   \n",
       "2012-12-30 23:39:00          theft-of-motor-vehicle   \n",
       "2012-12-30 23:41:00                traffic-accident   \n",
       "2012-12-31 00:05:00                  assault-simple   \n",
       "\n",
       "                              OFFENSE_CATEGORY_ID     GEO_LON    GEO_LAT  \\\n",
       "REPORTED_DATE                                                              \n",
       "2012-01-02 00:06:00            aggravated-assault -104.816860  39.796717   \n",
       "2012-01-02 00:06:00              all-other-crimes -104.816860  39.796717   \n",
       "2012-01-02 00:16:00              traffic-accident -104.971851  39.736874   \n",
       "2012-01-02 00:47:00              traffic-accident -104.951824  39.740168   \n",
       "2012-01-02 01:35:00            aggravated-assault -104.998131  39.749922   \n",
       "...                                           ...         ...        ...   \n",
       "2012-12-30 23:13:00              traffic-accident -104.973097  39.740032   \n",
       "2012-12-30 23:14:00                      burglary -104.960898  39.697153   \n",
       "2012-12-30 23:39:00                    auto-theft -105.002180  39.769714   \n",
       "2012-12-30 23:41:00              traffic-accident -105.024681  39.673642   \n",
       "2012-12-31 00:05:00  other-crimes-against-persons -104.985759  39.732297   \n",
       "\n",
       "                               NEIGHBORHOOD_ID  IS_CRIME  IS_TRAFFIC  \n",
       "REPORTED_DATE                                                         \n",
       "2012-01-02 00:06:00                  montbello         1           0  \n",
       "2012-01-02 00:06:00                  montbello         1           0  \n",
       "2012-01-02 00:16:00              cheesman-park         0           1  \n",
       "2012-01-02 00:47:00              congress-park         0           1  \n",
       "2012-01-02 01:35:00              union-station         1           0  \n",
       "...                                        ...       ...         ...  \n",
       "2012-12-30 23:13:00               capitol-hill         0           1  \n",
       "2012-12-30 23:14:00            washington-park         1           0  \n",
       "2012-12-30 23:39:00                  sunnyside         1           0  \n",
       "2012-12-30 23:41:00  college-view-south-platte         0           1  \n",
       "2012-12-31 00:05:00               capitol-hill         1           0  \n",
       "\n",
       "[56897 rows x 7 columns]"
      ]
     },
     "execution_count": 91,
     "metadata": {},
     "output_type": "execute_result"
    }
   ],
   "source": [
    "crime_sort.first(\"A\")"
   ]
  },
  {
   "cell_type": "code",
   "execution_count": 92,
   "metadata": {
    "lines_to_next_cell": 2
   },
   "outputs": [
    {
     "data": {
      "text/plain": [
       "Timestamp('2012-02-16 13:40:00')"
      ]
     },
     "execution_count": 92,
     "metadata": {},
     "output_type": "execute_result"
    }
   ],
   "source": [
    "dt = pd.Timestamp(\"2012-1-16 13:40\")\n",
    "dt + pd.DateOffset(months=1)"
   ]
  },
  {
   "cell_type": "code",
   "execution_count": 93,
   "metadata": {
    "lines_to_next_cell": 2
   },
   "outputs": [
    {
     "data": {
      "text/plain": [
       "Timestamp('2014-06-25 11:22:10')"
      ]
     },
     "execution_count": 93,
     "metadata": {},
     "output_type": "execute_result"
    }
   ],
   "source": [
    "do = pd.DateOffset(years=2, months=5, days=3, hours=8, seconds=10)\n",
    "pd.Timestamp(\"2012-1-22 03:22\") + do"
   ]
  },
  {
   "cell_type": "markdown",
   "metadata": {},
   "source": [
    "## 11.5 依據時間區段重新分組"
   ]
  },
  {
   "cell_type": "code",
   "execution_count": 94,
   "metadata": {
    "lines_to_next_cell": 2
   },
   "outputs": [],
   "source": [
    "crime_sort = (\n",
    "  pd.read_hdf(\"data/crime.h5\", \"crime\").set_index(\"REPORTED_DATE\").sort_index()\n",
    ")"
   ]
  },
  {
   "cell_type": "code",
   "execution_count": 95,
   "metadata": {
    "lines_to_next_cell": 2
   },
   "outputs": [
    {
     "data": {
      "text/plain": [
       "<pandas.core.resample.DatetimeIndexResampler object at 0x000001BA17B07EB0>"
      ]
     },
     "execution_count": 95,
     "metadata": {},
     "output_type": "execute_result"
    }
   ],
   "source": [
    "crime_sort.resample(\"W\")"
   ]
  },
  {
   "cell_type": "code",
   "execution_count": 96,
   "metadata": {
    "lines_to_next_cell": 2
   },
   "outputs": [
    {
     "data": {
      "text/plain": [
       "REPORTED_DATE\n",
       "2012-01-08     877\n",
       "2012-01-15    1071\n",
       "2012-01-22     991\n",
       "2012-01-29     988\n",
       "2012-02-05     888\n",
       "              ... \n",
       "2017-09-03    1956\n",
       "2017-09-10    1733\n",
       "2017-09-17    1976\n",
       "2017-09-24    1839\n",
       "2017-10-01    1059\n",
       "Freq: W-SUN, Length: 300, dtype: int64"
      ]
     },
     "execution_count": 96,
     "metadata": {},
     "output_type": "execute_result"
    }
   ],
   "source": [
    "(crime_sort.resample(\"W\").size())"
   ]
  },
  {
   "cell_type": "code",
   "execution_count": 97,
   "metadata": {
    "lines_to_next_cell": 2
   },
   "outputs": [
    {
     "data": {
      "text/plain": [
       "877"
      ]
     },
     "execution_count": 97,
     "metadata": {},
     "output_type": "execute_result"
    }
   ],
   "source": [
    "len(crime_sort.loc[:\"2012-1-8\"])"
   ]
  },
  {
   "cell_type": "code",
   "execution_count": 98,
   "metadata": {
    "lines_to_next_cell": 2
   },
   "outputs": [
    {
     "data": {
      "text/plain": [
       "1071"
      ]
     },
     "execution_count": 98,
     "metadata": {},
     "output_type": "execute_result"
    }
   ],
   "source": [
    "len(crime_sort.loc[\"2012-1-9\":\"2012-1-15\"])"
   ]
  },
  {
   "cell_type": "code",
   "execution_count": 99,
   "metadata": {
    "lines_to_next_cell": 2
   },
   "outputs": [
    {
     "data": {
      "text/plain": [
       "REPORTED_DATE\n",
       "2012-01-05     462\n",
       "2012-01-12    1116\n",
       "2012-01-19     924\n",
       "2012-01-26    1061\n",
       "2012-02-02     926\n",
       "              ... \n",
       "2017-09-07    1803\n",
       "2017-09-14    1866\n",
       "2017-09-21    1926\n",
       "2017-09-28    1720\n",
       "2017-10-05      28\n",
       "Freq: W-THU, Length: 301, dtype: int64"
      ]
     },
     "execution_count": 99,
     "metadata": {},
     "output_type": "execute_result"
    }
   ],
   "source": [
    "(crime_sort.resample(\"W-THU\").size())"
   ]
  },
  {
   "cell_type": "code",
   "execution_count": 100,
   "metadata": {
    "lines_to_next_cell": 2
   },
   "outputs": [
    {
     "data": {
      "text/plain": [
       "REPORTED_DATE\n",
       "2012-01-08     877\n",
       "2012-01-15    1071\n",
       "2012-01-22     991\n",
       "2012-01-29     988\n",
       "2012-02-05     888\n",
       "              ... \n",
       "2017-09-03    1956\n",
       "2017-09-10    1733\n",
       "2017-09-17    1976\n",
       "2017-09-24    1839\n",
       "2017-10-01    1059\n",
       "Freq: W-SUN, Length: 300, dtype: int64"
      ]
     },
     "execution_count": 100,
     "metadata": {},
     "output_type": "execute_result"
    }
   ],
   "source": [
    "weekly_crimes = crime_sort.groupby(pd.Grouper(freq=\"W\")).size()\n",
    "weekly_crimes"
   ]
  },
  {
   "cell_type": "code",
   "execution_count": 101,
   "metadata": {
    "lines_to_next_cell": 2
   },
   "outputs": [
    {
     "data": {
      "text/plain": [
       "['agg',\n",
       " 'aggregate',\n",
       " 'apply',\n",
       " 'asfreq',\n",
       " 'ax',\n",
       " 'backfill',\n",
       " 'bfill',\n",
       " 'binner',\n",
       " 'count',\n",
       " 'ffill',\n",
       " 'fillna',\n",
       " 'first',\n",
       " 'get_group',\n",
       " 'groupby',\n",
       " 'groups',\n",
       " 'indices',\n",
       " 'interpolate',\n",
       " 'kind',\n",
       " 'last',\n",
       " 'max',\n",
       " 'mean',\n",
       " 'median',\n",
       " 'min',\n",
       " 'ndim',\n",
       " 'nearest',\n",
       " 'ngroups',\n",
       " 'nunique',\n",
       " 'ohlc',\n",
       " 'pad',\n",
       " 'pipe',\n",
       " 'plot',\n",
       " 'prod',\n",
       " 'quantile',\n",
       " 'sem',\n",
       " 'size',\n",
       " 'std',\n",
       " 'sum',\n",
       " 'transform',\n",
       " 'var']"
      ]
     },
     "execution_count": 101,
     "metadata": {},
     "output_type": "execute_result"
    }
   ],
   "source": [
    "r = crime_sort.resample(\"W\")\n",
    "[attr for attr in dir(r) if attr[0].islower()]"
   ]
  },
  {
   "cell_type": "code",
   "execution_count": 102,
   "metadata": {
    "lines_to_next_cell": 2
   },
   "outputs": [
    {
     "data": {
      "text/plain": [
       "True"
      ]
     },
     "execution_count": 102,
     "metadata": {},
     "output_type": "execute_result"
    }
   ],
   "source": [
    "crime = pd.read_hdf(\"data/crime.h5\", \"crime\")\n",
    "weekly_crimes2 = crime.resample(\"W\", on=\"REPORTED_DATE\").size()\n",
    "weekly_crimes2.equals(weekly_crimes)"
   ]
  },
  {
   "cell_type": "code",
   "execution_count": 103,
   "metadata": {
    "lines_to_next_cell": 2
   },
   "outputs": [
    {
     "data": {
      "text/plain": [
       "True"
      ]
     },
     "execution_count": 103,
     "metadata": {},
     "output_type": "execute_result"
    }
   ],
   "source": [
    "weekly_crimes_gby2 = crime.groupby(pd.Grouper(key=\"REPORTED_DATE\", freq=\"W\")).size()\n",
    "weekly_crimes2.equals(weekly_crimes)"
   ]
  },
  {
   "cell_type": "code",
   "execution_count": 104,
   "metadata": {
    "lines_to_next_cell": 2
   },
   "outputs": [
    {
     "data": {
      "text/plain": [
       "<AxesSubplot:title={'center':'All Denver Crimes'}, xlabel='REPORTED_DATE'>"
      ]
     },
     "execution_count": 104,
     "metadata": {},
     "output_type": "execute_result"
    },
    {
     "data": {
      "image/png": "[encoded data removed]",
      "text/plain": [
       "<Figure size 1152x288 with 1 Axes>"
      ]
     },
     "metadata": {
      "needs_background": "light"
     },
     "output_type": "display_data"
    }
   ],
   "source": [
    "import matplotlib.pyplot as plt\n",
    "\n",
    "fig, ax = plt.subplots(figsize=(16, 4))\n",
    "weekly_crimes.plot(title=\"All Denver Crimes\", ax=ax)"
   ]
  },
  {
   "cell_type": "markdown",
   "metadata": {},
   "source": [
    "## 11.6 分組彙總同一時間單位的多個欄位"
   ]
  },
  {
   "cell_type": "code",
   "execution_count": 105,
   "metadata": {
    "lines_to_next_cell": 2
   },
   "outputs": [],
   "source": [
    "crime = pd.read_hdf(\"data/crime.h5\", \"crime\").set_index(\"REPORTED_DATE\").sort_index()"
   ]
  },
  {
   "cell_type": "code",
   "execution_count": 106,
   "metadata": {
    "lines_to_next_cell": 2
   },
   "outputs": [
    {
     "data": {
      "text/html": [
       "<div>\n",
       "<style scoped>\n",
       "    .dataframe tbody tr th:only-of-type {\n",
       "        vertical-align: middle;\n",
       "    }\n",
       "\n",
       "    .dataframe tbody tr th {\n",
       "        vertical-align: top;\n",
       "    }\n",
       "\n",
       "    .dataframe thead th {\n",
       "        text-align: right;\n",
       "    }\n",
       "</style>\n",
       "<table border=\"1\" class=\"dataframe\">\n",
       "  <thead>\n",
       "    <tr style=\"text-align: right;\">\n",
       "      <th></th>\n",
       "      <th>IS_CRIME</th>\n",
       "      <th>IS_TRAFFIC</th>\n",
       "    </tr>\n",
       "    <tr>\n",
       "      <th>REPORTED_DATE</th>\n",
       "      <th></th>\n",
       "      <th></th>\n",
       "    </tr>\n",
       "  </thead>\n",
       "  <tbody>\n",
       "    <tr>\n",
       "      <th>2012-03-31</th>\n",
       "      <td>7882</td>\n",
       "      <td>4726</td>\n",
       "    </tr>\n",
       "    <tr>\n",
       "      <th>2012-06-30</th>\n",
       "      <td>9641</td>\n",
       "      <td>5255</td>\n",
       "    </tr>\n",
       "    <tr>\n",
       "      <th>2012-09-30</th>\n",
       "      <td>10566</td>\n",
       "      <td>5003</td>\n",
       "    </tr>\n",
       "    <tr>\n",
       "      <th>2012-12-31</th>\n",
       "      <td>9197</td>\n",
       "      <td>4802</td>\n",
       "    </tr>\n",
       "    <tr>\n",
       "      <th>2013-03-31</th>\n",
       "      <td>8730</td>\n",
       "      <td>4442</td>\n",
       "    </tr>\n",
       "    <tr>\n",
       "      <th>2013-06-30</th>\n",
       "      <td>12259</td>\n",
       "      <td>4510</td>\n",
       "    </tr>\n",
       "    <tr>\n",
       "      <th>2013-09-30</th>\n",
       "      <td>15799</td>\n",
       "      <td>4942</td>\n",
       "    </tr>\n",
       "    <tr>\n",
       "      <th>2013-12-31</th>\n",
       "      <td>13910</td>\n",
       "      <td>4968</td>\n",
       "    </tr>\n",
       "    <tr>\n",
       "      <th>2014-03-31</th>\n",
       "      <td>14487</td>\n",
       "      <td>5021</td>\n",
       "    </tr>\n",
       "    <tr>\n",
       "      <th>2014-06-30</th>\n",
       "      <td>15833</td>\n",
       "      <td>5225</td>\n",
       "    </tr>\n",
       "    <tr>\n",
       "      <th>2014-09-30</th>\n",
       "      <td>17342</td>\n",
       "      <td>5734</td>\n",
       "    </tr>\n",
       "    <tr>\n",
       "      <th>2014-12-31</th>\n",
       "      <td>15028</td>\n",
       "      <td>5783</td>\n",
       "    </tr>\n",
       "    <tr>\n",
       "      <th>2015-03-31</th>\n",
       "      <td>14989</td>\n",
       "      <td>5380</td>\n",
       "    </tr>\n",
       "    <tr>\n",
       "      <th>2015-06-30</th>\n",
       "      <td>16924</td>\n",
       "      <td>5825</td>\n",
       "    </tr>\n",
       "    <tr>\n",
       "      <th>2015-09-30</th>\n",
       "      <td>17891</td>\n",
       "      <td>5988</td>\n",
       "    </tr>\n",
       "    <tr>\n",
       "      <th>2015-12-31</th>\n",
       "      <td>16090</td>\n",
       "      <td>6117</td>\n",
       "    </tr>\n",
       "    <tr>\n",
       "      <th>2016-03-31</th>\n",
       "      <td>16423</td>\n",
       "      <td>5590</td>\n",
       "    </tr>\n",
       "    <tr>\n",
       "      <th>2016-06-30</th>\n",
       "      <td>17547</td>\n",
       "      <td>5861</td>\n",
       "    </tr>\n",
       "    <tr>\n",
       "      <th>2016-09-30</th>\n",
       "      <td>17427</td>\n",
       "      <td>6199</td>\n",
       "    </tr>\n",
       "    <tr>\n",
       "      <th>2016-12-31</th>\n",
       "      <td>15984</td>\n",
       "      <td>6094</td>\n",
       "    </tr>\n",
       "    <tr>\n",
       "      <th>2017-03-31</th>\n",
       "      <td>16426</td>\n",
       "      <td>5587</td>\n",
       "    </tr>\n",
       "    <tr>\n",
       "      <th>2017-06-30</th>\n",
       "      <td>17486</td>\n",
       "      <td>6148</td>\n",
       "    </tr>\n",
       "    <tr>\n",
       "      <th>2017-09-30</th>\n",
       "      <td>17990</td>\n",
       "      <td>6101</td>\n",
       "    </tr>\n",
       "  </tbody>\n",
       "</table>\n",
       "</div>"
      ],
      "text/plain": [
       "               IS_CRIME  IS_TRAFFIC\n",
       "REPORTED_DATE                      \n",
       "2012-03-31         7882        4726\n",
       "2012-06-30         9641        5255\n",
       "2012-09-30        10566        5003\n",
       "2012-12-31         9197        4802\n",
       "2013-03-31         8730        4442\n",
       "2013-06-30        12259        4510\n",
       "2013-09-30        15799        4942\n",
       "2013-12-31        13910        4968\n",
       "2014-03-31        14487        5021\n",
       "2014-06-30        15833        5225\n",
       "2014-09-30        17342        5734\n",
       "2014-12-31        15028        5783\n",
       "2015-03-31        14989        5380\n",
       "2015-06-30        16924        5825\n",
       "2015-09-30        17891        5988\n",
       "2015-12-31        16090        6117\n",
       "2016-03-31        16423        5590\n",
       "2016-06-30        17547        5861\n",
       "2016-09-30        17427        6199\n",
       "2016-12-31        15984        6094\n",
       "2017-03-31        16426        5587\n",
       "2017-06-30        17486        6148\n",
       "2017-09-30        17990        6101"
      ]
     },
     "execution_count": 106,
     "metadata": {},
     "output_type": "execute_result"
    }
   ],
   "source": [
    "(crime.resample(\"Q\")[\"IS_CRIME\", \"IS_TRAFFIC\"].sum())"
   ]
  },
  {
   "cell_type": "code",
   "execution_count": 107,
   "metadata": {
    "lines_to_next_cell": 2
   },
   "outputs": [
    {
     "data": {
      "text/html": [
       "<div>\n",
       "<style scoped>\n",
       "    .dataframe tbody tr th:only-of-type {\n",
       "        vertical-align: middle;\n",
       "    }\n",
       "\n",
       "    .dataframe tbody tr th {\n",
       "        vertical-align: top;\n",
       "    }\n",
       "\n",
       "    .dataframe thead th {\n",
       "        text-align: right;\n",
       "    }\n",
       "</style>\n",
       "<table border=\"1\" class=\"dataframe\">\n",
       "  <thead>\n",
       "    <tr style=\"text-align: right;\">\n",
       "      <th></th>\n",
       "      <th>IS_CRIME</th>\n",
       "      <th>IS_TRAFFIC</th>\n",
       "    </tr>\n",
       "    <tr>\n",
       "      <th>REPORTED_DATE</th>\n",
       "      <th></th>\n",
       "      <th></th>\n",
       "    </tr>\n",
       "  </thead>\n",
       "  <tbody>\n",
       "    <tr>\n",
       "      <th>2012-01-01</th>\n",
       "      <td>7882</td>\n",
       "      <td>4726</td>\n",
       "    </tr>\n",
       "    <tr>\n",
       "      <th>2012-04-01</th>\n",
       "      <td>9641</td>\n",
       "      <td>5255</td>\n",
       "    </tr>\n",
       "    <tr>\n",
       "      <th>2012-07-01</th>\n",
       "      <td>10566</td>\n",
       "      <td>5003</td>\n",
       "    </tr>\n",
       "    <tr>\n",
       "      <th>2012-10-01</th>\n",
       "      <td>9197</td>\n",
       "      <td>4802</td>\n",
       "    </tr>\n",
       "    <tr>\n",
       "      <th>2013-01-01</th>\n",
       "      <td>8730</td>\n",
       "      <td>4442</td>\n",
       "    </tr>\n",
       "    <tr>\n",
       "      <th>2013-04-01</th>\n",
       "      <td>12259</td>\n",
       "      <td>4510</td>\n",
       "    </tr>\n",
       "    <tr>\n",
       "      <th>2013-07-01</th>\n",
       "      <td>15799</td>\n",
       "      <td>4942</td>\n",
       "    </tr>\n",
       "    <tr>\n",
       "      <th>2013-10-01</th>\n",
       "      <td>13910</td>\n",
       "      <td>4968</td>\n",
       "    </tr>\n",
       "    <tr>\n",
       "      <th>2014-01-01</th>\n",
       "      <td>14487</td>\n",
       "      <td>5021</td>\n",
       "    </tr>\n",
       "    <tr>\n",
       "      <th>2014-04-01</th>\n",
       "      <td>15833</td>\n",
       "      <td>5225</td>\n",
       "    </tr>\n",
       "    <tr>\n",
       "      <th>2014-07-01</th>\n",
       "      <td>17342</td>\n",
       "      <td>5734</td>\n",
       "    </tr>\n",
       "    <tr>\n",
       "      <th>2014-10-01</th>\n",
       "      <td>15028</td>\n",
       "      <td>5783</td>\n",
       "    </tr>\n",
       "    <tr>\n",
       "      <th>2015-01-01</th>\n",
       "      <td>14989</td>\n",
       "      <td>5380</td>\n",
       "    </tr>\n",
       "    <tr>\n",
       "      <th>2015-04-01</th>\n",
       "      <td>16924</td>\n",
       "      <td>5825</td>\n",
       "    </tr>\n",
       "    <tr>\n",
       "      <th>2015-07-01</th>\n",
       "      <td>17891</td>\n",
       "      <td>5988</td>\n",
       "    </tr>\n",
       "    <tr>\n",
       "      <th>2015-10-01</th>\n",
       "      <td>16090</td>\n",
       "      <td>6117</td>\n",
       "    </tr>\n",
       "    <tr>\n",
       "      <th>2016-01-01</th>\n",
       "      <td>16423</td>\n",
       "      <td>5590</td>\n",
       "    </tr>\n",
       "    <tr>\n",
       "      <th>2016-04-01</th>\n",
       "      <td>17547</td>\n",
       "      <td>5861</td>\n",
       "    </tr>\n",
       "    <tr>\n",
       "      <th>2016-07-01</th>\n",
       "      <td>17427</td>\n",
       "      <td>6199</td>\n",
       "    </tr>\n",
       "    <tr>\n",
       "      <th>2016-10-01</th>\n",
       "      <td>15984</td>\n",
       "      <td>6094</td>\n",
       "    </tr>\n",
       "    <tr>\n",
       "      <th>2017-01-01</th>\n",
       "      <td>16426</td>\n",
       "      <td>5587</td>\n",
       "    </tr>\n",
       "    <tr>\n",
       "      <th>2017-04-01</th>\n",
       "      <td>17486</td>\n",
       "      <td>6148</td>\n",
       "    </tr>\n",
       "    <tr>\n",
       "      <th>2017-07-01</th>\n",
       "      <td>17990</td>\n",
       "      <td>6101</td>\n",
       "    </tr>\n",
       "  </tbody>\n",
       "</table>\n",
       "</div>"
      ],
      "text/plain": [
       "               IS_CRIME  IS_TRAFFIC\n",
       "REPORTED_DATE                      \n",
       "2012-01-01         7882        4726\n",
       "2012-04-01         9641        5255\n",
       "2012-07-01        10566        5003\n",
       "2012-10-01         9197        4802\n",
       "2013-01-01         8730        4442\n",
       "2013-04-01        12259        4510\n",
       "2013-07-01        15799        4942\n",
       "2013-10-01        13910        4968\n",
       "2014-01-01        14487        5021\n",
       "2014-04-01        15833        5225\n",
       "2014-07-01        17342        5734\n",
       "2014-10-01        15028        5783\n",
       "2015-01-01        14989        5380\n",
       "2015-04-01        16924        5825\n",
       "2015-07-01        17891        5988\n",
       "2015-10-01        16090        6117\n",
       "2016-01-01        16423        5590\n",
       "2016-04-01        17547        5861\n",
       "2016-07-01        17427        6199\n",
       "2016-10-01        15984        6094\n",
       "2017-01-01        16426        5587\n",
       "2017-04-01        17486        6148\n",
       "2017-07-01        17990        6101"
      ]
     },
     "execution_count": 107,
     "metadata": {},
     "output_type": "execute_result"
    }
   ],
   "source": [
    "(crime.resample(\"QS\")[\"IS_CRIME\", \"IS_TRAFFIC\"].sum())"
   ]
  },
  {
   "cell_type": "code",
   "execution_count": 111,
   "metadata": {
    "lines_to_next_cell": 2
   },
   "outputs": [
    {
     "data": {
      "text/plain": [
       "IS_CRIME      9641\n",
       "IS_TRAFFIC    5255\n",
       "dtype: int64"
      ]
     },
     "execution_count": 111,
     "metadata": {},
     "output_type": "execute_result"
    }
   ],
   "source": [
    "(crime.loc[\"2012-4-1\":\"2012-6-30\", [\"IS_CRIME\", \"IS_TRAFFIC\"]].sum())"
   ]
  },
  {
   "cell_type": "code",
   "execution_count": 109,
   "metadata": {
    "lines_to_next_cell": 2
   },
   "outputs": [
    {
     "name": "stderr",
     "output_type": "stream",
     "text": [
      "C:\\Users\\aaronhsu\\AppData\\Local\\Temp\\ipykernel_24768\\186917459.py:1: FutureWarning: Indexing with multiple keys (implicitly converted to a tuple of keys) will be deprecated, use a list instead.\n",
      "  (crime\n"
     ]
    },
    {
     "data": {
      "text/html": [
       "<div>\n",
       "<style scoped>\n",
       "    .dataframe tbody tr th:only-of-type {\n",
       "        vertical-align: middle;\n",
       "    }\n",
       "\n",
       "    .dataframe tbody tr th {\n",
       "        vertical-align: top;\n",
       "    }\n",
       "\n",
       "    .dataframe thead th {\n",
       "        text-align: right;\n",
       "    }\n",
       "</style>\n",
       "<table border=\"1\" class=\"dataframe\">\n",
       "  <thead>\n",
       "    <tr style=\"text-align: right;\">\n",
       "      <th></th>\n",
       "      <th>IS_CRIME</th>\n",
       "      <th>IS_TRAFFIC</th>\n",
       "    </tr>\n",
       "    <tr>\n",
       "      <th>REPORTED_DATE</th>\n",
       "      <th></th>\n",
       "      <th></th>\n",
       "    </tr>\n",
       "  </thead>\n",
       "  <tbody>\n",
       "    <tr>\n",
       "      <th>2012-03-31</th>\n",
       "      <td>7882</td>\n",
       "      <td>4726</td>\n",
       "    </tr>\n",
       "    <tr>\n",
       "      <th>2012-06-30</th>\n",
       "      <td>9641</td>\n",
       "      <td>5255</td>\n",
       "    </tr>\n",
       "    <tr>\n",
       "      <th>2012-09-30</th>\n",
       "      <td>10566</td>\n",
       "      <td>5003</td>\n",
       "    </tr>\n",
       "    <tr>\n",
       "      <th>2012-12-31</th>\n",
       "      <td>9197</td>\n",
       "      <td>4802</td>\n",
       "    </tr>\n",
       "    <tr>\n",
       "      <th>2013-03-31</th>\n",
       "      <td>8730</td>\n",
       "      <td>4442</td>\n",
       "    </tr>\n",
       "    <tr>\n",
       "      <th>2013-06-30</th>\n",
       "      <td>12259</td>\n",
       "      <td>4510</td>\n",
       "    </tr>\n",
       "    <tr>\n",
       "      <th>2013-09-30</th>\n",
       "      <td>15799</td>\n",
       "      <td>4942</td>\n",
       "    </tr>\n",
       "    <tr>\n",
       "      <th>2013-12-31</th>\n",
       "      <td>13910</td>\n",
       "      <td>4968</td>\n",
       "    </tr>\n",
       "    <tr>\n",
       "      <th>2014-03-31</th>\n",
       "      <td>14487</td>\n",
       "      <td>5021</td>\n",
       "    </tr>\n",
       "    <tr>\n",
       "      <th>2014-06-30</th>\n",
       "      <td>15833</td>\n",
       "      <td>5225</td>\n",
       "    </tr>\n",
       "    <tr>\n",
       "      <th>2014-09-30</th>\n",
       "      <td>17342</td>\n",
       "      <td>5734</td>\n",
       "    </tr>\n",
       "    <tr>\n",
       "      <th>2014-12-31</th>\n",
       "      <td>15028</td>\n",
       "      <td>5783</td>\n",
       "    </tr>\n",
       "    <tr>\n",
       "      <th>2015-03-31</th>\n",
       "      <td>14989</td>\n",
       "      <td>5380</td>\n",
       "    </tr>\n",
       "    <tr>\n",
       "      <th>2015-06-30</th>\n",
       "      <td>16924</td>\n",
       "      <td>5825</td>\n",
       "    </tr>\n",
       "    <tr>\n",
       "      <th>2015-09-30</th>\n",
       "      <td>17891</td>\n",
       "      <td>5988</td>\n",
       "    </tr>\n",
       "    <tr>\n",
       "      <th>2015-12-31</th>\n",
       "      <td>16090</td>\n",
       "      <td>6117</td>\n",
       "    </tr>\n",
       "    <tr>\n",
       "      <th>2016-03-31</th>\n",
       "      <td>16423</td>\n",
       "      <td>5590</td>\n",
       "    </tr>\n",
       "    <tr>\n",
       "      <th>2016-06-30</th>\n",
       "      <td>17547</td>\n",
       "      <td>5861</td>\n",
       "    </tr>\n",
       "    <tr>\n",
       "      <th>2016-09-30</th>\n",
       "      <td>17427</td>\n",
       "      <td>6199</td>\n",
       "    </tr>\n",
       "    <tr>\n",
       "      <th>2016-12-31</th>\n",
       "      <td>15984</td>\n",
       "      <td>6094</td>\n",
       "    </tr>\n",
       "    <tr>\n",
       "      <th>2017-03-31</th>\n",
       "      <td>16426</td>\n",
       "      <td>5587</td>\n",
       "    </tr>\n",
       "    <tr>\n",
       "      <th>2017-06-30</th>\n",
       "      <td>17486</td>\n",
       "      <td>6148</td>\n",
       "    </tr>\n",
       "    <tr>\n",
       "      <th>2017-09-30</th>\n",
       "      <td>17990</td>\n",
       "      <td>6101</td>\n",
       "    </tr>\n",
       "  </tbody>\n",
       "</table>\n",
       "</div>"
      ],
      "text/plain": [
       "               IS_CRIME  IS_TRAFFIC\n",
       "REPORTED_DATE                      \n",
       "2012-03-31         7882        4726\n",
       "2012-06-30         9641        5255\n",
       "2012-09-30        10566        5003\n",
       "2012-12-31         9197        4802\n",
       "2013-03-31         8730        4442\n",
       "2013-06-30        12259        4510\n",
       "2013-09-30        15799        4942\n",
       "2013-12-31        13910        4968\n",
       "2014-03-31        14487        5021\n",
       "2014-06-30        15833        5225\n",
       "2014-09-30        17342        5734\n",
       "2014-12-31        15028        5783\n",
       "2015-03-31        14989        5380\n",
       "2015-06-30        16924        5825\n",
       "2015-09-30        17891        5988\n",
       "2015-12-31        16090        6117\n",
       "2016-03-31        16423        5590\n",
       "2016-06-30        17547        5861\n",
       "2016-09-30        17427        6199\n",
       "2016-12-31        15984        6094\n",
       "2017-03-31        16426        5587\n",
       "2017-06-30        17486        6148\n",
       "2017-09-30        17990        6101"
      ]
     },
     "execution_count": 109,
     "metadata": {},
     "output_type": "execute_result"
    }
   ],
   "source": [
    "(crime.groupby(pd.Grouper(freq=\"Q\"))[\"IS_CRIME\", \"IS_TRAFFIC\"].sum())"
   ]
  },
  {
   "cell_type": "code",
   "execution_count": 112,
   "metadata": {
    "lines_to_next_cell": 2
   },
   "outputs": [
    {
     "name": "stderr",
     "output_type": "stream",
     "text": [
      "C:\\Users\\aaronhsu\\AppData\\Local\\Temp\\ipykernel_24768\\33321396.py:2: FutureWarning: Indexing with multiple keys (implicitly converted to a tuple of keys) will be deprecated, use a list instead.\n",
      "  (crime\n"
     ]
    },
    {
     "data": {
      "text/plain": [
       "<AxesSubplot:title={'center':'Denver Crimes and Traffic Accidents'}, xlabel='REPORTED_DATE'>"
      ]
     },
     "execution_count": 112,
     "metadata": {},
     "output_type": "execute_result"
    },
    {
     "data": {
      "image/png": "[encoded data removed]",
      "text/plain": [
       "<Figure size 1152x288 with 1 Axes>"
      ]
     },
     "metadata": {
      "needs_background": "light"
     },
     "output_type": "display_data"
    }
   ],
   "source": [
    "fig, ax = plt.subplots(figsize=(16, 4))\n",
    "(\n",
    "  crime.groupby(pd.Grouper(freq=\"Q\"))[\"IS_CRIME\", \"IS_TRAFFIC\"]\n",
    "  .sum()\n",
    "  .plot(\n",
    "    color=[\"black\", \"lightgrey\"], ax=ax, title=\"Denver Crimes and Traffic Accidents\"\n",
    "  )\n",
    ")"
   ]
  },
  {
   "cell_type": "code",
   "execution_count": 113,
   "metadata": {
    "lines_to_next_cell": 2,
    "scrolled": true
   },
   "outputs": [
    {
     "data": {
      "text/html": [
       "<div>\n",
       "<style scoped>\n",
       "    .dataframe tbody tr th:only-of-type {\n",
       "        vertical-align: middle;\n",
       "    }\n",
       "\n",
       "    .dataframe tbody tr th {\n",
       "        vertical-align: top;\n",
       "    }\n",
       "\n",
       "    .dataframe thead th {\n",
       "        text-align: right;\n",
       "    }\n",
       "</style>\n",
       "<table border=\"1\" class=\"dataframe\">\n",
       "  <thead>\n",
       "    <tr style=\"text-align: right;\">\n",
       "      <th></th>\n",
       "      <th>GEO_LON</th>\n",
       "      <th>GEO_LAT</th>\n",
       "      <th>IS_CRIME</th>\n",
       "      <th>IS_TRAFFIC</th>\n",
       "    </tr>\n",
       "    <tr>\n",
       "      <th>REPORTED_DATE</th>\n",
       "      <th></th>\n",
       "      <th></th>\n",
       "      <th></th>\n",
       "      <th></th>\n",
       "    </tr>\n",
       "  </thead>\n",
       "  <tbody>\n",
       "    <tr>\n",
       "      <th>2012-03-31</th>\n",
       "      <td>-1.313006e+06</td>\n",
       "      <td>496960.237747</td>\n",
       "      <td>7882</td>\n",
       "      <td>4726</td>\n",
       "    </tr>\n",
       "    <tr>\n",
       "      <th>2012-06-30</th>\n",
       "      <td>-1.547274e+06</td>\n",
       "      <td>585656.789182</td>\n",
       "      <td>9641</td>\n",
       "      <td>5255</td>\n",
       "    </tr>\n",
       "    <tr>\n",
       "      <th>2012-09-30</th>\n",
       "      <td>-1.615835e+06</td>\n",
       "      <td>611604.800384</td>\n",
       "      <td>10566</td>\n",
       "      <td>5003</td>\n",
       "    </tr>\n",
       "    <tr>\n",
       "      <th>2012-12-31</th>\n",
       "      <td>-1.458177e+06</td>\n",
       "      <td>551923.040048</td>\n",
       "      <td>9197</td>\n",
       "      <td>4802</td>\n",
       "    </tr>\n",
       "    <tr>\n",
       "      <th>2013-03-31</th>\n",
       "      <td>-1.368931e+06</td>\n",
       "      <td>518159.721947</td>\n",
       "      <td>8730</td>\n",
       "      <td>4442</td>\n",
       "    </tr>\n",
       "    <tr>\n",
       "      <th>2013-06-30</th>\n",
       "      <td>-1.745258e+06</td>\n",
       "      <td>660605.459423</td>\n",
       "      <td>12259</td>\n",
       "      <td>4510</td>\n",
       "    </tr>\n",
       "    <tr>\n",
       "      <th>2013-09-30</th>\n",
       "      <td>-2.163462e+06</td>\n",
       "      <td>818928.385016</td>\n",
       "      <td>15799</td>\n",
       "      <td>4942</td>\n",
       "    </tr>\n",
       "    <tr>\n",
       "      <th>2013-12-31</th>\n",
       "      <td>-1.968499e+06</td>\n",
       "      <td>745130.512956</td>\n",
       "      <td>13910</td>\n",
       "      <td>4968</td>\n",
       "    </tr>\n",
       "    <tr>\n",
       "      <th>2014-03-31</th>\n",
       "      <td>-2.035280e+06</td>\n",
       "      <td>770390.547678</td>\n",
       "      <td>14487</td>\n",
       "      <td>5021</td>\n",
       "    </tr>\n",
       "    <tr>\n",
       "      <th>2014-06-30</th>\n",
       "      <td>-2.194813e+06</td>\n",
       "      <td>830797.383279</td>\n",
       "      <td>15833</td>\n",
       "      <td>5225</td>\n",
       "    </tr>\n",
       "    <tr>\n",
       "      <th>2014-09-30</th>\n",
       "      <td>-2.403188e+06</td>\n",
       "      <td>909655.497299</td>\n",
       "      <td>17342</td>\n",
       "      <td>5734</td>\n",
       "    </tr>\n",
       "    <tr>\n",
       "      <th>2014-12-31</th>\n",
       "      <td>-2.168060e+06</td>\n",
       "      <td>820646.342243</td>\n",
       "      <td>15028</td>\n",
       "      <td>5783</td>\n",
       "    </tr>\n",
       "    <tr>\n",
       "      <th>2015-03-31</th>\n",
       "      <td>-2.119882e+06</td>\n",
       "      <td>802408.650849</td>\n",
       "      <td>14989</td>\n",
       "      <td>5380</td>\n",
       "    </tr>\n",
       "    <tr>\n",
       "      <th>2015-06-30</th>\n",
       "      <td>-2.366025e+06</td>\n",
       "      <td>895596.771805</td>\n",
       "      <td>16924</td>\n",
       "      <td>5825</td>\n",
       "    </tr>\n",
       "    <tr>\n",
       "      <th>2015-09-30</th>\n",
       "      <td>-2.484364e+06</td>\n",
       "      <td>940365.299387</td>\n",
       "      <td>17891</td>\n",
       "      <td>5988</td>\n",
       "    </tr>\n",
       "    <tr>\n",
       "      <th>2015-12-31</th>\n",
       "      <td>-2.309943e+06</td>\n",
       "      <td>874374.064562</td>\n",
       "      <td>16090</td>\n",
       "      <td>6117</td>\n",
       "    </tr>\n",
       "    <tr>\n",
       "      <th>2016-03-31</th>\n",
       "      <td>-2.290744e+06</td>\n",
       "      <td>867119.366527</td>\n",
       "      <td>16423</td>\n",
       "      <td>5590</td>\n",
       "    </tr>\n",
       "    <tr>\n",
       "      <th>2016-06-30</th>\n",
       "      <td>-2.437249e+06</td>\n",
       "      <td>922590.246492</td>\n",
       "      <td>17547</td>\n",
       "      <td>5861</td>\n",
       "    </tr>\n",
       "    <tr>\n",
       "      <th>2016-09-30</th>\n",
       "      <td>-2.459343e+06</td>\n",
       "      <td>930926.400392</td>\n",
       "      <td>17427</td>\n",
       "      <td>6199</td>\n",
       "    </tr>\n",
       "    <tr>\n",
       "      <th>2016-12-31</th>\n",
       "      <td>-2.293628e+06</td>\n",
       "      <td>868233.856718</td>\n",
       "      <td>15984</td>\n",
       "      <td>6094</td>\n",
       "    </tr>\n",
       "    <tr>\n",
       "      <th>2017-03-31</th>\n",
       "      <td>-2.288383e+06</td>\n",
       "      <td>866234.222733</td>\n",
       "      <td>16426</td>\n",
       "      <td>5587</td>\n",
       "    </tr>\n",
       "    <tr>\n",
       "      <th>2017-06-30</th>\n",
       "      <td>-2.453857e+06</td>\n",
       "      <td>928864.661232</td>\n",
       "      <td>17486</td>\n",
       "      <td>6148</td>\n",
       "    </tr>\n",
       "    <tr>\n",
       "      <th>2017-09-30</th>\n",
       "      <td>-2.508001e+06</td>\n",
       "      <td>949396.372035</td>\n",
       "      <td>17990</td>\n",
       "      <td>6101</td>\n",
       "    </tr>\n",
       "  </tbody>\n",
       "</table>\n",
       "</div>"
      ],
      "text/plain": [
       "                    GEO_LON        GEO_LAT  IS_CRIME  IS_TRAFFIC\n",
       "REPORTED_DATE                                                   \n",
       "2012-03-31    -1.313006e+06  496960.237747      7882        4726\n",
       "2012-06-30    -1.547274e+06  585656.789182      9641        5255\n",
       "2012-09-30    -1.615835e+06  611604.800384     10566        5003\n",
       "2012-12-31    -1.458177e+06  551923.040048      9197        4802\n",
       "2013-03-31    -1.368931e+06  518159.721947      8730        4442\n",
       "2013-06-30    -1.745258e+06  660605.459423     12259        4510\n",
       "2013-09-30    -2.163462e+06  818928.385016     15799        4942\n",
       "2013-12-31    -1.968499e+06  745130.512956     13910        4968\n",
       "2014-03-31    -2.035280e+06  770390.547678     14487        5021\n",
       "2014-06-30    -2.194813e+06  830797.383279     15833        5225\n",
       "2014-09-30    -2.403188e+06  909655.497299     17342        5734\n",
       "2014-12-31    -2.168060e+06  820646.342243     15028        5783\n",
       "2015-03-31    -2.119882e+06  802408.650849     14989        5380\n",
       "2015-06-30    -2.366025e+06  895596.771805     16924        5825\n",
       "2015-09-30    -2.484364e+06  940365.299387     17891        5988\n",
       "2015-12-31    -2.309943e+06  874374.064562     16090        6117\n",
       "2016-03-31    -2.290744e+06  867119.366527     16423        5590\n",
       "2016-06-30    -2.437249e+06  922590.246492     17547        5861\n",
       "2016-09-30    -2.459343e+06  930926.400392     17427        6199\n",
       "2016-12-31    -2.293628e+06  868233.856718     15984        6094\n",
       "2017-03-31    -2.288383e+06  866234.222733     16426        5587\n",
       "2017-06-30    -2.453857e+06  928864.661232     17486        6148\n",
       "2017-09-30    -2.508001e+06  949396.372035     17990        6101"
      ]
     },
     "execution_count": 113,
     "metadata": {},
     "output_type": "execute_result"
    }
   ],
   "source": [
    "(crime.resample(\"Q\").sum())"
   ]
  },
  {
   "cell_type": "code",
   "execution_count": 114,
   "metadata": {
    "lines_to_next_cell": 2
   },
   "outputs": [
    {
     "data": {
      "text/html": [
       "<div>\n",
       "<style scoped>\n",
       "    .dataframe tbody tr th:only-of-type {\n",
       "        vertical-align: middle;\n",
       "    }\n",
       "\n",
       "    .dataframe tbody tr th {\n",
       "        vertical-align: top;\n",
       "    }\n",
       "\n",
       "    .dataframe thead th {\n",
       "        text-align: right;\n",
       "    }\n",
       "</style>\n",
       "<table border=\"1\" class=\"dataframe\">\n",
       "  <thead>\n",
       "    <tr style=\"text-align: right;\">\n",
       "      <th></th>\n",
       "      <th>IS_CRIME</th>\n",
       "      <th>IS_TRAFFIC</th>\n",
       "    </tr>\n",
       "    <tr>\n",
       "      <th>REPORTED_DATE</th>\n",
       "      <th></th>\n",
       "      <th></th>\n",
       "    </tr>\n",
       "  </thead>\n",
       "  <tbody>\n",
       "    <tr>\n",
       "      <th>2011-12-01</th>\n",
       "      <td>5013</td>\n",
       "      <td>3198</td>\n",
       "    </tr>\n",
       "    <tr>\n",
       "      <th>2012-03-01</th>\n",
       "      <td>9260</td>\n",
       "      <td>4954</td>\n",
       "    </tr>\n",
       "    <tr>\n",
       "      <th>2012-06-01</th>\n",
       "      <td>10524</td>\n",
       "      <td>5190</td>\n",
       "    </tr>\n",
       "    <tr>\n",
       "      <th>2012-09-01</th>\n",
       "      <td>9450</td>\n",
       "      <td>4777</td>\n",
       "    </tr>\n",
       "    <tr>\n",
       "      <th>2012-12-01</th>\n",
       "      <td>9003</td>\n",
       "      <td>4652</td>\n",
       "    </tr>\n",
       "    <tr>\n",
       "      <th>2013-03-01</th>\n",
       "      <td>9953</td>\n",
       "      <td>4461</td>\n",
       "    </tr>\n",
       "    <tr>\n",
       "      <th>2013-06-01</th>\n",
       "      <td>15792</td>\n",
       "      <td>4797</td>\n",
       "    </tr>\n",
       "    <tr>\n",
       "      <th>2013-09-01</th>\n",
       "      <td>14588</td>\n",
       "      <td>4915</td>\n",
       "    </tr>\n",
       "    <tr>\n",
       "      <th>2013-12-01</th>\n",
       "      <td>13538</td>\n",
       "      <td>5030</td>\n",
       "    </tr>\n",
       "    <tr>\n",
       "      <th>2014-03-01</th>\n",
       "      <td>15794</td>\n",
       "      <td>5131</td>\n",
       "    </tr>\n",
       "    <tr>\n",
       "      <th>2014-06-01</th>\n",
       "      <td>17041</td>\n",
       "      <td>5550</td>\n",
       "    </tr>\n",
       "    <tr>\n",
       "      <th>2014-09-01</th>\n",
       "      <td>15946</td>\n",
       "      <td>5813</td>\n",
       "    </tr>\n",
       "    <tr>\n",
       "      <th>2014-12-01</th>\n",
       "      <td>14395</td>\n",
       "      <td>5626</td>\n",
       "    </tr>\n",
       "    <tr>\n",
       "      <th>2015-03-01</th>\n",
       "      <td>16599</td>\n",
       "      <td>5517</td>\n",
       "    </tr>\n",
       "    <tr>\n",
       "      <th>2015-06-01</th>\n",
       "      <td>17833</td>\n",
       "      <td>6011</td>\n",
       "    </tr>\n",
       "    <tr>\n",
       "      <th>2015-09-01</th>\n",
       "      <td>16865</td>\n",
       "      <td>6158</td>\n",
       "    </tr>\n",
       "    <tr>\n",
       "      <th>2015-12-01</th>\n",
       "      <td>15874</td>\n",
       "      <td>5652</td>\n",
       "    </tr>\n",
       "    <tr>\n",
       "      <th>2016-03-01</th>\n",
       "      <td>17362</td>\n",
       "      <td>5777</td>\n",
       "    </tr>\n",
       "    <tr>\n",
       "      <th>2016-06-01</th>\n",
       "      <td>17225</td>\n",
       "      <td>6042</td>\n",
       "    </tr>\n",
       "    <tr>\n",
       "      <th>2016-09-01</th>\n",
       "      <td>16932</td>\n",
       "      <td>6202</td>\n",
       "    </tr>\n",
       "    <tr>\n",
       "      <th>2016-12-01</th>\n",
       "      <td>15615</td>\n",
       "      <td>5731</td>\n",
       "    </tr>\n",
       "    <tr>\n",
       "      <th>2017-03-01</th>\n",
       "      <td>17287</td>\n",
       "      <td>5940</td>\n",
       "    </tr>\n",
       "    <tr>\n",
       "      <th>2017-06-01</th>\n",
       "      <td>18545</td>\n",
       "      <td>6246</td>\n",
       "    </tr>\n",
       "    <tr>\n",
       "      <th>2017-09-01</th>\n",
       "      <td>5417</td>\n",
       "      <td>1931</td>\n",
       "    </tr>\n",
       "  </tbody>\n",
       "</table>\n",
       "</div>"
      ],
      "text/plain": [
       "               IS_CRIME  IS_TRAFFIC\n",
       "REPORTED_DATE                      \n",
       "2011-12-01         5013        3198\n",
       "2012-03-01         9260        4954\n",
       "2012-06-01        10524        5190\n",
       "2012-09-01         9450        4777\n",
       "2012-12-01         9003        4652\n",
       "2013-03-01         9953        4461\n",
       "2013-06-01        15792        4797\n",
       "2013-09-01        14588        4915\n",
       "2013-12-01        13538        5030\n",
       "2014-03-01        15794        5131\n",
       "2014-06-01        17041        5550\n",
       "2014-09-01        15946        5813\n",
       "2014-12-01        14395        5626\n",
       "2015-03-01        16599        5517\n",
       "2015-06-01        17833        6011\n",
       "2015-09-01        16865        6158\n",
       "2015-12-01        15874        5652\n",
       "2016-03-01        17362        5777\n",
       "2016-06-01        17225        6042\n",
       "2016-09-01        16932        6202\n",
       "2016-12-01        15615        5731\n",
       "2017-03-01        17287        5940\n",
       "2017-06-01        18545        6246\n",
       "2017-09-01         5417        1931"
      ]
     },
     "execution_count": 114,
     "metadata": {},
     "output_type": "execute_result"
    }
   ],
   "source": [
    "(crime_sort.resample(\"QS-MAR\")[\"IS_CRIME\", \"IS_TRAFFIC\"].sum())"
   ]
  },
  {
   "cell_type": "code",
   "execution_count": 115,
   "metadata": {
    "lines_to_next_cell": 2
   },
   "outputs": [],
   "source": [
    "crime_begin = crime.resample(\"Q\")[\"IS_CRIME\", \"IS_TRAFFIC\"].sum().iloc[0]"
   ]
  },
  {
   "cell_type": "code",
   "execution_count": 116,
   "metadata": {
    "lines_to_next_cell": 2
   },
   "outputs": [
    {
     "data": {
      "text/plain": [
       "<AxesSubplot:title={'center':'Denver Crimes and Traffic Accidents % Increase'}, xlabel='REPORTED_DATE'>"
      ]
     },
     "execution_count": 116,
     "metadata": {},
     "output_type": "execute_result"
    },
    {
     "data": {
      "image/png": "[encoded data removed]",
      "text/plain": [
       "<Figure size 1152x288 with 1 Axes>"
      ]
     },
     "metadata": {
      "needs_background": "light"
     },
     "output_type": "display_data"
    }
   ],
   "source": [
    "fig, ax = plt.subplots(figsize=(16, 4))\n",
    "(\n",
    "  crime.resample(\"Q\")[\"IS_CRIME\", \"IS_TRAFFIC\"]\n",
    "  .sum()\n",
    "  .div(crime_begin)\n",
    "  .sub(1)\n",
    "  .round(2)\n",
    "  .mul(100)\n",
    "  .plot.bar(\n",
    "    color=[\"black\", \"lightgrey\"],\n",
    "    ax=ax,\n",
    "    title=\"Denver Crimes and Traffic Accidents % Increase\",\n",
    "  )\n",
    ")"
   ]
  },
  {
   "cell_type": "markdown",
   "metadata": {},
   "source": [
    "## 11.7 案例演練：以『星期幾』來統計犯罪率"
   ]
  },
  {
   "cell_type": "code",
   "execution_count": 117,
   "metadata": {
    "lines_to_next_cell": 2
   },
   "outputs": [
    {
     "data": {
      "text/html": [
       "<div>\n",
       "<style scoped>\n",
       "    .dataframe tbody tr th:only-of-type {\n",
       "        vertical-align: middle;\n",
       "    }\n",
       "\n",
       "    .dataframe tbody tr th {\n",
       "        vertical-align: top;\n",
       "    }\n",
       "\n",
       "    .dataframe thead th {\n",
       "        text-align: right;\n",
       "    }\n",
       "</style>\n",
       "<table border=\"1\" class=\"dataframe\">\n",
       "  <thead>\n",
       "    <tr style=\"text-align: right;\">\n",
       "      <th></th>\n",
       "      <th>OFFENSE_TYPE_ID</th>\n",
       "      <th>OFFENSE_CATEGORY_ID</th>\n",
       "      <th>REPORTED_DATE</th>\n",
       "      <th>GEO_LON</th>\n",
       "      <th>GEO_LAT</th>\n",
       "      <th>NEIGHBORHOOD_ID</th>\n",
       "      <th>IS_CRIME</th>\n",
       "      <th>IS_TRAFFIC</th>\n",
       "    </tr>\n",
       "  </thead>\n",
       "  <tbody>\n",
       "    <tr>\n",
       "      <th>0</th>\n",
       "      <td>traffic-accident-dui-duid</td>\n",
       "      <td>traffic-accident</td>\n",
       "      <td>2014-06-29 02:01:00</td>\n",
       "      <td>-105.000149</td>\n",
       "      <td>39.745753</td>\n",
       "      <td>cbd</td>\n",
       "      <td>0</td>\n",
       "      <td>1</td>\n",
       "    </tr>\n",
       "    <tr>\n",
       "      <th>1</th>\n",
       "      <td>vehicular-eluding-no-chase</td>\n",
       "      <td>all-other-crimes</td>\n",
       "      <td>2014-06-29 01:54:00</td>\n",
       "      <td>-104.884660</td>\n",
       "      <td>39.738702</td>\n",
       "      <td>east-colfax</td>\n",
       "      <td>1</td>\n",
       "      <td>0</td>\n",
       "    </tr>\n",
       "    <tr>\n",
       "      <th>2</th>\n",
       "      <td>disturbing-the-peace</td>\n",
       "      <td>public-disorder</td>\n",
       "      <td>2014-06-29 02:00:00</td>\n",
       "      <td>-105.020719</td>\n",
       "      <td>39.706674</td>\n",
       "      <td>athmar-park</td>\n",
       "      <td>1</td>\n",
       "      <td>0</td>\n",
       "    </tr>\n",
       "    <tr>\n",
       "      <th>3</th>\n",
       "      <td>curfew</td>\n",
       "      <td>public-disorder</td>\n",
       "      <td>2014-06-29 02:18:00</td>\n",
       "      <td>-105.001552</td>\n",
       "      <td>39.769505</td>\n",
       "      <td>sunnyside</td>\n",
       "      <td>1</td>\n",
       "      <td>0</td>\n",
       "    </tr>\n",
       "    <tr>\n",
       "      <th>4</th>\n",
       "      <td>aggravated-assault</td>\n",
       "      <td>aggravated-assault</td>\n",
       "      <td>2014-06-29 04:17:00</td>\n",
       "      <td>-105.018557</td>\n",
       "      <td>39.679229</td>\n",
       "      <td>college-view-south-platte</td>\n",
       "      <td>1</td>\n",
       "      <td>0</td>\n",
       "    </tr>\n",
       "    <tr>\n",
       "      <th>...</th>\n",
       "      <td>...</td>\n",
       "      <td>...</td>\n",
       "      <td>...</td>\n",
       "      <td>...</td>\n",
       "      <td>...</td>\n",
       "      <td>...</td>\n",
       "      <td>...</td>\n",
       "      <td>...</td>\n",
       "    </tr>\n",
       "    <tr>\n",
       "      <th>460906</th>\n",
       "      <td>burglary-business-by-force</td>\n",
       "      <td>burglary</td>\n",
       "      <td>2017-09-13 05:48:00</td>\n",
       "      <td>-105.033840</td>\n",
       "      <td>39.762365</td>\n",
       "      <td>west-highland</td>\n",
       "      <td>1</td>\n",
       "      <td>0</td>\n",
       "    </tr>\n",
       "    <tr>\n",
       "      <th>460907</th>\n",
       "      <td>weapon-unlawful-discharge-of</td>\n",
       "      <td>all-other-crimes</td>\n",
       "      <td>2017-09-12 20:37:00</td>\n",
       "      <td>-105.040313</td>\n",
       "      <td>39.721264</td>\n",
       "      <td>barnum-west</td>\n",
       "      <td>1</td>\n",
       "      <td>0</td>\n",
       "    </tr>\n",
       "    <tr>\n",
       "      <th>460908</th>\n",
       "      <td>traf-habitual-offender</td>\n",
       "      <td>all-other-crimes</td>\n",
       "      <td>2017-09-12 16:32:00</td>\n",
       "      <td>-104.847024</td>\n",
       "      <td>39.779596</td>\n",
       "      <td>montbello</td>\n",
       "      <td>1</td>\n",
       "      <td>0</td>\n",
       "    </tr>\n",
       "    <tr>\n",
       "      <th>460909</th>\n",
       "      <td>criminal-mischief-other</td>\n",
       "      <td>public-disorder</td>\n",
       "      <td>2017-09-12 13:04:00</td>\n",
       "      <td>-104.949183</td>\n",
       "      <td>39.756353</td>\n",
       "      <td>skyland</td>\n",
       "      <td>1</td>\n",
       "      <td>0</td>\n",
       "    </tr>\n",
       "    <tr>\n",
       "      <th>460910</th>\n",
       "      <td>theft-other</td>\n",
       "      <td>larceny</td>\n",
       "      <td>2017-09-12 09:30:00</td>\n",
       "      <td>-104.985739</td>\n",
       "      <td>39.735045</td>\n",
       "      <td>capitol-hill</td>\n",
       "      <td>1</td>\n",
       "      <td>0</td>\n",
       "    </tr>\n",
       "  </tbody>\n",
       "</table>\n",
       "<p>460911 rows × 8 columns</p>\n",
       "</div>"
      ],
      "text/plain": [
       "                     OFFENSE_TYPE_ID OFFENSE_CATEGORY_ID       REPORTED_DATE  \\\n",
       "0          traffic-accident-dui-duid    traffic-accident 2014-06-29 02:01:00   \n",
       "1         vehicular-eluding-no-chase    all-other-crimes 2014-06-29 01:54:00   \n",
       "2               disturbing-the-peace     public-disorder 2014-06-29 02:00:00   \n",
       "3                             curfew     public-disorder 2014-06-29 02:18:00   \n",
       "4                 aggravated-assault  aggravated-assault 2014-06-29 04:17:00   \n",
       "...                              ...                 ...                 ...   \n",
       "460906    burglary-business-by-force            burglary 2017-09-13 05:48:00   \n",
       "460907  weapon-unlawful-discharge-of    all-other-crimes 2017-09-12 20:37:00   \n",
       "460908        traf-habitual-offender    all-other-crimes 2017-09-12 16:32:00   \n",
       "460909       criminal-mischief-other     public-disorder 2017-09-12 13:04:00   \n",
       "460910                   theft-other             larceny 2017-09-12 09:30:00   \n",
       "\n",
       "           GEO_LON    GEO_LAT            NEIGHBORHOOD_ID  IS_CRIME  IS_TRAFFIC  \n",
       "0      -105.000149  39.745753                        cbd         0           1  \n",
       "1      -104.884660  39.738702                east-colfax         1           0  \n",
       "2      -105.020719  39.706674                athmar-park         1           0  \n",
       "3      -105.001552  39.769505                  sunnyside         1           0  \n",
       "4      -105.018557  39.679229  college-view-south-platte         1           0  \n",
       "...            ...        ...                        ...       ...         ...  \n",
       "460906 -105.033840  39.762365              west-highland         1           0  \n",
       "460907 -105.040313  39.721264                barnum-west         1           0  \n",
       "460908 -104.847024  39.779596                  montbello         1           0  \n",
       "460909 -104.949183  39.756353                    skyland         1           0  \n",
       "460910 -104.985739  39.735045               capitol-hill         1           0  \n",
       "\n",
       "[460911 rows x 8 columns]"
      ]
     },
     "execution_count": 117,
     "metadata": {},
     "output_type": "execute_result"
    }
   ],
   "source": [
    "crime = pd.read_hdf(\"data/crime.h5\", \"crime\")\n",
    "crime"
   ]
  },
  {
   "cell_type": "code",
   "execution_count": 118,
   "metadata": {
    "lines_to_next_cell": 2
   },
   "outputs": [
    {
     "data": {
      "text/plain": [
       "Monday       70024\n",
       "Friday       69621\n",
       "Wednesday    69538\n",
       "Thursday     69287\n",
       "Tuesday      68394\n",
       "Saturday     58834\n",
       "Sunday       55213\n",
       "Name: REPORTED_DATE, dtype: int64"
      ]
     },
     "execution_count": 118,
     "metadata": {},
     "output_type": "execute_result"
    }
   ],
   "source": [
    "(crime[\"REPORTED_DATE\"].dt.day_name().value_counts())"
   ]
  },
  {
   "cell_type": "code",
   "execution_count": 119,
   "metadata": {
    "lines_to_next_cell": 2
   },
   "outputs": [
    {
     "data": {
      "text/plain": [
       "<AxesSubplot:title={'center':'Denver Crimes and Traffic Accidents per Weekday'}>"
      ]
     },
     "execution_count": 119,
     "metadata": {},
     "output_type": "execute_result"
    },
    {
     "data": {
      "image/png": "[encoded data removed]",
      "text/plain": [
       "<Figure size 432x288 with 1 Axes>"
      ]
     },
     "metadata": {
      "needs_background": "light"
     },
     "output_type": "display_data"
    }
   ],
   "source": [
    "days = [\"Monday\", \"Tuesday\", \"Wednesday\", \"Thursday\", \"Friday\", \"Saturday\", \"Sunday\"]\n",
    "title = \"Denver Crimes and Traffic Accidents per Weekday\"\n",
    "fig, ax = plt.subplots(figsize=(6, 4))\n",
    "(\n",
    "  crime[\"REPORTED_DATE\"]\n",
    "  .dt.day_name()\n",
    "  .value_counts()\n",
    "  .reindex(days)\n",
    "  .plot.barh(title=title, ax=ax)\n",
    ")"
   ]
  },
  {
   "cell_type": "code",
   "execution_count": 120,
   "metadata": {},
   "outputs": [
    {
     "data": {
      "text/plain": [
       "Monday       70024\n",
       "Tuesday      68394\n",
       "Wednesday    69538\n",
       "Thursday     69287\n",
       "Friday       69621\n",
       "Saturday     58834\n",
       "Sunday       55213\n",
       "Name: REPORTED_DATE, dtype: int64"
      ]
     },
     "execution_count": 120,
     "metadata": {},
     "output_type": "execute_result"
    }
   ],
   "source": [
    "(crime[\"REPORTED_DATE\"].dt.day_name().value_counts().loc[days])"
   ]
  },
  {
   "cell_type": "code",
   "execution_count": 121,
   "metadata": {
    "lines_to_next_cell": 2
   },
   "outputs": [
    {
     "data": {
      "text/plain": [
       "<AxesSubplot:title={'center':'Denver Crimes and Traffic Accidents per Year'}>"
      ]
     },
     "execution_count": 121,
     "metadata": {},
     "output_type": "execute_result"
    },
    {
     "data": {
      "image/png": "[encoded data removed]",
      "text/plain": [
       "<Figure size 432x288 with 1 Axes>"
      ]
     },
     "metadata": {
      "needs_background": "light"
     },
     "output_type": "display_data"
    }
   ],
   "source": [
    "title = \"Denver Crimes and Traffic Accidents per Year\"\n",
    "fig, ax = plt.subplots(figsize=(6, 4))\n",
    "(\n",
    "  crime[\"REPORTED_DATE\"]\n",
    "  .dt.year.value_counts()\n",
    "  .sort_index()\n",
    "  .plot.barh(title=title, ax=ax)\n",
    ")"
   ]
  },
  {
   "cell_type": "code",
   "execution_count": 122,
   "metadata": {
    "lines_to_next_cell": 2
   },
   "outputs": [
    {
     "data": {
      "text/plain": [
       "year  day      \n",
       "2012  Friday        8549\n",
       "      Monday        8786\n",
       "      Saturday      7442\n",
       "      Sunday        7189\n",
       "      Thursday      8440\n",
       "      Tuesday       8191\n",
       "      Wednesday     8440\n",
       "2013  Friday       10380\n",
       "      Monday       10627\n",
       "      Saturday      8875\n",
       "      Sunday        8444\n",
       "      Thursday     10431\n",
       "      Tuesday      10416\n",
       "      Wednesday    10354\n",
       "2014  Friday       12683\n",
       "      Monday       12813\n",
       "      Saturday     10950\n",
       "      Sunday       10278\n",
       "      Thursday     12309\n",
       "      Tuesday      12440\n",
       "      Wednesday    12948\n",
       "2015  Friday       13273\n",
       "      Monday       13452\n",
       "      Saturday     11586\n",
       "      Sunday       10624\n",
       "      Thursday     13512\n",
       "      Tuesday      13381\n",
       "      Wednesday    13320\n",
       "2016  Friday       14059\n",
       "      Monday       13708\n",
       "      Saturday     11467\n",
       "      Sunday       10554\n",
       "      Thursday     14050\n",
       "      Tuesday      13338\n",
       "      Wednesday    13900\n",
       "2017  Friday       10677\n",
       "      Monday       10638\n",
       "      Saturday      8514\n",
       "      Sunday        8124\n",
       "      Thursday     10545\n",
       "      Tuesday      10628\n",
       "      Wednesday    10576\n",
       "dtype: int64"
      ]
     },
     "execution_count": 122,
     "metadata": {},
     "output_type": "execute_result"
    }
   ],
   "source": [
    "(\n",
    "  crime.groupby(\n",
    "    [\n",
    "      crime[\"REPORTED_DATE\"].dt.year.rename(\"year\"),\n",
    "      crime[\"REPORTED_DATE\"].dt.day_name().rename(\"day\"),\n",
    "    ]\n",
    "  ).size()\n",
    ")"
   ]
  },
  {
   "cell_type": "code",
   "execution_count": 123,
   "metadata": {},
   "outputs": [
    {
     "data": {
      "text/html": [
       "<div>\n",
       "<style scoped>\n",
       "    .dataframe tbody tr th:only-of-type {\n",
       "        vertical-align: middle;\n",
       "    }\n",
       "\n",
       "    .dataframe tbody tr th {\n",
       "        vertical-align: top;\n",
       "    }\n",
       "\n",
       "    .dataframe thead th {\n",
       "        text-align: right;\n",
       "    }\n",
       "</style>\n",
       "<table border=\"1\" class=\"dataframe\">\n",
       "  <thead>\n",
       "    <tr style=\"text-align: right;\">\n",
       "      <th>day</th>\n",
       "      <th>Friday</th>\n",
       "      <th>Monday</th>\n",
       "      <th>Saturday</th>\n",
       "      <th>Sunday</th>\n",
       "      <th>Thursday</th>\n",
       "      <th>Tuesday</th>\n",
       "      <th>Wednesday</th>\n",
       "    </tr>\n",
       "    <tr>\n",
       "      <th>year</th>\n",
       "      <th></th>\n",
       "      <th></th>\n",
       "      <th></th>\n",
       "      <th></th>\n",
       "      <th></th>\n",
       "      <th></th>\n",
       "      <th></th>\n",
       "    </tr>\n",
       "  </thead>\n",
       "  <tbody>\n",
       "    <tr>\n",
       "      <th>2012</th>\n",
       "      <td>8549</td>\n",
       "      <td>8786</td>\n",
       "      <td>7442</td>\n",
       "      <td>7189</td>\n",
       "      <td>8440</td>\n",
       "      <td>8191</td>\n",
       "      <td>8440</td>\n",
       "    </tr>\n",
       "    <tr>\n",
       "      <th>2013</th>\n",
       "      <td>10380</td>\n",
       "      <td>10627</td>\n",
       "      <td>8875</td>\n",
       "      <td>8444</td>\n",
       "      <td>10431</td>\n",
       "      <td>10416</td>\n",
       "      <td>10354</td>\n",
       "    </tr>\n",
       "    <tr>\n",
       "      <th>2014</th>\n",
       "      <td>12683</td>\n",
       "      <td>12813</td>\n",
       "      <td>10950</td>\n",
       "      <td>10278</td>\n",
       "      <td>12309</td>\n",
       "      <td>12440</td>\n",
       "      <td>12948</td>\n",
       "    </tr>\n",
       "    <tr>\n",
       "      <th>2015</th>\n",
       "      <td>13273</td>\n",
       "      <td>13452</td>\n",
       "      <td>11586</td>\n",
       "      <td>10624</td>\n",
       "      <td>13512</td>\n",
       "      <td>13381</td>\n",
       "      <td>13320</td>\n",
       "    </tr>\n",
       "    <tr>\n",
       "      <th>2016</th>\n",
       "      <td>14059</td>\n",
       "      <td>13708</td>\n",
       "      <td>11467</td>\n",
       "      <td>10554</td>\n",
       "      <td>14050</td>\n",
       "      <td>13338</td>\n",
       "      <td>13900</td>\n",
       "    </tr>\n",
       "    <tr>\n",
       "      <th>2017</th>\n",
       "      <td>10677</td>\n",
       "      <td>10638</td>\n",
       "      <td>8514</td>\n",
       "      <td>8124</td>\n",
       "      <td>10545</td>\n",
       "      <td>10628</td>\n",
       "      <td>10576</td>\n",
       "    </tr>\n",
       "  </tbody>\n",
       "</table>\n",
       "</div>"
      ],
      "text/plain": [
       "day   Friday  Monday  Saturday  Sunday  Thursday  Tuesday  Wednesday\n",
       "year                                                                \n",
       "2012    8549    8786      7442    7189      8440     8191       8440\n",
       "2013   10380   10627      8875    8444     10431    10416      10354\n",
       "2014   12683   12813     10950   10278     12309    12440      12948\n",
       "2015   13273   13452     11586   10624     13512    13381      13320\n",
       "2016   14059   13708     11467   10554     14050    13338      13900\n",
       "2017   10677   10638      8514    8124     10545    10628      10576"
      ]
     },
     "execution_count": 123,
     "metadata": {},
     "output_type": "execute_result"
    }
   ],
   "source": [
    "(\n",
    "  crime.groupby(\n",
    "    [\n",
    "      crime[\"REPORTED_DATE\"].dt.year.rename(\"year\"),\n",
    "      crime[\"REPORTED_DATE\"].dt.day_name().rename(\"day\"),\n",
    "    ]\n",
    "  )\n",
    "  .size()\n",
    "  .unstack(\"day\")\n",
    ")"
   ]
  },
  {
   "cell_type": "code",
   "execution_count": 124,
   "metadata": {},
   "outputs": [
    {
     "data": {
      "text/html": [
       "<div>\n",
       "<style scoped>\n",
       "    .dataframe tbody tr th:only-of-type {\n",
       "        vertical-align: middle;\n",
       "    }\n",
       "\n",
       "    .dataframe tbody tr th {\n",
       "        vertical-align: top;\n",
       "    }\n",
       "\n",
       "    .dataframe thead th {\n",
       "        text-align: right;\n",
       "    }\n",
       "</style>\n",
       "<table border=\"1\" class=\"dataframe\">\n",
       "  <thead>\n",
       "    <tr style=\"text-align: right;\">\n",
       "      <th>day</th>\n",
       "      <th>Friday</th>\n",
       "      <th>Monday</th>\n",
       "      <th>Saturday</th>\n",
       "      <th>Sunday</th>\n",
       "      <th>Thursday</th>\n",
       "      <th>Tuesday</th>\n",
       "      <th>Wednesday</th>\n",
       "    </tr>\n",
       "    <tr>\n",
       "      <th>year</th>\n",
       "      <th></th>\n",
       "      <th></th>\n",
       "      <th></th>\n",
       "      <th></th>\n",
       "      <th></th>\n",
       "      <th></th>\n",
       "      <th></th>\n",
       "    </tr>\n",
       "  </thead>\n",
       "  <tbody>\n",
       "    <tr>\n",
       "      <th>2012</th>\n",
       "      <td>8549</td>\n",
       "      <td>8786</td>\n",
       "      <td>7442</td>\n",
       "      <td>7189</td>\n",
       "      <td>8440</td>\n",
       "      <td>8191</td>\n",
       "      <td>8440</td>\n",
       "    </tr>\n",
       "    <tr>\n",
       "      <th>2013</th>\n",
       "      <td>10380</td>\n",
       "      <td>10627</td>\n",
       "      <td>8875</td>\n",
       "      <td>8444</td>\n",
       "      <td>10431</td>\n",
       "      <td>10416</td>\n",
       "      <td>10354</td>\n",
       "    </tr>\n",
       "    <tr>\n",
       "      <th>2014</th>\n",
       "      <td>12683</td>\n",
       "      <td>12813</td>\n",
       "      <td>10950</td>\n",
       "      <td>10278</td>\n",
       "      <td>12309</td>\n",
       "      <td>12440</td>\n",
       "      <td>12948</td>\n",
       "    </tr>\n",
       "    <tr>\n",
       "      <th>2015</th>\n",
       "      <td>13273</td>\n",
       "      <td>13452</td>\n",
       "      <td>11586</td>\n",
       "      <td>10624</td>\n",
       "      <td>13512</td>\n",
       "      <td>13381</td>\n",
       "      <td>13320</td>\n",
       "    </tr>\n",
       "    <tr>\n",
       "      <th>2016</th>\n",
       "      <td>14059</td>\n",
       "      <td>13708</td>\n",
       "      <td>11467</td>\n",
       "      <td>10554</td>\n",
       "      <td>14050</td>\n",
       "      <td>13338</td>\n",
       "      <td>13900</td>\n",
       "    </tr>\n",
       "    <tr>\n",
       "      <th>2017</th>\n",
       "      <td>10677</td>\n",
       "      <td>10638</td>\n",
       "      <td>8514</td>\n",
       "      <td>8124</td>\n",
       "      <td>10545</td>\n",
       "      <td>10628</td>\n",
       "      <td>10576</td>\n",
       "    </tr>\n",
       "  </tbody>\n",
       "</table>\n",
       "</div>"
      ],
      "text/plain": [
       "day   Friday  Monday  Saturday  Sunday  Thursday  Tuesday  Wednesday\n",
       "year                                                                \n",
       "2012    8549    8786      7442    7189      8440     8191       8440\n",
       "2013   10380   10627      8875    8444     10431    10416      10354\n",
       "2014   12683   12813     10950   10278     12309    12440      12948\n",
       "2015   13273   13452     11586   10624     13512    13381      13320\n",
       "2016   14059   13708     11467   10554     14050    13338      13900\n",
       "2017   10677   10638      8514    8124     10545    10628      10576"
      ]
     },
     "execution_count": 124,
     "metadata": {},
     "output_type": "execute_result"
    }
   ],
   "source": [
    "(\n",
    "  crime.assign(\n",
    "    year=crime.REPORTED_DATE.dt.year, day=crime.REPORTED_DATE.dt.day_name()\n",
    "  ).pipe(lambda df_: pd.crosstab(df_.year, df_.day))\n",
    ")"
   ]
  },
  {
   "cell_type": "code",
   "execution_count": 125,
   "metadata": {
    "lines_to_next_cell": 2
   },
   "outputs": [
    {
     "data": {
      "text/plain": [
       "272"
      ]
     },
     "execution_count": 125,
     "metadata": {},
     "output_type": "execute_result"
    }
   ],
   "source": [
    "criteria = crime[\"REPORTED_DATE\"].dt.year == 2017\n",
    "crime.loc[criteria, \"REPORTED_DATE\"].dt.dayofyear.max()"
   ]
  },
  {
   "cell_type": "code",
   "execution_count": 126,
   "metadata": {
    "lines_to_next_cell": 2
   },
   "outputs": [
    {
     "data": {
      "text/plain": [
       "REPORTED_DATE\n",
       "2012    0.748\n",
       "2013    0.725\n",
       "2014    0.751\n",
       "2015    0.748\n",
       "2016    0.752\n",
       "2017    1.000\n",
       "Name: REPORTED_DATE, dtype: float64"
      ]
     },
     "execution_count": 126,
     "metadata": {},
     "output_type": "execute_result"
    }
   ],
   "source": [
    "crime_pct = (\n",
    "  crime[\"REPORTED_DATE\"]\n",
    "  .dt.dayofyear.le(272)\n",
    "  .groupby(crime.REPORTED_DATE.dt.year)\n",
    "  .mean()\n",
    "  .round(3)\n",
    ")\n",
    "\n",
    "crime_pct"
   ]
  },
  {
   "cell_type": "code",
   "execution_count": 127,
   "metadata": {},
   "outputs": [
    {
     "data": {
      "text/plain": [
       "0.748"
      ]
     },
     "execution_count": 127,
     "metadata": {},
     "output_type": "execute_result"
    }
   ],
   "source": [
    "crime_pct.loc[2012:2016].median()"
   ]
  },
  {
   "cell_type": "code",
   "execution_count": 128,
   "metadata": {
    "lines_to_next_cell": 2
   },
   "outputs": [
    {
     "data": {
      "text/html": [
       "<div>\n",
       "<style scoped>\n",
       "    .dataframe tbody tr th:only-of-type {\n",
       "        vertical-align: middle;\n",
       "    }\n",
       "\n",
       "    .dataframe tbody tr th {\n",
       "        vertical-align: top;\n",
       "    }\n",
       "\n",
       "    .dataframe thead th {\n",
       "        text-align: right;\n",
       "    }\n",
       "</style>\n",
       "<table border=\"1\" class=\"dataframe\">\n",
       "  <thead>\n",
       "    <tr style=\"text-align: right;\">\n",
       "      <th>day</th>\n",
       "      <th>Monday</th>\n",
       "      <th>Tuesday</th>\n",
       "      <th>Wednesday</th>\n",
       "      <th>Thursday</th>\n",
       "      <th>Friday</th>\n",
       "      <th>Saturday</th>\n",
       "      <th>Sunday</th>\n",
       "    </tr>\n",
       "    <tr>\n",
       "      <th>year</th>\n",
       "      <th></th>\n",
       "      <th></th>\n",
       "      <th></th>\n",
       "      <th></th>\n",
       "      <th></th>\n",
       "      <th></th>\n",
       "      <th></th>\n",
       "    </tr>\n",
       "  </thead>\n",
       "  <tbody>\n",
       "    <tr>\n",
       "      <th>2012</th>\n",
       "      <td>8786</td>\n",
       "      <td>8191</td>\n",
       "      <td>8440</td>\n",
       "      <td>8440</td>\n",
       "      <td>8549</td>\n",
       "      <td>7442</td>\n",
       "      <td>7189</td>\n",
       "    </tr>\n",
       "    <tr>\n",
       "      <th>2013</th>\n",
       "      <td>10627</td>\n",
       "      <td>10416</td>\n",
       "      <td>10354</td>\n",
       "      <td>10431</td>\n",
       "      <td>10380</td>\n",
       "      <td>8875</td>\n",
       "      <td>8444</td>\n",
       "    </tr>\n",
       "    <tr>\n",
       "      <th>2014</th>\n",
       "      <td>12813</td>\n",
       "      <td>12440</td>\n",
       "      <td>12948</td>\n",
       "      <td>12309</td>\n",
       "      <td>12683</td>\n",
       "      <td>10950</td>\n",
       "      <td>10278</td>\n",
       "    </tr>\n",
       "    <tr>\n",
       "      <th>2015</th>\n",
       "      <td>13452</td>\n",
       "      <td>13381</td>\n",
       "      <td>13320</td>\n",
       "      <td>13512</td>\n",
       "      <td>13273</td>\n",
       "      <td>11586</td>\n",
       "      <td>10624</td>\n",
       "    </tr>\n",
       "    <tr>\n",
       "      <th>2016</th>\n",
       "      <td>13708</td>\n",
       "      <td>13338</td>\n",
       "      <td>13900</td>\n",
       "      <td>14050</td>\n",
       "      <td>14059</td>\n",
       "      <td>11467</td>\n",
       "      <td>10554</td>\n",
       "    </tr>\n",
       "    <tr>\n",
       "      <th>2017</th>\n",
       "      <td>14221</td>\n",
       "      <td>14208</td>\n",
       "      <td>14139</td>\n",
       "      <td>14097</td>\n",
       "      <td>14274</td>\n",
       "      <td>11382</td>\n",
       "      <td>10860</td>\n",
       "    </tr>\n",
       "  </tbody>\n",
       "</table>\n",
       "</div>"
      ],
      "text/plain": [
       "day   Monday  Tuesday  Wednesday  Thursday  Friday  Saturday  Sunday\n",
       "year                                                                \n",
       "2012    8786     8191       8440      8440    8549      7442    7189\n",
       "2013   10627    10416      10354     10431   10380      8875    8444\n",
       "2014   12813    12440      12948     12309   12683     10950   10278\n",
       "2015   13452    13381      13320     13512   13273     11586   10624\n",
       "2016   13708    13338      13900     14050   14059     11467   10554\n",
       "2017   14221    14208      14139     14097   14274     11382   10860"
      ]
     },
     "execution_count": 128,
     "metadata": {},
     "output_type": "execute_result"
    }
   ],
   "source": [
    "def update_2017(df_):\n",
    "  df_.loc[2017] = df_.loc[2017].div(0.748).astype(\"int\")\n",
    "  return df_\n",
    "\n",
    "\n",
    "(\n",
    "  crime.groupby(\n",
    "    [\n",
    "      crime[\"REPORTED_DATE\"].dt.year.rename(\"year\"),\n",
    "      crime[\"REPORTED_DATE\"].dt.day_name().rename(\"day\"),\n",
    "    ]\n",
    "  )\n",
    "  .size()\n",
    "  .unstack(\"day\")\n",
    "  .pipe(update_2017)\n",
    "  .reindex(columns=days)\n",
    ")"
   ]
  },
  {
   "cell_type": "code",
   "execution_count": 129,
   "metadata": {
    "lines_to_next_cell": 2
   },
   "outputs": [
    {
     "data": {
      "text/plain": [
       "<AxesSubplot:xlabel='day', ylabel='year'>"
      ]
     },
     "execution_count": 129,
     "metadata": {},
     "output_type": "execute_result"
    },
    {
     "data": {
      "image/png": "[encoded data removed]",
      "text/plain": [
       "<Figure size 432x288 with 2 Axes>"
      ]
     },
     "metadata": {
      "needs_background": "light"
     },
     "output_type": "display_data"
    }
   ],
   "source": [
    "import seaborn as sns\n",
    "\n",
    "fig, ax = plt.subplots(figsize=(6, 4))\n",
    "table = (\n",
    "  crime.groupby(\n",
    "    [\n",
    "      crime[\"REPORTED_DATE\"].dt.year.rename(\"year\"),\n",
    "      crime[\"REPORTED_DATE\"].dt.day_name().rename(\"day\"),\n",
    "    ]\n",
    "  )\n",
    "  .size()\n",
    "  .unstack(\"day\")\n",
    "  .pipe(update_2017)\n",
    "  .reindex(columns=days)\n",
    ")\n",
    "sns.heatmap(table, cmap=\"Greys\", ax=ax)"
   ]
  },
  {
   "cell_type": "code",
   "execution_count": 135,
   "metadata": {
    "lines_to_next_cell": 2
   },
   "outputs": [
    {
     "data": {
      "text/html": [
       "<div>\n",
       "<style scoped>\n",
       "    .dataframe tbody tr th:only-of-type {\n",
       "        vertical-align: middle;\n",
       "    }\n",
       "\n",
       "    .dataframe tbody tr th {\n",
       "        vertical-align: top;\n",
       "    }\n",
       "\n",
       "    .dataframe thead th {\n",
       "        text-align: right;\n",
       "    }\n",
       "</style>\n",
       "<table border=\"1\" class=\"dataframe\">\n",
       "  <thead>\n",
       "    <tr style=\"text-align: right;\">\n",
       "      <th></th>\n",
       "      <th>Population</th>\n",
       "    </tr>\n",
       "    <tr>\n",
       "      <th>Year</th>\n",
       "      <th></th>\n",
       "    </tr>\n",
       "  </thead>\n",
       "  <tbody>\n",
       "    <tr>\n",
       "      <th>2017</th>\n",
       "      <td>705000</td>\n",
       "    </tr>\n",
       "    <tr>\n",
       "      <th>2016</th>\n",
       "      <td>693000</td>\n",
       "    </tr>\n",
       "    <tr>\n",
       "      <th>2015</th>\n",
       "      <td>680000</td>\n",
       "    </tr>\n",
       "    <tr>\n",
       "      <th>2014</th>\n",
       "      <td>662000</td>\n",
       "    </tr>\n",
       "    <tr>\n",
       "      <th>2013</th>\n",
       "      <td>647000</td>\n",
       "    </tr>\n",
       "    <tr>\n",
       "      <th>2012</th>\n",
       "      <td>634000</td>\n",
       "    </tr>\n",
       "  </tbody>\n",
       "</table>\n",
       "</div>"
      ],
      "text/plain": [
       "      Population\n",
       "Year            \n",
       "2017      705000\n",
       "2016      693000\n",
       "2015      680000\n",
       "2014      662000\n",
       "2013      647000\n",
       "2012      634000"
      ]
     },
     "execution_count": 135,
     "metadata": {},
     "output_type": "execute_result"
    }
   ],
   "source": [
    "denver_pop = pd.read_csv(\"data/denver_pop.csv\", index_col=\"Year\")\n",
    "denver_pop"
   ]
  },
  {
   "cell_type": "code",
   "execution_count": 136,
   "metadata": {},
   "outputs": [
    {
     "data": {
      "text/plain": [
       "Year\n",
       "2017    7.05\n",
       "2016    6.93\n",
       "2015    6.80\n",
       "2014    6.62\n",
       "2013    6.47\n",
       "2012    6.34\n",
       "Name: Population, dtype: float64"
      ]
     },
     "execution_count": 136,
     "metadata": {},
     "output_type": "execute_result"
    }
   ],
   "source": [
    "den_100k = denver_pop.div(100_000).squeeze()\n",
    "den_100k"
   ]
  },
  {
   "cell_type": "code",
   "execution_count": 137,
   "metadata": {},
   "outputs": [
    {
     "data": {
      "text/html": [
       "<div>\n",
       "<style scoped>\n",
       "    .dataframe tbody tr th:only-of-type {\n",
       "        vertical-align: middle;\n",
       "    }\n",
       "\n",
       "    .dataframe tbody tr th {\n",
       "        vertical-align: top;\n",
       "    }\n",
       "\n",
       "    .dataframe thead th {\n",
       "        text-align: right;\n",
       "    }\n",
       "</style>\n",
       "<table border=\"1\" class=\"dataframe\">\n",
       "  <thead>\n",
       "    <tr style=\"text-align: right;\">\n",
       "      <th></th>\n",
       "      <th>2012</th>\n",
       "      <th>2013</th>\n",
       "      <th>2014</th>\n",
       "      <th>2015</th>\n",
       "      <th>2016</th>\n",
       "      <th>2017</th>\n",
       "      <th>Friday</th>\n",
       "      <th>Monday</th>\n",
       "      <th>Saturday</th>\n",
       "      <th>Sunday</th>\n",
       "      <th>Thursday</th>\n",
       "      <th>Tuesday</th>\n",
       "      <th>Wednesday</th>\n",
       "    </tr>\n",
       "    <tr>\n",
       "      <th>year</th>\n",
       "      <th></th>\n",
       "      <th></th>\n",
       "      <th></th>\n",
       "      <th></th>\n",
       "      <th></th>\n",
       "      <th></th>\n",
       "      <th></th>\n",
       "      <th></th>\n",
       "      <th></th>\n",
       "      <th></th>\n",
       "      <th></th>\n",
       "      <th></th>\n",
       "      <th></th>\n",
       "    </tr>\n",
       "  </thead>\n",
       "  <tbody>\n",
       "    <tr>\n",
       "      <th>2012</th>\n",
       "      <td>NaN</td>\n",
       "      <td>NaN</td>\n",
       "      <td>NaN</td>\n",
       "      <td>NaN</td>\n",
       "      <td>NaN</td>\n",
       "      <td>NaN</td>\n",
       "      <td>NaN</td>\n",
       "      <td>NaN</td>\n",
       "      <td>NaN</td>\n",
       "      <td>NaN</td>\n",
       "      <td>NaN</td>\n",
       "      <td>NaN</td>\n",
       "      <td>NaN</td>\n",
       "    </tr>\n",
       "    <tr>\n",
       "      <th>2013</th>\n",
       "      <td>NaN</td>\n",
       "      <td>NaN</td>\n",
       "      <td>NaN</td>\n",
       "      <td>NaN</td>\n",
       "      <td>NaN</td>\n",
       "      <td>NaN</td>\n",
       "      <td>NaN</td>\n",
       "      <td>NaN</td>\n",
       "      <td>NaN</td>\n",
       "      <td>NaN</td>\n",
       "      <td>NaN</td>\n",
       "      <td>NaN</td>\n",
       "      <td>NaN</td>\n",
       "    </tr>\n",
       "    <tr>\n",
       "      <th>2014</th>\n",
       "      <td>NaN</td>\n",
       "      <td>NaN</td>\n",
       "      <td>NaN</td>\n",
       "      <td>NaN</td>\n",
       "      <td>NaN</td>\n",
       "      <td>NaN</td>\n",
       "      <td>NaN</td>\n",
       "      <td>NaN</td>\n",
       "      <td>NaN</td>\n",
       "      <td>NaN</td>\n",
       "      <td>NaN</td>\n",
       "      <td>NaN</td>\n",
       "      <td>NaN</td>\n",
       "    </tr>\n",
       "    <tr>\n",
       "      <th>2015</th>\n",
       "      <td>NaN</td>\n",
       "      <td>NaN</td>\n",
       "      <td>NaN</td>\n",
       "      <td>NaN</td>\n",
       "      <td>NaN</td>\n",
       "      <td>NaN</td>\n",
       "      <td>NaN</td>\n",
       "      <td>NaN</td>\n",
       "      <td>NaN</td>\n",
       "      <td>NaN</td>\n",
       "      <td>NaN</td>\n",
       "      <td>NaN</td>\n",
       "      <td>NaN</td>\n",
       "    </tr>\n",
       "    <tr>\n",
       "      <th>2016</th>\n",
       "      <td>NaN</td>\n",
       "      <td>NaN</td>\n",
       "      <td>NaN</td>\n",
       "      <td>NaN</td>\n",
       "      <td>NaN</td>\n",
       "      <td>NaN</td>\n",
       "      <td>NaN</td>\n",
       "      <td>NaN</td>\n",
       "      <td>NaN</td>\n",
       "      <td>NaN</td>\n",
       "      <td>NaN</td>\n",
       "      <td>NaN</td>\n",
       "      <td>NaN</td>\n",
       "    </tr>\n",
       "    <tr>\n",
       "      <th>2017</th>\n",
       "      <td>NaN</td>\n",
       "      <td>NaN</td>\n",
       "      <td>NaN</td>\n",
       "      <td>NaN</td>\n",
       "      <td>NaN</td>\n",
       "      <td>NaN</td>\n",
       "      <td>NaN</td>\n",
       "      <td>NaN</td>\n",
       "      <td>NaN</td>\n",
       "      <td>NaN</td>\n",
       "      <td>NaN</td>\n",
       "      <td>NaN</td>\n",
       "      <td>NaN</td>\n",
       "    </tr>\n",
       "  </tbody>\n",
       "</table>\n",
       "</div>"
      ],
      "text/plain": [
       "      2012  2013  2014  2015  2016  2017  Friday  Monday  Saturday  Sunday  \\\n",
       "year                                                                         \n",
       "2012   NaN   NaN   NaN   NaN   NaN   NaN     NaN     NaN       NaN     NaN   \n",
       "2013   NaN   NaN   NaN   NaN   NaN   NaN     NaN     NaN       NaN     NaN   \n",
       "2014   NaN   NaN   NaN   NaN   NaN   NaN     NaN     NaN       NaN     NaN   \n",
       "2015   NaN   NaN   NaN   NaN   NaN   NaN     NaN     NaN       NaN     NaN   \n",
       "2016   NaN   NaN   NaN   NaN   NaN   NaN     NaN     NaN       NaN     NaN   \n",
       "2017   NaN   NaN   NaN   NaN   NaN   NaN     NaN     NaN       NaN     NaN   \n",
       "\n",
       "      Thursday  Tuesday  Wednesday  \n",
       "year                                \n",
       "2012       NaN      NaN        NaN  \n",
       "2013       NaN      NaN        NaN  \n",
       "2014       NaN      NaN        NaN  \n",
       "2015       NaN      NaN        NaN  \n",
       "2016       NaN      NaN        NaN  \n",
       "2017       NaN      NaN        NaN  "
      ]
     },
     "execution_count": 137,
     "metadata": {},
     "output_type": "execute_result"
    }
   ],
   "source": [
    "(\n",
    "  crime.groupby(\n",
    "    [\n",
    "      crime[\"REPORTED_DATE\"].dt.year.rename(\"year\"),\n",
    "      crime[\"REPORTED_DATE\"].dt.day_name().rename(\"day\"),\n",
    "    ]\n",
    "  )\n",
    "  .size()\n",
    "  .unstack(\"day\")\n",
    "  .pipe(update_2017)\n",
    "  .reindex(columns=days)\n",
    ") / den_100k"
   ]
  },
  {
   "cell_type": "code",
   "execution_count": 138,
   "metadata": {
    "lines_to_next_cell": 2
   },
   "outputs": [
    {
     "data": {
      "text/html": [
       "<div>\n",
       "<style scoped>\n",
       "    .dataframe tbody tr th:only-of-type {\n",
       "        vertical-align: middle;\n",
       "    }\n",
       "\n",
       "    .dataframe tbody tr th {\n",
       "        vertical-align: top;\n",
       "    }\n",
       "\n",
       "    .dataframe thead th {\n",
       "        text-align: right;\n",
       "    }\n",
       "</style>\n",
       "<table border=\"1\" class=\"dataframe\">\n",
       "  <thead>\n",
       "    <tr style=\"text-align: right;\">\n",
       "      <th>day</th>\n",
       "      <th>Monday</th>\n",
       "      <th>Tuesday</th>\n",
       "      <th>Wednesday</th>\n",
       "      <th>Thursday</th>\n",
       "      <th>Friday</th>\n",
       "      <th>Saturday</th>\n",
       "      <th>Sunday</th>\n",
       "    </tr>\n",
       "  </thead>\n",
       "  <tbody>\n",
       "    <tr>\n",
       "      <th>2012</th>\n",
       "      <td>1385</td>\n",
       "      <td>1291</td>\n",
       "      <td>1331</td>\n",
       "      <td>1331</td>\n",
       "      <td>1348</td>\n",
       "      <td>1173</td>\n",
       "      <td>1133</td>\n",
       "    </tr>\n",
       "    <tr>\n",
       "      <th>2013</th>\n",
       "      <td>1642</td>\n",
       "      <td>1609</td>\n",
       "      <td>1600</td>\n",
       "      <td>1612</td>\n",
       "      <td>1604</td>\n",
       "      <td>1371</td>\n",
       "      <td>1305</td>\n",
       "    </tr>\n",
       "    <tr>\n",
       "      <th>2014</th>\n",
       "      <td>1935</td>\n",
       "      <td>1879</td>\n",
       "      <td>1955</td>\n",
       "      <td>1859</td>\n",
       "      <td>1915</td>\n",
       "      <td>1654</td>\n",
       "      <td>1552</td>\n",
       "    </tr>\n",
       "    <tr>\n",
       "      <th>2015</th>\n",
       "      <td>1978</td>\n",
       "      <td>1967</td>\n",
       "      <td>1958</td>\n",
       "      <td>1987</td>\n",
       "      <td>1951</td>\n",
       "      <td>1703</td>\n",
       "      <td>1562</td>\n",
       "    </tr>\n",
       "    <tr>\n",
       "      <th>2016</th>\n",
       "      <td>1978</td>\n",
       "      <td>1924</td>\n",
       "      <td>2005</td>\n",
       "      <td>2027</td>\n",
       "      <td>2028</td>\n",
       "      <td>1654</td>\n",
       "      <td>1522</td>\n",
       "    </tr>\n",
       "    <tr>\n",
       "      <th>2017</th>\n",
       "      <td>2017</td>\n",
       "      <td>2015</td>\n",
       "      <td>2005</td>\n",
       "      <td>1999</td>\n",
       "      <td>2024</td>\n",
       "      <td>1614</td>\n",
       "      <td>1540</td>\n",
       "    </tr>\n",
       "  </tbody>\n",
       "</table>\n",
       "</div>"
      ],
      "text/plain": [
       "day   Monday  Tuesday  Wednesday  Thursday  Friday  Saturday  Sunday\n",
       "2012    1385     1291       1331      1331    1348      1173    1133\n",
       "2013    1642     1609       1600      1612    1604      1371    1305\n",
       "2014    1935     1879       1955      1859    1915      1654    1552\n",
       "2015    1978     1967       1958      1987    1951      1703    1562\n",
       "2016    1978     1924       2005      2027    2028      1654    1522\n",
       "2017    2017     2015       2005      1999    2024      1614    1540"
      ]
     },
     "execution_count": 138,
     "metadata": {},
     "output_type": "execute_result"
    }
   ],
   "source": [
    "den_100k = denver_pop.div(100_000).squeeze()\n",
    "normalized = (\n",
    "  crime.groupby(\n",
    "    [\n",
    "      crime[\"REPORTED_DATE\"].dt.year.rename(\"year\"),\n",
    "      crime[\"REPORTED_DATE\"].dt.day_name().rename(\"day\"),\n",
    "    ]\n",
    "  )\n",
    "  .size()\n",
    "  .unstack(\"day\")\n",
    "  .pipe(update_2017)\n",
    "  .reindex(columns=days)\n",
    "  .div(den_100k, axis=\"index\")\n",
    "  .astype(int)\n",
    ")\n",
    "normalized"
   ]
  },
  {
   "cell_type": "code",
   "execution_count": 139,
   "metadata": {
    "lines_to_next_cell": 2
   },
   "outputs": [
    {
     "data": {
      "text/plain": [
       "<AxesSubplot:xlabel='day'>"
      ]
     },
     "execution_count": 139,
     "metadata": {},
     "output_type": "execute_result"
    },
    {
     "data": {
      "image/png": "[encoded data removed]",
      "text/plain": [
       "<Figure size 432x288 with 2 Axes>"
      ]
     },
     "metadata": {
      "needs_background": "light"
     },
     "output_type": "display_data"
    }
   ],
   "source": [
    "import seaborn as sns\n",
    "\n",
    "fig, ax = plt.subplots(figsize=(6, 4))\n",
    "sns.heatmap(normalized, cmap=\"Greys\", ax=ax)"
   ]
  },
  {
   "cell_type": "code",
   "execution_count": 140,
   "metadata": {
    "lines_to_next_cell": 2
   },
   "outputs": [
    {
     "data": {
      "text/html": [
       "<div>\n",
       "<style scoped>\n",
       "    .dataframe tbody tr th:only-of-type {\n",
       "        vertical-align: middle;\n",
       "    }\n",
       "\n",
       "    .dataframe tbody tr th {\n",
       "        vertical-align: top;\n",
       "    }\n",
       "\n",
       "    .dataframe thead th {\n",
       "        text-align: right;\n",
       "    }\n",
       "</style>\n",
       "<table border=\"1\" class=\"dataframe\">\n",
       "  <thead>\n",
       "    <tr style=\"text-align: right;\">\n",
       "      <th>day</th>\n",
       "      <th>Monday</th>\n",
       "      <th>Tuesday</th>\n",
       "      <th>Wednesday</th>\n",
       "      <th>Thursday</th>\n",
       "      <th>Friday</th>\n",
       "      <th>Saturday</th>\n",
       "      <th>Sunday</th>\n",
       "    </tr>\n",
       "  </thead>\n",
       "  <tbody>\n",
       "    <tr>\n",
       "      <th>2012</th>\n",
       "      <td>95</td>\n",
       "      <td>72</td>\n",
       "      <td>72</td>\n",
       "      <td>76</td>\n",
       "      <td>71</td>\n",
       "      <td>78</td>\n",
       "      <td>76</td>\n",
       "    </tr>\n",
       "    <tr>\n",
       "      <th>2013</th>\n",
       "      <td>85</td>\n",
       "      <td>74</td>\n",
       "      <td>74</td>\n",
       "      <td>69</td>\n",
       "      <td>65</td>\n",
       "      <td>68</td>\n",
       "      <td>67</td>\n",
       "    </tr>\n",
       "    <tr>\n",
       "      <th>2014</th>\n",
       "      <td>94</td>\n",
       "      <td>76</td>\n",
       "      <td>72</td>\n",
       "      <td>70</td>\n",
       "      <td>76</td>\n",
       "      <td>67</td>\n",
       "      <td>67</td>\n",
       "    </tr>\n",
       "    <tr>\n",
       "      <th>2015</th>\n",
       "      <td>108</td>\n",
       "      <td>102</td>\n",
       "      <td>89</td>\n",
       "      <td>101</td>\n",
       "      <td>92</td>\n",
       "      <td>85</td>\n",
       "      <td>78</td>\n",
       "    </tr>\n",
       "    <tr>\n",
       "      <th>2016</th>\n",
       "      <td>119</td>\n",
       "      <td>102</td>\n",
       "      <td>100</td>\n",
       "      <td>99</td>\n",
       "      <td>97</td>\n",
       "      <td>86</td>\n",
       "      <td>85</td>\n",
       "    </tr>\n",
       "    <tr>\n",
       "      <th>2017</th>\n",
       "      <td>114</td>\n",
       "      <td>118</td>\n",
       "      <td>111</td>\n",
       "      <td>106</td>\n",
       "      <td>111</td>\n",
       "      <td>91</td>\n",
       "      <td>102</td>\n",
       "    </tr>\n",
       "  </tbody>\n",
       "</table>\n",
       "</div>"
      ],
      "text/plain": [
       "day   Monday  Tuesday  Wednesday  Thursday  Friday  Saturday  Sunday\n",
       "2012      95       72         72        76      71        78      76\n",
       "2013      85       74         74        69      65        68      67\n",
       "2014      94       76         72        70      76        67      67\n",
       "2015     108      102         89       101      92        85      78\n",
       "2016     119      102        100        99      97        86      85\n",
       "2017     114      118        111       106     111        91     102"
      ]
     },
     "execution_count": 140,
     "metadata": {},
     "output_type": "execute_result"
    }
   ],
   "source": [
    "days = [\"Monday\", \"Tuesday\", \"Wednesday\", \"Thursday\", \"Friday\", \"Saturday\", \"Sunday\"]\n",
    "crime_type = \"auto-theft\"\n",
    "normalized = (\n",
    "  crime.query(\"OFFENSE_CATEGORY_ID == @crime_type\")\n",
    "  .groupby(\n",
    "    [\n",
    "      crime[\"REPORTED_DATE\"].dt.year.rename(\"year\"),\n",
    "      crime[\"REPORTED_DATE\"].dt.day_name().rename(\"day\"),\n",
    "    ]\n",
    "  )\n",
    "  .size()\n",
    "  .unstack(\"day\")\n",
    "  .pipe(update_2017)\n",
    "  .reindex(columns=days)\n",
    "  .div(den_100k, axis=\"index\")\n",
    "  .astype(int)\n",
    ")\n",
    "normalized"
   ]
  },
  {
   "cell_type": "markdown",
   "metadata": {},
   "source": [
    "## 11.8 使用匿名函式來分組"
   ]
  },
  {
   "cell_type": "code",
   "execution_count": 141,
   "metadata": {
    "lines_to_next_cell": 2
   },
   "outputs": [],
   "source": [
    "crime = pd.read_hdf(\"data/crime.h5\", \"crime\").set_index(\"REPORTED_DATE\").sort_index()"
   ]
  },
  {
   "cell_type": "code",
   "execution_count": 142,
   "metadata": {
    "lines_to_next_cell": 2
   },
   "outputs": [
    {
     "data": {
      "text/plain": [
       "['day_name',\n",
       " 'max',\n",
       " 'normalize',\n",
       " 'tz_localize',\n",
       " 'to_julian_date',\n",
       " 'day_of_week',\n",
       " 'is_month_start',\n",
       " 'resolution',\n",
       " 'ceil',\n",
       " 'floor',\n",
       " 'to_period',\n",
       " 'daysinmonth',\n",
       " 'month_name',\n",
       " 'is_quarter_start',\n",
       " 'quarter',\n",
       " 'microsecond',\n",
       " 'weekofyear',\n",
       " 'tz',\n",
       " 'month',\n",
       " 'tz_convert',\n",
       " 'timetz',\n",
       " 'weekday',\n",
       " 'days_in_month',\n",
       " 'time',\n",
       " 'nanosecond',\n",
       " 'min',\n",
       " 'is_quarter_end',\n",
       " 'dayofyear',\n",
       " 'day_of_year',\n",
       " 'year',\n",
       " 'day',\n",
       " 'to_numpy',\n",
       " 'round',\n",
       " 'hour',\n",
       " 'isocalendar',\n",
       " 'is_month_end',\n",
       " 'minute',\n",
       " 'dayofweek',\n",
       " 'to_pydatetime',\n",
       " 'week',\n",
       " 'is_year_end',\n",
       " 'is_year_start',\n",
       " 'tzinfo',\n",
       " 'freq',\n",
       " 'second',\n",
       " 'strftime',\n",
       " 'date',\n",
       " 'freqstr',\n",
       " 'is_leap_year']"
      ]
     },
     "execution_count": 142,
     "metadata": {},
     "output_type": "execute_result"
    }
   ],
   "source": [
    "common_attrs = set(dir(crime.index)) & set(dir(pd.Timestamp))\n",
    "[attr for attr in common_attrs if attr[0] != \"_\"]"
   ]
  },
  {
   "cell_type": "code",
   "execution_count": 143,
   "metadata": {
    "lines_to_next_cell": 2
   },
   "outputs": [
    {
     "data": {
      "text/plain": [
       "Monday       70024\n",
       "Friday       69621\n",
       "Wednesday    69538\n",
       "Thursday     69287\n",
       "Tuesday      68394\n",
       "Saturday     58834\n",
       "Sunday       55213\n",
       "Name: REPORTED_DATE, dtype: int64"
      ]
     },
     "execution_count": 143,
     "metadata": {},
     "output_type": "execute_result"
    }
   ],
   "source": [
    "crime.index.day_name().value_counts()"
   ]
  },
  {
   "cell_type": "code",
   "execution_count": 144,
   "metadata": {
    "lines_to_next_cell": 2
   },
   "outputs": [
    {
     "name": "stderr",
     "output_type": "stream",
     "text": [
      "C:\\Users\\aaronhsu\\AppData\\Local\\Temp\\ipykernel_24768\\2092093496.py:1: FutureWarning: Indexing with multiple keys (implicitly converted to a tuple of keys) will be deprecated, use a list instead.\n",
      "  (crime\n"
     ]
    },
    {
     "data": {
      "text/html": [
       "<div>\n",
       "<style scoped>\n",
       "    .dataframe tbody tr th:only-of-type {\n",
       "        vertical-align: middle;\n",
       "    }\n",
       "\n",
       "    .dataframe tbody tr th {\n",
       "        vertical-align: top;\n",
       "    }\n",
       "\n",
       "    .dataframe thead th {\n",
       "        text-align: right;\n",
       "    }\n",
       "</style>\n",
       "<table border=\"1\" class=\"dataframe\">\n",
       "  <thead>\n",
       "    <tr style=\"text-align: right;\">\n",
       "      <th></th>\n",
       "      <th>IS_CRIME</th>\n",
       "      <th>IS_TRAFFIC</th>\n",
       "    </tr>\n",
       "    <tr>\n",
       "      <th>REPORTED_DATE</th>\n",
       "      <th></th>\n",
       "      <th></th>\n",
       "    </tr>\n",
       "  </thead>\n",
       "  <tbody>\n",
       "    <tr>\n",
       "      <th>Friday</th>\n",
       "      <td>48833</td>\n",
       "      <td>20814</td>\n",
       "    </tr>\n",
       "    <tr>\n",
       "      <th>Monday</th>\n",
       "      <td>52158</td>\n",
       "      <td>17895</td>\n",
       "    </tr>\n",
       "    <tr>\n",
       "      <th>Saturday</th>\n",
       "      <td>43363</td>\n",
       "      <td>15516</td>\n",
       "    </tr>\n",
       "    <tr>\n",
       "      <th>Sunday</th>\n",
       "      <td>42315</td>\n",
       "      <td>12968</td>\n",
       "    </tr>\n",
       "    <tr>\n",
       "      <th>Thursday</th>\n",
       "      <td>49470</td>\n",
       "      <td>19845</td>\n",
       "    </tr>\n",
       "    <tr>\n",
       "      <th>Tuesday</th>\n",
       "      <td>49658</td>\n",
       "      <td>18755</td>\n",
       "    </tr>\n",
       "    <tr>\n",
       "      <th>Wednesday</th>\n",
       "      <td>50054</td>\n",
       "      <td>19508</td>\n",
       "    </tr>\n",
       "  </tbody>\n",
       "</table>\n",
       "</div>"
      ],
      "text/plain": [
       "               IS_CRIME  IS_TRAFFIC\n",
       "REPORTED_DATE                      \n",
       "Friday            48833       20814\n",
       "Monday            52158       17895\n",
       "Saturday          43363       15516\n",
       "Sunday            42315       12968\n",
       "Thursday          49470       19845\n",
       "Tuesday           49658       18755\n",
       "Wednesday         50054       19508"
      ]
     },
     "execution_count": 144,
     "metadata": {},
     "output_type": "execute_result"
    }
   ],
   "source": [
    "(crime.groupby(lambda idx: idx.day_name())[\"IS_CRIME\", \"IS_TRAFFIC\"].sum())"
   ]
  },
  {
   "cell_type": "code",
   "execution_count": 145,
   "metadata": {
    "lines_to_next_cell": 2
   },
   "outputs": [
    {
     "name": "stderr",
     "output_type": "stream",
     "text": [
      "C:\\Users\\aaronhsu\\AppData\\Local\\Temp\\ipykernel_24768\\942505586.py:2: FutureWarning: Indexing with multiple keys (implicitly converted to a tuple of keys) will be deprecated, use a list instead.\n",
      "  (crime\n"
     ]
    },
    {
     "data": {
      "text/html": [
       "<div>\n",
       "<style scoped>\n",
       "    .dataframe tbody tr th:only-of-type {\n",
       "        vertical-align: middle;\n",
       "    }\n",
       "\n",
       "    .dataframe tbody tr th {\n",
       "        vertical-align: top;\n",
       "    }\n",
       "\n",
       "    .dataframe thead tr th {\n",
       "        text-align: left;\n",
       "    }\n",
       "\n",
       "    .dataframe thead tr:last-of-type th {\n",
       "        text-align: right;\n",
       "    }\n",
       "</style>\n",
       "<table border=\"1\" class=\"dataframe\">\n",
       "  <thead>\n",
       "    <tr>\n",
       "      <th></th>\n",
       "      <th colspan=\"6\" halign=\"left\">IS_CRIME</th>\n",
       "      <th colspan=\"6\" halign=\"left\">IS_TRAFFIC</th>\n",
       "    </tr>\n",
       "    <tr>\n",
       "      <th>REPORTED_DATE</th>\n",
       "      <th>2012</th>\n",
       "      <th>2013</th>\n",
       "      <th>2014</th>\n",
       "      <th>2015</th>\n",
       "      <th>2016</th>\n",
       "      <th>2017</th>\n",
       "      <th>2012</th>\n",
       "      <th>2013</th>\n",
       "      <th>2014</th>\n",
       "      <th>2015</th>\n",
       "      <th>2016</th>\n",
       "      <th>2017</th>\n",
       "    </tr>\n",
       "    <tr>\n",
       "      <th>REPORTED_DATE</th>\n",
       "      <th></th>\n",
       "      <th></th>\n",
       "      <th></th>\n",
       "      <th></th>\n",
       "      <th></th>\n",
       "      <th></th>\n",
       "      <th></th>\n",
       "      <th></th>\n",
       "      <th></th>\n",
       "      <th></th>\n",
       "      <th></th>\n",
       "      <th></th>\n",
       "    </tr>\n",
       "  </thead>\n",
       "  <tbody>\n",
       "    <tr>\n",
       "      <th>0</th>\n",
       "      <td>2422</td>\n",
       "      <td>4040</td>\n",
       "      <td>5649</td>\n",
       "      <td>5649</td>\n",
       "      <td>5377</td>\n",
       "      <td>3811</td>\n",
       "      <td>919</td>\n",
       "      <td>792</td>\n",
       "      <td>978</td>\n",
       "      <td>1136</td>\n",
       "      <td>980</td>\n",
       "      <td>782</td>\n",
       "    </tr>\n",
       "    <tr>\n",
       "      <th>2</th>\n",
       "      <td>1888</td>\n",
       "      <td>3214</td>\n",
       "      <td>4245</td>\n",
       "      <td>4050</td>\n",
       "      <td>4091</td>\n",
       "      <td>3041</td>\n",
       "      <td>718</td>\n",
       "      <td>652</td>\n",
       "      <td>779</td>\n",
       "      <td>773</td>\n",
       "      <td>718</td>\n",
       "      <td>537</td>\n",
       "    </tr>\n",
       "    <tr>\n",
       "      <th>4</th>\n",
       "      <td>1472</td>\n",
       "      <td>2181</td>\n",
       "      <td>2956</td>\n",
       "      <td>2959</td>\n",
       "      <td>3044</td>\n",
       "      <td>2255</td>\n",
       "      <td>399</td>\n",
       "      <td>378</td>\n",
       "      <td>424</td>\n",
       "      <td>471</td>\n",
       "      <td>464</td>\n",
       "      <td>313</td>\n",
       "    </tr>\n",
       "    <tr>\n",
       "      <th>6</th>\n",
       "      <td>1067</td>\n",
       "      <td>1365</td>\n",
       "      <td>1750</td>\n",
       "      <td>2167</td>\n",
       "      <td>2108</td>\n",
       "      <td>1567</td>\n",
       "      <td>411</td>\n",
       "      <td>399</td>\n",
       "      <td>479</td>\n",
       "      <td>494</td>\n",
       "      <td>593</td>\n",
       "      <td>462</td>\n",
       "    </tr>\n",
       "    <tr>\n",
       "      <th>8</th>\n",
       "      <td>2998</td>\n",
       "      <td>3445</td>\n",
       "      <td>3727</td>\n",
       "      <td>4161</td>\n",
       "      <td>4488</td>\n",
       "      <td>3251</td>\n",
       "      <td>1957</td>\n",
       "      <td>1955</td>\n",
       "      <td>2210</td>\n",
       "      <td>2331</td>\n",
       "      <td>2372</td>\n",
       "      <td>1828</td>\n",
       "    </tr>\n",
       "    <tr>\n",
       "      <th>10</th>\n",
       "      <td>4305</td>\n",
       "      <td>5035</td>\n",
       "      <td>5658</td>\n",
       "      <td>6205</td>\n",
       "      <td>6218</td>\n",
       "      <td>4993</td>\n",
       "      <td>1979</td>\n",
       "      <td>1901</td>\n",
       "      <td>2139</td>\n",
       "      <td>2320</td>\n",
       "      <td>2303</td>\n",
       "      <td>1873</td>\n",
       "    </tr>\n",
       "    <tr>\n",
       "      <th>12</th>\n",
       "      <td>4496</td>\n",
       "      <td>5524</td>\n",
       "      <td>6434</td>\n",
       "      <td>6841</td>\n",
       "      <td>7226</td>\n",
       "      <td>5463</td>\n",
       "      <td>2200</td>\n",
       "      <td>2138</td>\n",
       "      <td>2379</td>\n",
       "      <td>2631</td>\n",
       "      <td>2760</td>\n",
       "      <td>1986</td>\n",
       "    </tr>\n",
       "    <tr>\n",
       "      <th>14</th>\n",
       "      <td>4266</td>\n",
       "      <td>5698</td>\n",
       "      <td>6708</td>\n",
       "      <td>7218</td>\n",
       "      <td>6896</td>\n",
       "      <td>5396</td>\n",
       "      <td>2241</td>\n",
       "      <td>2245</td>\n",
       "      <td>2630</td>\n",
       "      <td>2840</td>\n",
       "      <td>2763</td>\n",
       "      <td>1990</td>\n",
       "    </tr>\n",
       "    <tr>\n",
       "      <th>16</th>\n",
       "      <td>4113</td>\n",
       "      <td>5889</td>\n",
       "      <td>7351</td>\n",
       "      <td>7643</td>\n",
       "      <td>7926</td>\n",
       "      <td>6338</td>\n",
       "      <td>2714</td>\n",
       "      <td>2562</td>\n",
       "      <td>3002</td>\n",
       "      <td>3160</td>\n",
       "      <td>3527</td>\n",
       "      <td>2784</td>\n",
       "    </tr>\n",
       "    <tr>\n",
       "      <th>18</th>\n",
       "      <td>3660</td>\n",
       "      <td>5094</td>\n",
       "      <td>6586</td>\n",
       "      <td>7015</td>\n",
       "      <td>7407</td>\n",
       "      <td>6157</td>\n",
       "      <td>3118</td>\n",
       "      <td>2704</td>\n",
       "      <td>3217</td>\n",
       "      <td>3412</td>\n",
       "      <td>3608</td>\n",
       "      <td>2718</td>\n",
       "    </tr>\n",
       "    <tr>\n",
       "      <th>20</th>\n",
       "      <td>3521</td>\n",
       "      <td>4895</td>\n",
       "      <td>6130</td>\n",
       "      <td>6360</td>\n",
       "      <td>6963</td>\n",
       "      <td>5272</td>\n",
       "      <td>1787</td>\n",
       "      <td>1806</td>\n",
       "      <td>1994</td>\n",
       "      <td>2071</td>\n",
       "      <td>2184</td>\n",
       "      <td>1491</td>\n",
       "    </tr>\n",
       "    <tr>\n",
       "      <th>22</th>\n",
       "      <td>3078</td>\n",
       "      <td>4318</td>\n",
       "      <td>5496</td>\n",
       "      <td>5626</td>\n",
       "      <td>5637</td>\n",
       "      <td>4358</td>\n",
       "      <td>1343</td>\n",
       "      <td>1330</td>\n",
       "      <td>1532</td>\n",
       "      <td>1671</td>\n",
       "      <td>1472</td>\n",
       "      <td>1072</td>\n",
       "    </tr>\n",
       "  </tbody>\n",
       "</table>\n",
       "</div>"
      ],
      "text/plain": [
       "              IS_CRIME                               IS_TRAFFIC              \\\n",
       "REPORTED_DATE     2012  2013  2014  2015  2016  2017       2012  2013  2014   \n",
       "REPORTED_DATE                                                                 \n",
       "0                 2422  4040  5649  5649  5377  3811        919   792   978   \n",
       "2                 1888  3214  4245  4050  4091  3041        718   652   779   \n",
       "4                 1472  2181  2956  2959  3044  2255        399   378   424   \n",
       "6                 1067  1365  1750  2167  2108  1567        411   399   479   \n",
       "8                 2998  3445  3727  4161  4488  3251       1957  1955  2210   \n",
       "10                4305  5035  5658  6205  6218  4993       1979  1901  2139   \n",
       "12                4496  5524  6434  6841  7226  5463       2200  2138  2379   \n",
       "14                4266  5698  6708  7218  6896  5396       2241  2245  2630   \n",
       "16                4113  5889  7351  7643  7926  6338       2714  2562  3002   \n",
       "18                3660  5094  6586  7015  7407  6157       3118  2704  3217   \n",
       "20                3521  4895  6130  6360  6963  5272       1787  1806  1994   \n",
       "22                3078  4318  5496  5626  5637  4358       1343  1330  1532   \n",
       "\n",
       "                                 \n",
       "REPORTED_DATE  2015  2016  2017  \n",
       "REPORTED_DATE                    \n",
       "0              1136   980   782  \n",
       "2               773   718   537  \n",
       "4               471   464   313  \n",
       "6               494   593   462  \n",
       "8              2331  2372  1828  \n",
       "10             2320  2303  1873  \n",
       "12             2631  2760  1986  \n",
       "14             2840  2763  1990  \n",
       "16             3160  3527  2784  \n",
       "18             3412  3608  2718  \n",
       "20             2071  2184  1491  \n",
       "22             1671  1472  1072  "
      ]
     },
     "execution_count": 145,
     "metadata": {},
     "output_type": "execute_result"
    }
   ],
   "source": [
    "funcs = [lambda idx: idx.round(\"2h\").hour, lambda idx: idx.year]\n",
    "(crime.groupby(funcs)[\"IS_CRIME\", \"IS_TRAFFIC\"].sum().unstack())"
   ]
  },
  {
   "cell_type": "code",
   "execution_count": 146,
   "metadata": {
    "lines_to_next_cell": 2
   },
   "outputs": [
    {
     "name": "stderr",
     "output_type": "stream",
     "text": [
      "C:\\Users\\aaronhsu\\AppData\\Local\\Temp\\ipykernel_24768\\1047784382.py:2: FutureWarning: Indexing with multiple keys (implicitly converted to a tuple of keys) will be deprecated, use a list instead.\n",
      "  (crime\n"
     ]
    },
    {
     "data": {
      "text/html": [
       "<style type=\"text/css\">\n",
       "#T_9f9eb_row6_col0, #T_9f9eb_row8_col1, #T_9f9eb_row8_col2, #T_9f9eb_row8_col3, #T_9f9eb_row8_col4, #T_9f9eb_row8_col5, #T_9f9eb_row8_col11, #T_9f9eb_row9_col6, #T_9f9eb_row9_col7, #T_9f9eb_row9_col8, #T_9f9eb_row9_col9, #T_9f9eb_row9_col10 {\n",
       "  background-color: lightgrey;\n",
       "}\n",
       "</style>\n",
       "<table id=\"T_9f9eb\">\n",
       "  <thead>\n",
       "    <tr>\n",
       "      <th class=\"blank level0\" >&nbsp;</th>\n",
       "      <th id=\"T_9f9eb_level0_col0\" class=\"col_heading level0 col0\" colspan=\"6\">IS_CRIME</th>\n",
       "      <th id=\"T_9f9eb_level0_col6\" class=\"col_heading level0 col6\" colspan=\"6\">IS_TRAFFIC</th>\n",
       "    </tr>\n",
       "    <tr>\n",
       "      <th class=\"index_name level1\" >REPORTED_DATE</th>\n",
       "      <th id=\"T_9f9eb_level1_col0\" class=\"col_heading level1 col0\" >2012</th>\n",
       "      <th id=\"T_9f9eb_level1_col1\" class=\"col_heading level1 col1\" >2013</th>\n",
       "      <th id=\"T_9f9eb_level1_col2\" class=\"col_heading level1 col2\" >2014</th>\n",
       "      <th id=\"T_9f9eb_level1_col3\" class=\"col_heading level1 col3\" >2015</th>\n",
       "      <th id=\"T_9f9eb_level1_col4\" class=\"col_heading level1 col4\" >2016</th>\n",
       "      <th id=\"T_9f9eb_level1_col5\" class=\"col_heading level1 col5\" >2017</th>\n",
       "      <th id=\"T_9f9eb_level1_col6\" class=\"col_heading level1 col6\" >2012</th>\n",
       "      <th id=\"T_9f9eb_level1_col7\" class=\"col_heading level1 col7\" >2013</th>\n",
       "      <th id=\"T_9f9eb_level1_col8\" class=\"col_heading level1 col8\" >2014</th>\n",
       "      <th id=\"T_9f9eb_level1_col9\" class=\"col_heading level1 col9\" >2015</th>\n",
       "      <th id=\"T_9f9eb_level1_col10\" class=\"col_heading level1 col10\" >2016</th>\n",
       "      <th id=\"T_9f9eb_level1_col11\" class=\"col_heading level1 col11\" >2017</th>\n",
       "    </tr>\n",
       "    <tr>\n",
       "      <th class=\"index_name level0\" >REPORTED_DATE</th>\n",
       "      <th class=\"blank col0\" >&nbsp;</th>\n",
       "      <th class=\"blank col1\" >&nbsp;</th>\n",
       "      <th class=\"blank col2\" >&nbsp;</th>\n",
       "      <th class=\"blank col3\" >&nbsp;</th>\n",
       "      <th class=\"blank col4\" >&nbsp;</th>\n",
       "      <th class=\"blank col5\" >&nbsp;</th>\n",
       "      <th class=\"blank col6\" >&nbsp;</th>\n",
       "      <th class=\"blank col7\" >&nbsp;</th>\n",
       "      <th class=\"blank col8\" >&nbsp;</th>\n",
       "      <th class=\"blank col9\" >&nbsp;</th>\n",
       "      <th class=\"blank col10\" >&nbsp;</th>\n",
       "      <th class=\"blank col11\" >&nbsp;</th>\n",
       "    </tr>\n",
       "  </thead>\n",
       "  <tbody>\n",
       "    <tr>\n",
       "      <th id=\"T_9f9eb_level0_row0\" class=\"row_heading level0 row0\" >0</th>\n",
       "      <td id=\"T_9f9eb_row0_col0\" class=\"data row0 col0\" >2422</td>\n",
       "      <td id=\"T_9f9eb_row0_col1\" class=\"data row0 col1\" >4040</td>\n",
       "      <td id=\"T_9f9eb_row0_col2\" class=\"data row0 col2\" >5649</td>\n",
       "      <td id=\"T_9f9eb_row0_col3\" class=\"data row0 col3\" >5649</td>\n",
       "      <td id=\"T_9f9eb_row0_col4\" class=\"data row0 col4\" >5377</td>\n",
       "      <td id=\"T_9f9eb_row0_col5\" class=\"data row0 col5\" >3811</td>\n",
       "      <td id=\"T_9f9eb_row0_col6\" class=\"data row0 col6\" >919</td>\n",
       "      <td id=\"T_9f9eb_row0_col7\" class=\"data row0 col7\" >792</td>\n",
       "      <td id=\"T_9f9eb_row0_col8\" class=\"data row0 col8\" >978</td>\n",
       "      <td id=\"T_9f9eb_row0_col9\" class=\"data row0 col9\" >1136</td>\n",
       "      <td id=\"T_9f9eb_row0_col10\" class=\"data row0 col10\" >980</td>\n",
       "      <td id=\"T_9f9eb_row0_col11\" class=\"data row0 col11\" >782</td>\n",
       "    </tr>\n",
       "    <tr>\n",
       "      <th id=\"T_9f9eb_level0_row1\" class=\"row_heading level0 row1\" >2</th>\n",
       "      <td id=\"T_9f9eb_row1_col0\" class=\"data row1 col0\" >1888</td>\n",
       "      <td id=\"T_9f9eb_row1_col1\" class=\"data row1 col1\" >3214</td>\n",
       "      <td id=\"T_9f9eb_row1_col2\" class=\"data row1 col2\" >4245</td>\n",
       "      <td id=\"T_9f9eb_row1_col3\" class=\"data row1 col3\" >4050</td>\n",
       "      <td id=\"T_9f9eb_row1_col4\" class=\"data row1 col4\" >4091</td>\n",
       "      <td id=\"T_9f9eb_row1_col5\" class=\"data row1 col5\" >3041</td>\n",
       "      <td id=\"T_9f9eb_row1_col6\" class=\"data row1 col6\" >718</td>\n",
       "      <td id=\"T_9f9eb_row1_col7\" class=\"data row1 col7\" >652</td>\n",
       "      <td id=\"T_9f9eb_row1_col8\" class=\"data row1 col8\" >779</td>\n",
       "      <td id=\"T_9f9eb_row1_col9\" class=\"data row1 col9\" >773</td>\n",
       "      <td id=\"T_9f9eb_row1_col10\" class=\"data row1 col10\" >718</td>\n",
       "      <td id=\"T_9f9eb_row1_col11\" class=\"data row1 col11\" >537</td>\n",
       "    </tr>\n",
       "    <tr>\n",
       "      <th id=\"T_9f9eb_level0_row2\" class=\"row_heading level0 row2\" >4</th>\n",
       "      <td id=\"T_9f9eb_row2_col0\" class=\"data row2 col0\" >1472</td>\n",
       "      <td id=\"T_9f9eb_row2_col1\" class=\"data row2 col1\" >2181</td>\n",
       "      <td id=\"T_9f9eb_row2_col2\" class=\"data row2 col2\" >2956</td>\n",
       "      <td id=\"T_9f9eb_row2_col3\" class=\"data row2 col3\" >2959</td>\n",
       "      <td id=\"T_9f9eb_row2_col4\" class=\"data row2 col4\" >3044</td>\n",
       "      <td id=\"T_9f9eb_row2_col5\" class=\"data row2 col5\" >2255</td>\n",
       "      <td id=\"T_9f9eb_row2_col6\" class=\"data row2 col6\" >399</td>\n",
       "      <td id=\"T_9f9eb_row2_col7\" class=\"data row2 col7\" >378</td>\n",
       "      <td id=\"T_9f9eb_row2_col8\" class=\"data row2 col8\" >424</td>\n",
       "      <td id=\"T_9f9eb_row2_col9\" class=\"data row2 col9\" >471</td>\n",
       "      <td id=\"T_9f9eb_row2_col10\" class=\"data row2 col10\" >464</td>\n",
       "      <td id=\"T_9f9eb_row2_col11\" class=\"data row2 col11\" >313</td>\n",
       "    </tr>\n",
       "    <tr>\n",
       "      <th id=\"T_9f9eb_level0_row3\" class=\"row_heading level0 row3\" >6</th>\n",
       "      <td id=\"T_9f9eb_row3_col0\" class=\"data row3 col0\" >1067</td>\n",
       "      <td id=\"T_9f9eb_row3_col1\" class=\"data row3 col1\" >1365</td>\n",
       "      <td id=\"T_9f9eb_row3_col2\" class=\"data row3 col2\" >1750</td>\n",
       "      <td id=\"T_9f9eb_row3_col3\" class=\"data row3 col3\" >2167</td>\n",
       "      <td id=\"T_9f9eb_row3_col4\" class=\"data row3 col4\" >2108</td>\n",
       "      <td id=\"T_9f9eb_row3_col5\" class=\"data row3 col5\" >1567</td>\n",
       "      <td id=\"T_9f9eb_row3_col6\" class=\"data row3 col6\" >411</td>\n",
       "      <td id=\"T_9f9eb_row3_col7\" class=\"data row3 col7\" >399</td>\n",
       "      <td id=\"T_9f9eb_row3_col8\" class=\"data row3 col8\" >479</td>\n",
       "      <td id=\"T_9f9eb_row3_col9\" class=\"data row3 col9\" >494</td>\n",
       "      <td id=\"T_9f9eb_row3_col10\" class=\"data row3 col10\" >593</td>\n",
       "      <td id=\"T_9f9eb_row3_col11\" class=\"data row3 col11\" >462</td>\n",
       "    </tr>\n",
       "    <tr>\n",
       "      <th id=\"T_9f9eb_level0_row4\" class=\"row_heading level0 row4\" >8</th>\n",
       "      <td id=\"T_9f9eb_row4_col0\" class=\"data row4 col0\" >2998</td>\n",
       "      <td id=\"T_9f9eb_row4_col1\" class=\"data row4 col1\" >3445</td>\n",
       "      <td id=\"T_9f9eb_row4_col2\" class=\"data row4 col2\" >3727</td>\n",
       "      <td id=\"T_9f9eb_row4_col3\" class=\"data row4 col3\" >4161</td>\n",
       "      <td id=\"T_9f9eb_row4_col4\" class=\"data row4 col4\" >4488</td>\n",
       "      <td id=\"T_9f9eb_row4_col5\" class=\"data row4 col5\" >3251</td>\n",
       "      <td id=\"T_9f9eb_row4_col6\" class=\"data row4 col6\" >1957</td>\n",
       "      <td id=\"T_9f9eb_row4_col7\" class=\"data row4 col7\" >1955</td>\n",
       "      <td id=\"T_9f9eb_row4_col8\" class=\"data row4 col8\" >2210</td>\n",
       "      <td id=\"T_9f9eb_row4_col9\" class=\"data row4 col9\" >2331</td>\n",
       "      <td id=\"T_9f9eb_row4_col10\" class=\"data row4 col10\" >2372</td>\n",
       "      <td id=\"T_9f9eb_row4_col11\" class=\"data row4 col11\" >1828</td>\n",
       "    </tr>\n",
       "    <tr>\n",
       "      <th id=\"T_9f9eb_level0_row5\" class=\"row_heading level0 row5\" >10</th>\n",
       "      <td id=\"T_9f9eb_row5_col0\" class=\"data row5 col0\" >4305</td>\n",
       "      <td id=\"T_9f9eb_row5_col1\" class=\"data row5 col1\" >5035</td>\n",
       "      <td id=\"T_9f9eb_row5_col2\" class=\"data row5 col2\" >5658</td>\n",
       "      <td id=\"T_9f9eb_row5_col3\" class=\"data row5 col3\" >6205</td>\n",
       "      <td id=\"T_9f9eb_row5_col4\" class=\"data row5 col4\" >6218</td>\n",
       "      <td id=\"T_9f9eb_row5_col5\" class=\"data row5 col5\" >4993</td>\n",
       "      <td id=\"T_9f9eb_row5_col6\" class=\"data row5 col6\" >1979</td>\n",
       "      <td id=\"T_9f9eb_row5_col7\" class=\"data row5 col7\" >1901</td>\n",
       "      <td id=\"T_9f9eb_row5_col8\" class=\"data row5 col8\" >2139</td>\n",
       "      <td id=\"T_9f9eb_row5_col9\" class=\"data row5 col9\" >2320</td>\n",
       "      <td id=\"T_9f9eb_row5_col10\" class=\"data row5 col10\" >2303</td>\n",
       "      <td id=\"T_9f9eb_row5_col11\" class=\"data row5 col11\" >1873</td>\n",
       "    </tr>\n",
       "    <tr>\n",
       "      <th id=\"T_9f9eb_level0_row6\" class=\"row_heading level0 row6\" >12</th>\n",
       "      <td id=\"T_9f9eb_row6_col0\" class=\"data row6 col0\" >4496</td>\n",
       "      <td id=\"T_9f9eb_row6_col1\" class=\"data row6 col1\" >5524</td>\n",
       "      <td id=\"T_9f9eb_row6_col2\" class=\"data row6 col2\" >6434</td>\n",
       "      <td id=\"T_9f9eb_row6_col3\" class=\"data row6 col3\" >6841</td>\n",
       "      <td id=\"T_9f9eb_row6_col4\" class=\"data row6 col4\" >7226</td>\n",
       "      <td id=\"T_9f9eb_row6_col5\" class=\"data row6 col5\" >5463</td>\n",
       "      <td id=\"T_9f9eb_row6_col6\" class=\"data row6 col6\" >2200</td>\n",
       "      <td id=\"T_9f9eb_row6_col7\" class=\"data row6 col7\" >2138</td>\n",
       "      <td id=\"T_9f9eb_row6_col8\" class=\"data row6 col8\" >2379</td>\n",
       "      <td id=\"T_9f9eb_row6_col9\" class=\"data row6 col9\" >2631</td>\n",
       "      <td id=\"T_9f9eb_row6_col10\" class=\"data row6 col10\" >2760</td>\n",
       "      <td id=\"T_9f9eb_row6_col11\" class=\"data row6 col11\" >1986</td>\n",
       "    </tr>\n",
       "    <tr>\n",
       "      <th id=\"T_9f9eb_level0_row7\" class=\"row_heading level0 row7\" >14</th>\n",
       "      <td id=\"T_9f9eb_row7_col0\" class=\"data row7 col0\" >4266</td>\n",
       "      <td id=\"T_9f9eb_row7_col1\" class=\"data row7 col1\" >5698</td>\n",
       "      <td id=\"T_9f9eb_row7_col2\" class=\"data row7 col2\" >6708</td>\n",
       "      <td id=\"T_9f9eb_row7_col3\" class=\"data row7 col3\" >7218</td>\n",
       "      <td id=\"T_9f9eb_row7_col4\" class=\"data row7 col4\" >6896</td>\n",
       "      <td id=\"T_9f9eb_row7_col5\" class=\"data row7 col5\" >5396</td>\n",
       "      <td id=\"T_9f9eb_row7_col6\" class=\"data row7 col6\" >2241</td>\n",
       "      <td id=\"T_9f9eb_row7_col7\" class=\"data row7 col7\" >2245</td>\n",
       "      <td id=\"T_9f9eb_row7_col8\" class=\"data row7 col8\" >2630</td>\n",
       "      <td id=\"T_9f9eb_row7_col9\" class=\"data row7 col9\" >2840</td>\n",
       "      <td id=\"T_9f9eb_row7_col10\" class=\"data row7 col10\" >2763</td>\n",
       "      <td id=\"T_9f9eb_row7_col11\" class=\"data row7 col11\" >1990</td>\n",
       "    </tr>\n",
       "    <tr>\n",
       "      <th id=\"T_9f9eb_level0_row8\" class=\"row_heading level0 row8\" >16</th>\n",
       "      <td id=\"T_9f9eb_row8_col0\" class=\"data row8 col0\" >4113</td>\n",
       "      <td id=\"T_9f9eb_row8_col1\" class=\"data row8 col1\" >5889</td>\n",
       "      <td id=\"T_9f9eb_row8_col2\" class=\"data row8 col2\" >7351</td>\n",
       "      <td id=\"T_9f9eb_row8_col3\" class=\"data row8 col3\" >7643</td>\n",
       "      <td id=\"T_9f9eb_row8_col4\" class=\"data row8 col4\" >7926</td>\n",
       "      <td id=\"T_9f9eb_row8_col5\" class=\"data row8 col5\" >6338</td>\n",
       "      <td id=\"T_9f9eb_row8_col6\" class=\"data row8 col6\" >2714</td>\n",
       "      <td id=\"T_9f9eb_row8_col7\" class=\"data row8 col7\" >2562</td>\n",
       "      <td id=\"T_9f9eb_row8_col8\" class=\"data row8 col8\" >3002</td>\n",
       "      <td id=\"T_9f9eb_row8_col9\" class=\"data row8 col9\" >3160</td>\n",
       "      <td id=\"T_9f9eb_row8_col10\" class=\"data row8 col10\" >3527</td>\n",
       "      <td id=\"T_9f9eb_row8_col11\" class=\"data row8 col11\" >2784</td>\n",
       "    </tr>\n",
       "    <tr>\n",
       "      <th id=\"T_9f9eb_level0_row9\" class=\"row_heading level0 row9\" >18</th>\n",
       "      <td id=\"T_9f9eb_row9_col0\" class=\"data row9 col0\" >3660</td>\n",
       "      <td id=\"T_9f9eb_row9_col1\" class=\"data row9 col1\" >5094</td>\n",
       "      <td id=\"T_9f9eb_row9_col2\" class=\"data row9 col2\" >6586</td>\n",
       "      <td id=\"T_9f9eb_row9_col3\" class=\"data row9 col3\" >7015</td>\n",
       "      <td id=\"T_9f9eb_row9_col4\" class=\"data row9 col4\" >7407</td>\n",
       "      <td id=\"T_9f9eb_row9_col5\" class=\"data row9 col5\" >6157</td>\n",
       "      <td id=\"T_9f9eb_row9_col6\" class=\"data row9 col6\" >3118</td>\n",
       "      <td id=\"T_9f9eb_row9_col7\" class=\"data row9 col7\" >2704</td>\n",
       "      <td id=\"T_9f9eb_row9_col8\" class=\"data row9 col8\" >3217</td>\n",
       "      <td id=\"T_9f9eb_row9_col9\" class=\"data row9 col9\" >3412</td>\n",
       "      <td id=\"T_9f9eb_row9_col10\" class=\"data row9 col10\" >3608</td>\n",
       "      <td id=\"T_9f9eb_row9_col11\" class=\"data row9 col11\" >2718</td>\n",
       "    </tr>\n",
       "    <tr>\n",
       "      <th id=\"T_9f9eb_level0_row10\" class=\"row_heading level0 row10\" >20</th>\n",
       "      <td id=\"T_9f9eb_row10_col0\" class=\"data row10 col0\" >3521</td>\n",
       "      <td id=\"T_9f9eb_row10_col1\" class=\"data row10 col1\" >4895</td>\n",
       "      <td id=\"T_9f9eb_row10_col2\" class=\"data row10 col2\" >6130</td>\n",
       "      <td id=\"T_9f9eb_row10_col3\" class=\"data row10 col3\" >6360</td>\n",
       "      <td id=\"T_9f9eb_row10_col4\" class=\"data row10 col4\" >6963</td>\n",
       "      <td id=\"T_9f9eb_row10_col5\" class=\"data row10 col5\" >5272</td>\n",
       "      <td id=\"T_9f9eb_row10_col6\" class=\"data row10 col6\" >1787</td>\n",
       "      <td id=\"T_9f9eb_row10_col7\" class=\"data row10 col7\" >1806</td>\n",
       "      <td id=\"T_9f9eb_row10_col8\" class=\"data row10 col8\" >1994</td>\n",
       "      <td id=\"T_9f9eb_row10_col9\" class=\"data row10 col9\" >2071</td>\n",
       "      <td id=\"T_9f9eb_row10_col10\" class=\"data row10 col10\" >2184</td>\n",
       "      <td id=\"T_9f9eb_row10_col11\" class=\"data row10 col11\" >1491</td>\n",
       "    </tr>\n",
       "    <tr>\n",
       "      <th id=\"T_9f9eb_level0_row11\" class=\"row_heading level0 row11\" >22</th>\n",
       "      <td id=\"T_9f9eb_row11_col0\" class=\"data row11 col0\" >3078</td>\n",
       "      <td id=\"T_9f9eb_row11_col1\" class=\"data row11 col1\" >4318</td>\n",
       "      <td id=\"T_9f9eb_row11_col2\" class=\"data row11 col2\" >5496</td>\n",
       "      <td id=\"T_9f9eb_row11_col3\" class=\"data row11 col3\" >5626</td>\n",
       "      <td id=\"T_9f9eb_row11_col4\" class=\"data row11 col4\" >5637</td>\n",
       "      <td id=\"T_9f9eb_row11_col5\" class=\"data row11 col5\" >4358</td>\n",
       "      <td id=\"T_9f9eb_row11_col6\" class=\"data row11 col6\" >1343</td>\n",
       "      <td id=\"T_9f9eb_row11_col7\" class=\"data row11 col7\" >1330</td>\n",
       "      <td id=\"T_9f9eb_row11_col8\" class=\"data row11 col8\" >1532</td>\n",
       "      <td id=\"T_9f9eb_row11_col9\" class=\"data row11 col9\" >1671</td>\n",
       "      <td id=\"T_9f9eb_row11_col10\" class=\"data row11 col10\" >1472</td>\n",
       "      <td id=\"T_9f9eb_row11_col11\" class=\"data row11 col11\" >1072</td>\n",
       "    </tr>\n",
       "  </tbody>\n",
       "</table>\n"
      ],
      "text/plain": [
       "<pandas.io.formats.style.Styler at 0x1ba2a0542b0>"
      ]
     },
     "execution_count": 146,
     "metadata": {},
     "output_type": "execute_result"
    }
   ],
   "source": [
    "funcs = [lambda idx: idx.round(\"2h\").hour, lambda idx: idx.year]\n",
    "(\n",
    "  crime.groupby(funcs)[\"IS_CRIME\", \"IS_TRAFFIC\"]\n",
    "  .sum()\n",
    "  .unstack()\n",
    "  .style.highlight_max(color=\"lightgrey\")\n",
    ")"
   ]
  },
  {
   "cell_type": "markdown",
   "metadata": {},
   "source": [
    "## 11.9 使用Timestamp與另一欄位來分組"
   ]
  },
  {
   "cell_type": "code",
   "execution_count": 150,
   "metadata": {
    "lines_to_next_cell": 2
   },
   "outputs": [
    {
     "data": {
      "text/html": [
       "<div>\n",
       "<style scoped>\n",
       "    .dataframe tbody tr th:only-of-type {\n",
       "        vertical-align: middle;\n",
       "    }\n",
       "\n",
       "    .dataframe tbody tr th {\n",
       "        vertical-align: top;\n",
       "    }\n",
       "\n",
       "    .dataframe thead th {\n",
       "        text-align: right;\n",
       "    }\n",
       "</style>\n",
       "<table border=\"1\" class=\"dataframe\">\n",
       "  <thead>\n",
       "    <tr style=\"text-align: right;\">\n",
       "      <th></th>\n",
       "      <th>UNIQUE_ID</th>\n",
       "      <th>POSITION_TITLE</th>\n",
       "      <th>DEPARTMENT</th>\n",
       "      <th>BASE_SALARY</th>\n",
       "      <th>RACE</th>\n",
       "      <th>EMPLOYMENT_TYPE</th>\n",
       "      <th>GENDER</th>\n",
       "      <th>EMPLOYMENT_STATUS</th>\n",
       "      <th>JOB_DATE</th>\n",
       "    </tr>\n",
       "    <tr>\n",
       "      <th>HIRE_DATE</th>\n",
       "      <th></th>\n",
       "      <th></th>\n",
       "      <th></th>\n",
       "      <th></th>\n",
       "      <th></th>\n",
       "      <th></th>\n",
       "      <th></th>\n",
       "      <th></th>\n",
       "      <th></th>\n",
       "    </tr>\n",
       "  </thead>\n",
       "  <tbody>\n",
       "    <tr>\n",
       "      <th>2006-06-12</th>\n",
       "      <td>0</td>\n",
       "      <td>ASSISTANT DIRECTOR (EX LVL)</td>\n",
       "      <td>Municipal Courts Department</td>\n",
       "      <td>121862.0</td>\n",
       "      <td>Hispanic/Latino</td>\n",
       "      <td>Full Time</td>\n",
       "      <td>Female</td>\n",
       "      <td>Active</td>\n",
       "      <td>2012-10-13</td>\n",
       "    </tr>\n",
       "    <tr>\n",
       "      <th>2000-07-19</th>\n",
       "      <td>1</td>\n",
       "      <td>LIBRARY ASSISTANT</td>\n",
       "      <td>Library</td>\n",
       "      <td>26125.0</td>\n",
       "      <td>Hispanic/Latino</td>\n",
       "      <td>Full Time</td>\n",
       "      <td>Female</td>\n",
       "      <td>Active</td>\n",
       "      <td>2010-09-18</td>\n",
       "    </tr>\n",
       "    <tr>\n",
       "      <th>2015-02-03</th>\n",
       "      <td>2</td>\n",
       "      <td>POLICE OFFICER</td>\n",
       "      <td>Houston Police Department-HPD</td>\n",
       "      <td>45279.0</td>\n",
       "      <td>White</td>\n",
       "      <td>Full Time</td>\n",
       "      <td>Male</td>\n",
       "      <td>Active</td>\n",
       "      <td>2015-02-03</td>\n",
       "    </tr>\n",
       "    <tr>\n",
       "      <th>1982-02-08</th>\n",
       "      <td>3</td>\n",
       "      <td>ENGINEER/OPERATOR</td>\n",
       "      <td>Houston Fire Department (HFD)</td>\n",
       "      <td>63166.0</td>\n",
       "      <td>White</td>\n",
       "      <td>Full Time</td>\n",
       "      <td>Male</td>\n",
       "      <td>Active</td>\n",
       "      <td>1991-05-25</td>\n",
       "    </tr>\n",
       "    <tr>\n",
       "      <th>1989-06-19</th>\n",
       "      <td>4</td>\n",
       "      <td>ELECTRICIAN</td>\n",
       "      <td>General Services Department</td>\n",
       "      <td>56347.0</td>\n",
       "      <td>White</td>\n",
       "      <td>Full Time</td>\n",
       "      <td>Male</td>\n",
       "      <td>Active</td>\n",
       "      <td>1994-10-22</td>\n",
       "    </tr>\n",
       "    <tr>\n",
       "      <th>...</th>\n",
       "      <td>...</td>\n",
       "      <td>...</td>\n",
       "      <td>...</td>\n",
       "      <td>...</td>\n",
       "      <td>...</td>\n",
       "      <td>...</td>\n",
       "      <td>...</td>\n",
       "      <td>...</td>\n",
       "      <td>...</td>\n",
       "    </tr>\n",
       "    <tr>\n",
       "      <th>2014-06-09</th>\n",
       "      <td>1995</td>\n",
       "      <td>POLICE OFFICER</td>\n",
       "      <td>Houston Police Department-HPD</td>\n",
       "      <td>43443.0</td>\n",
       "      <td>White</td>\n",
       "      <td>Full Time</td>\n",
       "      <td>Male</td>\n",
       "      <td>Active</td>\n",
       "      <td>2015-06-09</td>\n",
       "    </tr>\n",
       "    <tr>\n",
       "      <th>2003-09-02</th>\n",
       "      <td>1996</td>\n",
       "      <td>COMMUNICATIONS CAPTAIN</td>\n",
       "      <td>Houston Fire Department (HFD)</td>\n",
       "      <td>66523.0</td>\n",
       "      <td>Black or African American</td>\n",
       "      <td>Full Time</td>\n",
       "      <td>Male</td>\n",
       "      <td>Active</td>\n",
       "      <td>2013-10-06</td>\n",
       "    </tr>\n",
       "    <tr>\n",
       "      <th>2014-10-13</th>\n",
       "      <td>1997</td>\n",
       "      <td>POLICE OFFICER</td>\n",
       "      <td>Houston Police Department-HPD</td>\n",
       "      <td>43443.0</td>\n",
       "      <td>White</td>\n",
       "      <td>Full Time</td>\n",
       "      <td>Male</td>\n",
       "      <td>Active</td>\n",
       "      <td>2015-10-13</td>\n",
       "    </tr>\n",
       "    <tr>\n",
       "      <th>2009-01-20</th>\n",
       "      <td>1998</td>\n",
       "      <td>POLICE OFFICER</td>\n",
       "      <td>Houston Police Department-HPD</td>\n",
       "      <td>55461.0</td>\n",
       "      <td>Asian/Pacific Islander</td>\n",
       "      <td>Full Time</td>\n",
       "      <td>Male</td>\n",
       "      <td>Active</td>\n",
       "      <td>2011-07-02</td>\n",
       "    </tr>\n",
       "    <tr>\n",
       "      <th>2009-01-12</th>\n",
       "      <td>1999</td>\n",
       "      <td>FIRE FIGHTER</td>\n",
       "      <td>Houston Fire Department (HFD)</td>\n",
       "      <td>51194.0</td>\n",
       "      <td>Hispanic/Latino</td>\n",
       "      <td>Full Time</td>\n",
       "      <td>Male</td>\n",
       "      <td>Active</td>\n",
       "      <td>2010-07-12</td>\n",
       "    </tr>\n",
       "  </tbody>\n",
       "</table>\n",
       "<p>2000 rows × 9 columns</p>\n",
       "</div>"
      ],
      "text/plain": [
       "            UNIQUE_ID               POSITION_TITLE  \\\n",
       "HIRE_DATE                                            \n",
       "2006-06-12          0  ASSISTANT DIRECTOR (EX LVL)   \n",
       "2000-07-19          1            LIBRARY ASSISTANT   \n",
       "2015-02-03          2               POLICE OFFICER   \n",
       "1982-02-08          3            ENGINEER/OPERATOR   \n",
       "1989-06-19          4                  ELECTRICIAN   \n",
       "...               ...                          ...   \n",
       "2014-06-09       1995               POLICE OFFICER   \n",
       "2003-09-02       1996       COMMUNICATIONS CAPTAIN   \n",
       "2014-10-13       1997               POLICE OFFICER   \n",
       "2009-01-20       1998               POLICE OFFICER   \n",
       "2009-01-12       1999                 FIRE FIGHTER   \n",
       "\n",
       "                               DEPARTMENT  BASE_SALARY  \\\n",
       "HIRE_DATE                                                \n",
       "2006-06-12    Municipal Courts Department     121862.0   \n",
       "2000-07-19                        Library      26125.0   \n",
       "2015-02-03  Houston Police Department-HPD      45279.0   \n",
       "1982-02-08  Houston Fire Department (HFD)      63166.0   \n",
       "1989-06-19    General Services Department      56347.0   \n",
       "...                                   ...          ...   \n",
       "2014-06-09  Houston Police Department-HPD      43443.0   \n",
       "2003-09-02  Houston Fire Department (HFD)      66523.0   \n",
       "2014-10-13  Houston Police Department-HPD      43443.0   \n",
       "2009-01-20  Houston Police Department-HPD      55461.0   \n",
       "2009-01-12  Houston Fire Department (HFD)      51194.0   \n",
       "\n",
       "                                 RACE EMPLOYMENT_TYPE  GENDER  \\\n",
       "HIRE_DATE                                                       \n",
       "2006-06-12            Hispanic/Latino       Full Time  Female   \n",
       "2000-07-19            Hispanic/Latino       Full Time  Female   \n",
       "2015-02-03                      White       Full Time    Male   \n",
       "1982-02-08                      White       Full Time    Male   \n",
       "1989-06-19                      White       Full Time    Male   \n",
       "...                               ...             ...     ...   \n",
       "2014-06-09                      White       Full Time    Male   \n",
       "2003-09-02  Black or African American       Full Time    Male   \n",
       "2014-10-13                      White       Full Time    Male   \n",
       "2009-01-20     Asian/Pacific Islander       Full Time    Male   \n",
       "2009-01-12            Hispanic/Latino       Full Time    Male   \n",
       "\n",
       "           EMPLOYMENT_STATUS   JOB_DATE  \n",
       "HIRE_DATE                                \n",
       "2006-06-12            Active 2012-10-13  \n",
       "2000-07-19            Active 2010-09-18  \n",
       "2015-02-03            Active 2015-02-03  \n",
       "1982-02-08            Active 1991-05-25  \n",
       "1989-06-19            Active 1994-10-22  \n",
       "...                      ...        ...  \n",
       "2014-06-09            Active 2015-06-09  \n",
       "2003-09-02            Active 2013-10-06  \n",
       "2014-10-13            Active 2015-10-13  \n",
       "2009-01-20            Active 2011-07-02  \n",
       "2009-01-12            Active 2010-07-12  \n",
       "\n",
       "[2000 rows x 9 columns]"
      ]
     },
     "execution_count": 150,
     "metadata": {},
     "output_type": "execute_result"
    }
   ],
   "source": [
    "employee = pd.read_csv(\n",
    "  \"data/employee.csv\", parse_dates=[\"JOB_DATE\", \"HIRE_DATE\"], index_col=\"HIRE_DATE\"\n",
    ")\n",
    "employee"
   ]
  },
  {
   "cell_type": "code",
   "execution_count": 151,
   "metadata": {
    "lines_to_next_cell": 2
   },
   "outputs": [
    {
     "data": {
      "text/plain": [
       "GENDER\n",
       "Female    52200.0\n",
       "Male      57400.0\n",
       "Name: BASE_SALARY, dtype: float64"
      ]
     },
     "execution_count": 151,
     "metadata": {},
     "output_type": "execute_result"
    }
   ],
   "source": [
    "(employee.groupby(\"GENDER\")[\"BASE_SALARY\"].mean().round(-2))"
   ]
  },
  {
   "cell_type": "code",
   "execution_count": 152,
   "metadata": {
    "lines_to_next_cell": 2
   },
   "outputs": [
    {
     "data": {
      "text/plain": [
       "HIRE_DATE\n",
       "1958-01-01     81200.0\n",
       "1968-01-01    106500.0\n",
       "1978-01-01     69600.0\n",
       "1988-01-01     62300.0\n",
       "1998-01-01     58200.0\n",
       "2008-01-01     47200.0\n",
       "Freq: 10AS-JAN, Name: BASE_SALARY, dtype: float64"
      ]
     },
     "execution_count": 152,
     "metadata": {},
     "output_type": "execute_result"
    }
   ],
   "source": [
    "(employee.resample(\"10AS\")[\"BASE_SALARY\"].mean().round(-2))"
   ]
  },
  {
   "cell_type": "code",
   "execution_count": 153,
   "metadata": {
    "lines_to_next_cell": 2
   },
   "outputs": [
    {
     "data": {
      "text/plain": [
       "GENDER  HIRE_DATE \n",
       "Female  1975-01-01     51600.0\n",
       "        1985-01-01     57600.0\n",
       "        1995-01-01     55500.0\n",
       "        2005-01-01     51700.0\n",
       "        2015-01-01     38600.0\n",
       "Male    1958-01-01     81200.0\n",
       "        1968-01-01    106500.0\n",
       "        1978-01-01     72300.0\n",
       "        1988-01-01     64600.0\n",
       "        1998-01-01     59700.0\n",
       "        2008-01-01     47200.0\n",
       "Name: BASE_SALARY, dtype: float64"
      ]
     },
     "execution_count": 153,
     "metadata": {},
     "output_type": "execute_result"
    }
   ],
   "source": [
    "(employee.groupby(\"GENDER\").resample(\"10AS\")[\"BASE_SALARY\"].mean().round(-2))"
   ]
  },
  {
   "cell_type": "code",
   "execution_count": 154,
   "metadata": {
    "lines_to_next_cell": 2
   },
   "outputs": [
    {
     "data": {
      "text/html": [
       "<div>\n",
       "<style scoped>\n",
       "    .dataframe tbody tr th:only-of-type {\n",
       "        vertical-align: middle;\n",
       "    }\n",
       "\n",
       "    .dataframe tbody tr th {\n",
       "        vertical-align: top;\n",
       "    }\n",
       "\n",
       "    .dataframe thead th {\n",
       "        text-align: right;\n",
       "    }\n",
       "</style>\n",
       "<table border=\"1\" class=\"dataframe\">\n",
       "  <thead>\n",
       "    <tr style=\"text-align: right;\">\n",
       "      <th>GENDER</th>\n",
       "      <th>Female</th>\n",
       "      <th>Male</th>\n",
       "    </tr>\n",
       "    <tr>\n",
       "      <th>HIRE_DATE</th>\n",
       "      <th></th>\n",
       "      <th></th>\n",
       "    </tr>\n",
       "  </thead>\n",
       "  <tbody>\n",
       "    <tr>\n",
       "      <th>1958-01-01</th>\n",
       "      <td>NaN</td>\n",
       "      <td>81200.0</td>\n",
       "    </tr>\n",
       "    <tr>\n",
       "      <th>1968-01-01</th>\n",
       "      <td>NaN</td>\n",
       "      <td>106500.0</td>\n",
       "    </tr>\n",
       "    <tr>\n",
       "      <th>1975-01-01</th>\n",
       "      <td>51600.0</td>\n",
       "      <td>NaN</td>\n",
       "    </tr>\n",
       "    <tr>\n",
       "      <th>1978-01-01</th>\n",
       "      <td>NaN</td>\n",
       "      <td>72300.0</td>\n",
       "    </tr>\n",
       "    <tr>\n",
       "      <th>1985-01-01</th>\n",
       "      <td>57600.0</td>\n",
       "      <td>NaN</td>\n",
       "    </tr>\n",
       "    <tr>\n",
       "      <th>1988-01-01</th>\n",
       "      <td>NaN</td>\n",
       "      <td>64600.0</td>\n",
       "    </tr>\n",
       "    <tr>\n",
       "      <th>1995-01-01</th>\n",
       "      <td>55500.0</td>\n",
       "      <td>NaN</td>\n",
       "    </tr>\n",
       "    <tr>\n",
       "      <th>1998-01-01</th>\n",
       "      <td>NaN</td>\n",
       "      <td>59700.0</td>\n",
       "    </tr>\n",
       "    <tr>\n",
       "      <th>2005-01-01</th>\n",
       "      <td>51700.0</td>\n",
       "      <td>NaN</td>\n",
       "    </tr>\n",
       "    <tr>\n",
       "      <th>2008-01-01</th>\n",
       "      <td>NaN</td>\n",
       "      <td>47200.0</td>\n",
       "    </tr>\n",
       "    <tr>\n",
       "      <th>2015-01-01</th>\n",
       "      <td>38600.0</td>\n",
       "      <td>NaN</td>\n",
       "    </tr>\n",
       "  </tbody>\n",
       "</table>\n",
       "</div>"
      ],
      "text/plain": [
       "GENDER       Female      Male\n",
       "HIRE_DATE                    \n",
       "1958-01-01      NaN   81200.0\n",
       "1968-01-01      NaN  106500.0\n",
       "1975-01-01  51600.0       NaN\n",
       "1978-01-01      NaN   72300.0\n",
       "1985-01-01  57600.0       NaN\n",
       "1988-01-01      NaN   64600.0\n",
       "1995-01-01  55500.0       NaN\n",
       "1998-01-01      NaN   59700.0\n",
       "2005-01-01  51700.0       NaN\n",
       "2008-01-01      NaN   47200.0\n",
       "2015-01-01  38600.0       NaN"
      ]
     },
     "execution_count": 154,
     "metadata": {},
     "output_type": "execute_result"
    }
   ],
   "source": [
    "(\n",
    "  employee.groupby(\"GENDER\")\n",
    "  .resample(\"10AS\")[\"BASE_SALARY\"]\n",
    "  .mean()\n",
    "  .round(-2)\n",
    "  .unstack(\"GENDER\")\n",
    ")"
   ]
  },
  {
   "cell_type": "code",
   "execution_count": 155,
   "metadata": {
    "lines_to_next_cell": 2
   },
   "outputs": [
    {
     "data": {
      "text/plain": [
       "Timestamp('1958-12-29 00:00:00')"
      ]
     },
     "execution_count": 155,
     "metadata": {},
     "output_type": "execute_result"
    }
   ],
   "source": [
    "employee[employee[\"GENDER\"] == \"Male\"].index.min()"
   ]
  },
  {
   "cell_type": "code",
   "execution_count": 156,
   "metadata": {
    "lines_to_next_cell": 2
   },
   "outputs": [
    {
     "data": {
      "text/plain": [
       "Timestamp('1975-06-09 00:00:00')"
      ]
     },
     "execution_count": 156,
     "metadata": {},
     "output_type": "execute_result"
    }
   ],
   "source": [
    "employee[employee[\"GENDER\"] == \"Female\"].index.min()"
   ]
  },
  {
   "cell_type": "code",
   "execution_count": 158,
   "metadata": {
    "lines_to_next_cell": 2
   },
   "outputs": [
    {
     "data": {
      "text/html": [
       "<div>\n",
       "<style scoped>\n",
       "    .dataframe tbody tr th:only-of-type {\n",
       "        vertical-align: middle;\n",
       "    }\n",
       "\n",
       "    .dataframe tbody tr th {\n",
       "        vertical-align: top;\n",
       "    }\n",
       "\n",
       "    .dataframe thead th {\n",
       "        text-align: right;\n",
       "    }\n",
       "</style>\n",
       "<table border=\"1\" class=\"dataframe\">\n",
       "  <thead>\n",
       "    <tr style=\"text-align: right;\">\n",
       "      <th>GENDER</th>\n",
       "      <th>Female</th>\n",
       "      <th>Male</th>\n",
       "    </tr>\n",
       "    <tr>\n",
       "      <th>HIRE_DATE</th>\n",
       "      <th></th>\n",
       "      <th></th>\n",
       "    </tr>\n",
       "  </thead>\n",
       "  <tbody>\n",
       "    <tr>\n",
       "      <th>1958-01-01</th>\n",
       "      <td>NaN</td>\n",
       "      <td>81200.0</td>\n",
       "    </tr>\n",
       "    <tr>\n",
       "      <th>1968-01-01</th>\n",
       "      <td>NaN</td>\n",
       "      <td>106500.0</td>\n",
       "    </tr>\n",
       "    <tr>\n",
       "      <th>1978-01-01</th>\n",
       "      <td>57100.0</td>\n",
       "      <td>72300.0</td>\n",
       "    </tr>\n",
       "    <tr>\n",
       "      <th>1988-01-01</th>\n",
       "      <td>57100.0</td>\n",
       "      <td>64600.0</td>\n",
       "    </tr>\n",
       "    <tr>\n",
       "      <th>1998-01-01</th>\n",
       "      <td>54700.0</td>\n",
       "      <td>59700.0</td>\n",
       "    </tr>\n",
       "    <tr>\n",
       "      <th>2008-01-01</th>\n",
       "      <td>47300.0</td>\n",
       "      <td>47200.0</td>\n",
       "    </tr>\n",
       "  </tbody>\n",
       "</table>\n",
       "</div>"
      ],
      "text/plain": [
       "GENDER       Female      Male\n",
       "HIRE_DATE                    \n",
       "1958-01-01      NaN   81200.0\n",
       "1968-01-01      NaN  106500.0\n",
       "1978-01-01  57100.0   72300.0\n",
       "1988-01-01  57100.0   64600.0\n",
       "1998-01-01  54700.0   59700.0\n",
       "2008-01-01  47300.0   47200.0"
      ]
     },
     "execution_count": 158,
     "metadata": {},
     "output_type": "execute_result"
    }
   ],
   "source": [
    "(\n",
    "  employee.groupby([\"GENDER\", pd.Grouper(freq=\"10AS\")])[\"BASE_SALARY\"]\n",
    "  .mean()\n",
    "  .round(-2)\n",
    "  .unstack(\"GENDER\")\n",
    " )"
   ]
  },
  {
   "cell_type": "code",
   "execution_count": 157,
   "metadata": {
    "lines_to_next_cell": 2
   },
   "outputs": [
    {
     "data": {
      "text/plain": [
       "GENDER  HIRE_DATE \n",
       "Female  1968-01-01         NaN\n",
       "        1978-01-01     57100.0\n",
       "        1988-01-01     57100.0\n",
       "        1998-01-01     54700.0\n",
       "        2008-01-01     47300.0\n",
       "Male    1958-01-01     81200.0\n",
       "        1968-01-01    106500.0\n",
       "        1978-01-01     72300.0\n",
       "        1988-01-01     64600.0\n",
       "        1998-01-01     59700.0\n",
       "        2008-01-01     47200.0\n",
       "Name: BASE_SALARY, dtype: float64"
      ]
     },
     "execution_count": 157,
     "metadata": {},
     "output_type": "execute_result"
    }
   ],
   "source": [
    "(employee.groupby([\"GENDER\", pd.Grouper(freq=\"10AS\")])[\"BASE_SALARY\"].mean().round(-2))"
   ]
  },
  {
   "cell_type": "code",
   "execution_count": 159,
   "metadata": {
    "lines_to_next_cell": 2
   },
   "outputs": [
    {
     "data": {
      "text/html": [
       "<div>\n",
       "<style scoped>\n",
       "    .dataframe tbody tr th:only-of-type {\n",
       "        vertical-align: middle;\n",
       "    }\n",
       "\n",
       "    .dataframe tbody tr th {\n",
       "        vertical-align: top;\n",
       "    }\n",
       "\n",
       "    .dataframe thead th {\n",
       "        text-align: right;\n",
       "    }\n",
       "</style>\n",
       "<table border=\"1\" class=\"dataframe\">\n",
       "  <thead>\n",
       "    <tr style=\"text-align: right;\">\n",
       "      <th>GENDER</th>\n",
       "      <th>Female</th>\n",
       "      <th>Male</th>\n",
       "    </tr>\n",
       "    <tr>\n",
       "      <th>HIRE_DATE</th>\n",
       "      <th></th>\n",
       "      <th></th>\n",
       "    </tr>\n",
       "  </thead>\n",
       "  <tbody>\n",
       "    <tr>\n",
       "      <th>1958-1967</th>\n",
       "      <td>NaN</td>\n",
       "      <td>81200.0</td>\n",
       "    </tr>\n",
       "    <tr>\n",
       "      <th>1968-1977</th>\n",
       "      <td>NaN</td>\n",
       "      <td>106500.0</td>\n",
       "    </tr>\n",
       "    <tr>\n",
       "      <th>1978-1987</th>\n",
       "      <td>57100.0</td>\n",
       "      <td>72300.0</td>\n",
       "    </tr>\n",
       "    <tr>\n",
       "      <th>1988-1997</th>\n",
       "      <td>57100.0</td>\n",
       "      <td>64600.0</td>\n",
       "    </tr>\n",
       "    <tr>\n",
       "      <th>1998-2007</th>\n",
       "      <td>54700.0</td>\n",
       "      <td>59700.0</td>\n",
       "    </tr>\n",
       "    <tr>\n",
       "      <th>2008-2017</th>\n",
       "      <td>47300.0</td>\n",
       "      <td>47200.0</td>\n",
       "    </tr>\n",
       "  </tbody>\n",
       "</table>\n",
       "</div>"
      ],
      "text/plain": [
       "GENDER      Female      Male\n",
       "HIRE_DATE                   \n",
       "1958-1967      NaN   81200.0\n",
       "1968-1977      NaN  106500.0\n",
       "1978-1987  57100.0   72300.0\n",
       "1988-1997  57100.0   64600.0\n",
       "1998-2007  54700.0   59700.0\n",
       "2008-2017  47300.0   47200.0"
      ]
     },
     "execution_count": 159,
     "metadata": {},
     "output_type": "execute_result"
    }
   ],
   "source": [
    "sal_final = (\n",
    "  employee.groupby([\"GENDER\", pd.Grouper(freq=\"10AS\")])[\"BASE_SALARY\"]\n",
    "  .mean()\n",
    "  .round(-2)\n",
    "  .unstack(\"GENDER\")\n",
    ")\n",
    "years = sal_final.index.year\n",
    "years_right = years + 9\n",
    "sal_final.index = years.astype(str) + \"-\" + years_right.astype(str)\n",
    "sal_final"
   ]
  },
  {
   "cell_type": "code",
   "execution_count": 160,
   "metadata": {
    "lines_to_next_cell": 2
   },
   "outputs": [
    {
     "data": {
      "text/plain": [
       "<IntervalArray>\n",
       "[(1958.0, 1970.0], (1970.0, 1981.0], (1981.0, 1993.0], (1993.0, 2004.0], (2004.0, 2016.0]]\n",
       "Length: 5, dtype: interval[float64, right]"
      ]
     },
     "execution_count": 160,
     "metadata": {},
     "output_type": "execute_result"
    }
   ],
   "source": [
    "cuts = pd.cut(employee.index.year, bins=5, precision=0)\n",
    "cuts.categories.values"
   ]
  },
  {
   "cell_type": "code",
   "execution_count": 161,
   "metadata": {},
   "outputs": [
    {
     "data": {
      "text/html": [
       "<div>\n",
       "<style scoped>\n",
       "    .dataframe tbody tr th:only-of-type {\n",
       "        vertical-align: middle;\n",
       "    }\n",
       "\n",
       "    .dataframe tbody tr th {\n",
       "        vertical-align: top;\n",
       "    }\n",
       "\n",
       "    .dataframe thead th {\n",
       "        text-align: right;\n",
       "    }\n",
       "</style>\n",
       "<table border=\"1\" class=\"dataframe\">\n",
       "  <thead>\n",
       "    <tr style=\"text-align: right;\">\n",
       "      <th>GENDER</th>\n",
       "      <th>Female</th>\n",
       "      <th>Male</th>\n",
       "    </tr>\n",
       "  </thead>\n",
       "  <tbody>\n",
       "    <tr>\n",
       "      <th>(1958.0, 1970.0]</th>\n",
       "      <td>NaN</td>\n",
       "      <td>85400.0</td>\n",
       "    </tr>\n",
       "    <tr>\n",
       "      <th>(1970.0, 1981.0]</th>\n",
       "      <td>54400.0</td>\n",
       "      <td>72700.0</td>\n",
       "    </tr>\n",
       "    <tr>\n",
       "      <th>(1981.0, 1993.0]</th>\n",
       "      <td>55700.0</td>\n",
       "      <td>69300.0</td>\n",
       "    </tr>\n",
       "    <tr>\n",
       "      <th>(1993.0, 2004.0]</th>\n",
       "      <td>56500.0</td>\n",
       "      <td>62300.0</td>\n",
       "    </tr>\n",
       "    <tr>\n",
       "      <th>(2004.0, 2016.0]</th>\n",
       "      <td>49100.0</td>\n",
       "      <td>49800.0</td>\n",
       "    </tr>\n",
       "  </tbody>\n",
       "</table>\n",
       "</div>"
      ],
      "text/plain": [
       "GENDER             Female     Male\n",
       "(1958.0, 1970.0]      NaN  85400.0\n",
       "(1970.0, 1981.0]  54400.0  72700.0\n",
       "(1981.0, 1993.0]  55700.0  69300.0\n",
       "(1993.0, 2004.0]  56500.0  62300.0\n",
       "(2004.0, 2016.0]  49100.0  49800.0"
      ]
     },
     "execution_count": 161,
     "metadata": {},
     "output_type": "execute_result"
    }
   ],
   "source": [
    "(employee.groupby([cuts, \"GENDER\"])[\"BASE_SALARY\"].mean().unstack(\"GENDER\").round(-2))"
   ]
  },
  {
   "cell_type": "code",
   "execution_count": 1,
   "metadata": {},
   "outputs": [
    {
     "name": "stdout",
     "output_type": "stream",
     "text": [
      "Done!\n"
     ]
    }
   ],
   "source": [
    "print('Done!')"
   ]
  },
  {
   "cell_type": "code",
   "execution_count": null,
   "metadata": {},
   "outputs": [],
   "source": []
  }
 ],
 "metadata": {
  "jupytext": {
   "cell_metadata_filter": "-all",
   "main_language": "python",
   "notebook_metadata_filter": "-all"
  },
  "kernelspec": {
   "display_name": "Python 3 (ipykernel)",
   "language": "python",
   "name": "python3"
  },
  "language_info": {
   "codemirror_mode": {
    "name": "ipython",
    "version": 3
   },
   "file_extension": ".py",
   "mimetype": "text/x-python",
   "name": "python",
   "nbconvert_exporter": "python",
   "pygments_lexer": "ipython3",
   "version": "3.8.13"
  }
 },
 "nbformat": 4,
 "nbformat_minor": 4
}
